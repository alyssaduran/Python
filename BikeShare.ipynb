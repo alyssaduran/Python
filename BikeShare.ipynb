{
 "cells": [
  {
   "cell_type": "code",
   "execution_count": 47,
   "id": "072723ff",
   "metadata": {
    "ExecuteTime": {
     "end_time": "2023-05-10T15:16:49.639268Z",
     "start_time": "2023-05-10T15:16:49.636233Z"
    }
   },
   "outputs": [],
   "source": [
    "import time\n",
    "import pandas as pd\n",
    "import numpy as np"
   ]
  },
  {
   "cell_type": "markdown",
   "id": "b5db8946",
   "metadata": {},
   "source": [
    "# Data Structure"
   ]
  },
  {
   "cell_type": "code",
   "execution_count": 48,
   "id": "09d970de",
   "metadata": {
    "ExecuteTime": {
     "end_time": "2023-05-10T15:16:52.430390Z",
     "start_time": "2023-05-10T15:16:52.419780Z"
    }
   },
   "outputs": [],
   "source": [
    "CITY_DATA = { 'chicago': 'chicago.csv',\n",
    "              'new york city': 'new_york_city.csv',\n",
    "              'washington': 'washington.csv' }\n",
    "\n",
    "months = ['january', 'february', 'march', 'april', 'may', 'june', 'all']\n",
    "days = ['monday', 'tuesday', 'wednesday', 'thursday', 'friday', 'saturday', 'sunday', 'all']\n",
    "cities = list(CITY_DATA.keys())"
   ]
  },
  {
   "cell_type": "markdown",
   "id": "d79a7a19",
   "metadata": {},
   "source": [
    "# Helper function to ask user input"
   ]
  },
  {
   "cell_type": "code",
   "execution_count": 49,
   "id": "496bbf63",
   "metadata": {
    "ExecuteTime": {
     "end_time": "2023-05-10T15:16:54.489654Z",
     "start_time": "2023-05-10T15:16:54.482628Z"
    }
   },
   "outputs": [],
   "source": [
    "def get_filters():\n",
    "    \"\"\"\n",
    "    Asks user to specify a city, month, and day to analyze.\n",
    "\n",
    "    Returns:\n",
    "        (str) city - name of the city to analyze\n",
    "        (str) month - name of the month to filter by, or \"all\" to apply no month filter\n",
    "        (str) day - name of the day of week to filter by, or \"all\" to apply no day filter\n",
    "    \"\"\"\n",
    "    print('Hello! Let\\'s explore some US bikeshare data!')   \n",
    "    city = None\n",
    "    month = None\n",
    "    day = None\n",
    "    \n",
    "    # get user input for city (chicago, new york city, washington). HINT: Use a while loop to handle invalid inputs\n",
    "\n",
    "    while True:\n",
    "        city = input(\"\\nWhat city would your like to explore? [Chicago, New York City, or Washington?]\\n\").lower()\n",
    "        if city in cities:\n",
    "            print('Awesome!')\n",
    "            break\n",
    "        else:\n",
    "            print('Please choose one of the three cities given')\n",
    "            \n",
    "    # get user input for month (all, january, february, ... , june)        \n",
    "            \n",
    "    while True:\n",
    "        month = input(\"\\nNow please choose one of the following: [January, February, March, April, May, June, or all]\\n\").lower()\n",
    "        if month in months:\n",
    "            print('Great!')\n",
    "            break\n",
    "        else:\n",
    "            print('Please choose one of the given options!')\n",
    "    \n",
    "  # get user input for day of week (all, monday, tuesday, ... sunday)  \n",
    "    \n",
    "    while True:\n",
    "        day = input(\"\\nChoose a day: [Monday, Tuesday, Wednesday, Thursday, Friday, Saturday, Sunday, or all]\\n\").lower()\n",
    "        if day in days:\n",
    "            print('Nice!')\n",
    "            break\n",
    "        else:\n",
    "            print('Please choose one of the days of the week or all!')\n",
    "            \n",
    "    \n",
    "\n",
    "\n",
    "\n",
    "    print('-'*40)\n",
    "    return city, month, day\n",
    "\n",
    "\n"
   ]
  },
  {
   "cell_type": "code",
   "execution_count": 50,
   "id": "6a5bdc67",
   "metadata": {
    "ExecuteTime": {
     "end_time": "2023-05-10T15:17:07.050301Z",
     "start_time": "2023-05-10T15:16:55.501852Z"
    }
   },
   "outputs": [
    {
     "name": "stdout",
     "output_type": "stream",
     "text": [
      "Hello! Let's explore some US bikeshare data!\n",
      "\n",
      "What city would your like to explore? [Chicago, New York City, or Washington?]\n",
      "chicago\n",
      "Awesome!\n",
      "\n",
      "Now please choose one of the following: [January, February, March, April, May, June, or all]\n",
      "january\n",
      "Great!\n",
      "\n",
      "Choose a day: [Monday, Tuesday, Wednesday, Thursday, Friday, Saturday, Sunday, or all]\n",
      "monday\n",
      "Nice!\n",
      "----------------------------------------\n"
     ]
    }
   ],
   "source": [
    "city, month, day = get_filters()"
   ]
  },
  {
   "cell_type": "code",
   "execution_count": 51,
   "id": "7e57d750",
   "metadata": {
    "ExecuteTime": {
     "end_time": "2023-05-10T15:17:08.819236Z",
     "start_time": "2023-05-10T15:17:08.814364Z"
    }
   },
   "outputs": [
    {
     "data": {
      "text/plain": [
       "('chicago', 'january', 'monday')"
      ]
     },
     "execution_count": 51,
     "metadata": {},
     "output_type": "execute_result"
    }
   ],
   "source": [
    "city, month, day"
   ]
  },
  {
   "cell_type": "markdown",
   "id": "a19e3454",
   "metadata": {},
   "source": [
    "# Load Data"
   ]
  },
  {
   "cell_type": "code",
   "execution_count": 52,
   "id": "a6184860",
   "metadata": {
    "ExecuteTime": {
     "end_time": "2023-05-10T15:17:11.415560Z",
     "start_time": "2023-05-10T15:17:11.409168Z"
    }
   },
   "outputs": [],
   "source": [
    "def load_data(city, month, day):\n",
    "    \"\"\"\n",
    "    Loads data for the specified city and filters by month and day if applicable.\n",
    "\n",
    "    Args:\n",
    "        (str) city - name of the city to analyze\n",
    "        (str) month - name of the month to filter by, or \"all\" to apply no month filter\n",
    "        (str) day - name of the day of week to filter by, or \"all\" to apply no day filter\n",
    "    Returns:\n",
    "        df - Pandas DataFrame containing city data filtered by month and day\n",
    "    \"\"\"\n",
    "    #TO DO: Read data from CSV\n",
    "    \n",
    "    df = pd.read_csv(CITY_DATA[city])\n",
    "    \n",
    "    #Converted into Start Time column to datetime\n",
    "    \n",
    "    df['Start Time'] = pd.to_datetime(df['Start Time'])\n",
    "    \n",
    "#TO DO: filter to correct month and day (if not all)\n",
    "\n",
    "    #Extracted month and day to creat new columns\n",
    "    \n",
    "    df['month'] = df['Start Time'].dt.month\n",
    "    \n",
    "    df['day_of_week'] = df['Start Time'].dt.strftime('%A')\n",
    "    \n",
    "    #filter for month\n",
    "    \n",
    "    if month != 'all':\n",
    "        \n",
    "        months = ['january', 'february', 'march', 'april', 'may', 'june', 'all']\n",
    "        \n",
    "        month = months.index(month) + 1\n",
    "        \n",
    "        #Filtering by month to create new dataframe\n",
    "        \n",
    "        df = df[df['month'] == month]\n",
    "   \n",
    "   #filter for day\n",
    "    \n",
    "    if day != 'all':\n",
    "        \n",
    "        days = ['monday', 'tuesday', 'wednesday', 'thursday', 'friday', 'saturday', 'sunday', 'all']\n",
    "        \n",
    "       \n",
    "        \n",
    "        df = df[df['day_of_week'] == day.title()]\n",
    "    \n",
    "\n",
    "    return df\n"
   ]
  },
  {
   "cell_type": "code",
   "execution_count": 53,
   "id": "6da6be72",
   "metadata": {
    "ExecuteTime": {
     "end_time": "2023-05-10T15:17:14.597120Z",
     "start_time": "2023-05-10T15:17:12.208458Z"
    }
   },
   "outputs": [],
   "source": [
    "df = load_data(city, month, day)"
   ]
  },
  {
   "cell_type": "code",
   "execution_count": 54,
   "id": "5123bd7b",
   "metadata": {
    "ExecuteTime": {
     "end_time": "2023-05-10T15:17:14.618149Z",
     "start_time": "2023-05-10T15:17:14.600272Z"
    }
   },
   "outputs": [
    {
     "data": {
      "text/html": [
       "<div>\n",
       "<style scoped>\n",
       "    .dataframe tbody tr th:only-of-type {\n",
       "        vertical-align: middle;\n",
       "    }\n",
       "\n",
       "    .dataframe tbody tr th {\n",
       "        vertical-align: top;\n",
       "    }\n",
       "\n",
       "    .dataframe thead th {\n",
       "        text-align: right;\n",
       "    }\n",
       "</style>\n",
       "<table border=\"1\" class=\"dataframe\">\n",
       "  <thead>\n",
       "    <tr style=\"text-align: right;\">\n",
       "      <th></th>\n",
       "      <th>Unnamed: 0</th>\n",
       "      <th>Start Time</th>\n",
       "      <th>End Time</th>\n",
       "      <th>Trip Duration</th>\n",
       "      <th>Start Station</th>\n",
       "      <th>End Station</th>\n",
       "      <th>User Type</th>\n",
       "      <th>Gender</th>\n",
       "      <th>Birth Year</th>\n",
       "      <th>month</th>\n",
       "      <th>day_of_week</th>\n",
       "    </tr>\n",
       "  </thead>\n",
       "  <tbody>\n",
       "    <tr>\n",
       "      <th>121</th>\n",
       "      <td>42280</td>\n",
       "      <td>2017-01-16 14:54:38</td>\n",
       "      <td>2017-01-16 15:09:03</td>\n",
       "      <td>865</td>\n",
       "      <td>Field Museum</td>\n",
       "      <td>Millennium Park</td>\n",
       "      <td>Subscriber</td>\n",
       "      <td>Male</td>\n",
       "      <td>1992.0</td>\n",
       "      <td>1</td>\n",
       "      <td>Monday</td>\n",
       "    </tr>\n",
       "    <tr>\n",
       "      <th>167</th>\n",
       "      <td>77795</td>\n",
       "      <td>2017-01-23 18:50:16</td>\n",
       "      <td>2017-01-23 18:56:43</td>\n",
       "      <td>387</td>\n",
       "      <td>Indiana Ave &amp; Roosevelt Rd</td>\n",
       "      <td>Michigan Ave &amp; Washington St</td>\n",
       "      <td>Subscriber</td>\n",
       "      <td>Male</td>\n",
       "      <td>1990.0</td>\n",
       "      <td>1</td>\n",
       "      <td>Monday</td>\n",
       "    </tr>\n",
       "    <tr>\n",
       "      <th>236</th>\n",
       "      <td>42046</td>\n",
       "      <td>2017-01-16 11:29:52</td>\n",
       "      <td>2017-01-16 11:43:56</td>\n",
       "      <td>844</td>\n",
       "      <td>Pine Grove Ave &amp; Waveland Ave</td>\n",
       "      <td>Ravenswood Ave &amp; Montrose Ave (*)</td>\n",
       "      <td>Subscriber</td>\n",
       "      <td>Female</td>\n",
       "      <td>1990.0</td>\n",
       "      <td>1</td>\n",
       "      <td>Monday</td>\n",
       "    </tr>\n",
       "    <tr>\n",
       "      <th>253</th>\n",
       "      <td>73287</td>\n",
       "      <td>2017-01-23 07:21:14</td>\n",
       "      <td>2017-01-23 07:32:39</td>\n",
       "      <td>685</td>\n",
       "      <td>Artesian Ave &amp; Hubbard St</td>\n",
       "      <td>Racine Ave (May St) &amp; Fulton St</td>\n",
       "      <td>Subscriber</td>\n",
       "      <td>Male</td>\n",
       "      <td>1972.0</td>\n",
       "      <td>1</td>\n",
       "      <td>Monday</td>\n",
       "    </tr>\n",
       "    <tr>\n",
       "      <th>256</th>\n",
       "      <td>3680</td>\n",
       "      <td>2017-01-02 23:40:20</td>\n",
       "      <td>2017-01-02 23:45:25</td>\n",
       "      <td>305</td>\n",
       "      <td>Lincoln Ave &amp; Diversey Pkwy</td>\n",
       "      <td>Lincoln Ave &amp; Belmont Ave</td>\n",
       "      <td>Subscriber</td>\n",
       "      <td>Male</td>\n",
       "      <td>1987.0</td>\n",
       "      <td>1</td>\n",
       "      <td>Monday</td>\n",
       "    </tr>\n",
       "    <tr>\n",
       "      <th>496</th>\n",
       "      <td>2337</td>\n",
       "      <td>2017-01-02 11:28:54</td>\n",
       "      <td>2017-01-02 11:46:50</td>\n",
       "      <td>1076</td>\n",
       "      <td>Desplaines St &amp; Kinzie St</td>\n",
       "      <td>Desplaines St &amp; Kinzie St</td>\n",
       "      <td>Subscriber</td>\n",
       "      <td>Male</td>\n",
       "      <td>1985.0</td>\n",
       "      <td>1</td>\n",
       "      <td>Monday</td>\n",
       "    </tr>\n",
       "    <tr>\n",
       "      <th>579</th>\n",
       "      <td>76688</td>\n",
       "      <td>2017-01-23 17:10:46</td>\n",
       "      <td>2017-01-23 17:17:47</td>\n",
       "      <td>421</td>\n",
       "      <td>Financial Pl &amp; Congress Pkwy</td>\n",
       "      <td>Wabash Ave &amp; Roosevelt Rd</td>\n",
       "      <td>Subscriber</td>\n",
       "      <td>Male</td>\n",
       "      <td>1991.0</td>\n",
       "      <td>1</td>\n",
       "      <td>Monday</td>\n",
       "    </tr>\n",
       "    <tr>\n",
       "      <th>634</th>\n",
       "      <td>106343</td>\n",
       "      <td>2017-01-30 19:11:40</td>\n",
       "      <td>2017-01-30 19:19:15</td>\n",
       "      <td>455</td>\n",
       "      <td>Michigan Ave &amp; Washington St</td>\n",
       "      <td>Canal St &amp; Madison St</td>\n",
       "      <td>Subscriber</td>\n",
       "      <td>Male</td>\n",
       "      <td>1986.0</td>\n",
       "      <td>1</td>\n",
       "      <td>Monday</td>\n",
       "    </tr>\n",
       "    <tr>\n",
       "      <th>683</th>\n",
       "      <td>21541</td>\n",
       "      <td>2017-01-09 14:58:30</td>\n",
       "      <td>2017-01-09 15:06:32</td>\n",
       "      <td>482</td>\n",
       "      <td>Wells St &amp; Huron St</td>\n",
       "      <td>Clinton St &amp; Jackson Blvd</td>\n",
       "      <td>Subscriber</td>\n",
       "      <td>Male</td>\n",
       "      <td>1976.0</td>\n",
       "      <td>1</td>\n",
       "      <td>Monday</td>\n",
       "    </tr>\n",
       "    <tr>\n",
       "      <th>894</th>\n",
       "      <td>21264</td>\n",
       "      <td>2017-01-09 12:57:39</td>\n",
       "      <td>2017-01-09 13:00:54</td>\n",
       "      <td>195</td>\n",
       "      <td>Broadway &amp; Waveland Ave</td>\n",
       "      <td>Pine Grove Ave &amp; Irving Park Rd</td>\n",
       "      <td>Subscriber</td>\n",
       "      <td>Male</td>\n",
       "      <td>1986.0</td>\n",
       "      <td>1</td>\n",
       "      <td>Monday</td>\n",
       "    </tr>\n",
       "    <tr>\n",
       "      <th>1032</th>\n",
       "      <td>76930</td>\n",
       "      <td>2017-01-23 17:26:16</td>\n",
       "      <td>2017-01-23 17:36:44</td>\n",
       "      <td>628</td>\n",
       "      <td>Sheridan Rd &amp; Loyola Ave</td>\n",
       "      <td>Bosworth Ave &amp; Howard St</td>\n",
       "      <td>Subscriber</td>\n",
       "      <td>Male</td>\n",
       "      <td>1990.0</td>\n",
       "      <td>1</td>\n",
       "      <td>Monday</td>\n",
       "    </tr>\n",
       "    <tr>\n",
       "      <th>1056</th>\n",
       "      <td>75675</td>\n",
       "      <td>2017-01-23 15:12:55</td>\n",
       "      <td>2017-01-23 15:39:31</td>\n",
       "      <td>1596</td>\n",
       "      <td>Noble St &amp; Milwaukee Ave</td>\n",
       "      <td>Wacker Dr &amp; Washington St</td>\n",
       "      <td>Customer</td>\n",
       "      <td>NaN</td>\n",
       "      <td>NaN</td>\n",
       "      <td>1</td>\n",
       "      <td>Monday</td>\n",
       "    </tr>\n",
       "    <tr>\n",
       "      <th>1130</th>\n",
       "      <td>21147</td>\n",
       "      <td>2017-01-09 12:02:59</td>\n",
       "      <td>2017-01-09 12:06:08</td>\n",
       "      <td>189</td>\n",
       "      <td>Clinton St &amp; Washington Blvd</td>\n",
       "      <td>Franklin St &amp; Monroe St</td>\n",
       "      <td>Subscriber</td>\n",
       "      <td>Male</td>\n",
       "      <td>1967.0</td>\n",
       "      <td>1</td>\n",
       "      <td>Monday</td>\n",
       "    </tr>\n",
       "    <tr>\n",
       "      <th>1173</th>\n",
       "      <td>76521</td>\n",
       "      <td>2017-01-23 17:01:00</td>\n",
       "      <td>2017-01-23 17:15:24</td>\n",
       "      <td>864</td>\n",
       "      <td>Financial Pl &amp; Congress Pkwy</td>\n",
       "      <td>Canal St &amp; Monroe St (*)</td>\n",
       "      <td>Subscriber</td>\n",
       "      <td>Male</td>\n",
       "      <td>1963.0</td>\n",
       "      <td>1</td>\n",
       "      <td>Monday</td>\n",
       "    </tr>\n",
       "    <tr>\n",
       "      <th>1269</th>\n",
       "      <td>20666</td>\n",
       "      <td>2017-01-09 08:54:30</td>\n",
       "      <td>2017-01-09 09:02:55</td>\n",
       "      <td>505</td>\n",
       "      <td>Franklin St &amp; Quincy St</td>\n",
       "      <td>Clark St &amp; Lake St</td>\n",
       "      <td>Subscriber</td>\n",
       "      <td>Male</td>\n",
       "      <td>1970.0</td>\n",
       "      <td>1</td>\n",
       "      <td>Monday</td>\n",
       "    </tr>\n",
       "    <tr>\n",
       "      <th>1313</th>\n",
       "      <td>105277</td>\n",
       "      <td>2017-01-30 17:02:45</td>\n",
       "      <td>2017-01-30 17:25:07</td>\n",
       "      <td>1342</td>\n",
       "      <td>Orleans St &amp; Merchandise Mart Plaza</td>\n",
       "      <td>Clinton St &amp; Washington Blvd</td>\n",
       "      <td>Subscriber</td>\n",
       "      <td>Male</td>\n",
       "      <td>1959.0</td>\n",
       "      <td>1</td>\n",
       "      <td>Monday</td>\n",
       "    </tr>\n",
       "    <tr>\n",
       "      <th>1363</th>\n",
       "      <td>102463</td>\n",
       "      <td>2017-01-30 06:04:26</td>\n",
       "      <td>2017-01-30 06:11:00</td>\n",
       "      <td>394</td>\n",
       "      <td>Racine Ave &amp; Congress Pkwy</td>\n",
       "      <td>Clinton St &amp; Jackson Blvd</td>\n",
       "      <td>Subscriber</td>\n",
       "      <td>Male</td>\n",
       "      <td>1953.0</td>\n",
       "      <td>1</td>\n",
       "      <td>Monday</td>\n",
       "    </tr>\n",
       "    <tr>\n",
       "      <th>1456</th>\n",
       "      <td>75214</td>\n",
       "      <td>2017-01-23 12:53:36</td>\n",
       "      <td>2017-01-23 13:00:07</td>\n",
       "      <td>391</td>\n",
       "      <td>Clinton St &amp; Washington Blvd</td>\n",
       "      <td>Clark St &amp; Randolph St</td>\n",
       "      <td>Subscriber</td>\n",
       "      <td>Male</td>\n",
       "      <td>1952.0</td>\n",
       "      <td>1</td>\n",
       "      <td>Monday</td>\n",
       "    </tr>\n",
       "    <tr>\n",
       "      <th>1581</th>\n",
       "      <td>75578</td>\n",
       "      <td>2017-01-23 14:46:40</td>\n",
       "      <td>2017-01-23 14:50:54</td>\n",
       "      <td>254</td>\n",
       "      <td>LaSalle St &amp; Washington St</td>\n",
       "      <td>Franklin St &amp; Lake St</td>\n",
       "      <td>Subscriber</td>\n",
       "      <td>Male</td>\n",
       "      <td>1946.0</td>\n",
       "      <td>1</td>\n",
       "      <td>Monday</td>\n",
       "    </tr>\n",
       "    <tr>\n",
       "      <th>1721</th>\n",
       "      <td>2861</td>\n",
       "      <td>2017-01-02 14:40:49</td>\n",
       "      <td>2017-01-02 14:48:10</td>\n",
       "      <td>441</td>\n",
       "      <td>Federal St &amp; Polk St</td>\n",
       "      <td>Clinton St &amp; Roosevelt Rd</td>\n",
       "      <td>Subscriber</td>\n",
       "      <td>Male</td>\n",
       "      <td>1979.0</td>\n",
       "      <td>1</td>\n",
       "      <td>Monday</td>\n",
       "    </tr>\n",
       "  </tbody>\n",
       "</table>\n",
       "</div>"
      ],
      "text/plain": [
       "      Unnamed: 0          Start Time             End Time  Trip Duration  \\\n",
       "121        42280 2017-01-16 14:54:38  2017-01-16 15:09:03            865   \n",
       "167        77795 2017-01-23 18:50:16  2017-01-23 18:56:43            387   \n",
       "236        42046 2017-01-16 11:29:52  2017-01-16 11:43:56            844   \n",
       "253        73287 2017-01-23 07:21:14  2017-01-23 07:32:39            685   \n",
       "256         3680 2017-01-02 23:40:20  2017-01-02 23:45:25            305   \n",
       "496         2337 2017-01-02 11:28:54  2017-01-02 11:46:50           1076   \n",
       "579        76688 2017-01-23 17:10:46  2017-01-23 17:17:47            421   \n",
       "634       106343 2017-01-30 19:11:40  2017-01-30 19:19:15            455   \n",
       "683        21541 2017-01-09 14:58:30  2017-01-09 15:06:32            482   \n",
       "894        21264 2017-01-09 12:57:39  2017-01-09 13:00:54            195   \n",
       "1032       76930 2017-01-23 17:26:16  2017-01-23 17:36:44            628   \n",
       "1056       75675 2017-01-23 15:12:55  2017-01-23 15:39:31           1596   \n",
       "1130       21147 2017-01-09 12:02:59  2017-01-09 12:06:08            189   \n",
       "1173       76521 2017-01-23 17:01:00  2017-01-23 17:15:24            864   \n",
       "1269       20666 2017-01-09 08:54:30  2017-01-09 09:02:55            505   \n",
       "1313      105277 2017-01-30 17:02:45  2017-01-30 17:25:07           1342   \n",
       "1363      102463 2017-01-30 06:04:26  2017-01-30 06:11:00            394   \n",
       "1456       75214 2017-01-23 12:53:36  2017-01-23 13:00:07            391   \n",
       "1581       75578 2017-01-23 14:46:40  2017-01-23 14:50:54            254   \n",
       "1721        2861 2017-01-02 14:40:49  2017-01-02 14:48:10            441   \n",
       "\n",
       "                            Start Station                        End Station  \\\n",
       "121                          Field Museum                    Millennium Park   \n",
       "167            Indiana Ave & Roosevelt Rd       Michigan Ave & Washington St   \n",
       "236         Pine Grove Ave & Waveland Ave  Ravenswood Ave & Montrose Ave (*)   \n",
       "253             Artesian Ave & Hubbard St    Racine Ave (May St) & Fulton St   \n",
       "256           Lincoln Ave & Diversey Pkwy          Lincoln Ave & Belmont Ave   \n",
       "496             Desplaines St & Kinzie St          Desplaines St & Kinzie St   \n",
       "579          Financial Pl & Congress Pkwy          Wabash Ave & Roosevelt Rd   \n",
       "634          Michigan Ave & Washington St              Canal St & Madison St   \n",
       "683                   Wells St & Huron St          Clinton St & Jackson Blvd   \n",
       "894               Broadway & Waveland Ave    Pine Grove Ave & Irving Park Rd   \n",
       "1032             Sheridan Rd & Loyola Ave           Bosworth Ave & Howard St   \n",
       "1056             Noble St & Milwaukee Ave          Wacker Dr & Washington St   \n",
       "1130         Clinton St & Washington Blvd            Franklin St & Monroe St   \n",
       "1173         Financial Pl & Congress Pkwy           Canal St & Monroe St (*)   \n",
       "1269              Franklin St & Quincy St                 Clark St & Lake St   \n",
       "1313  Orleans St & Merchandise Mart Plaza       Clinton St & Washington Blvd   \n",
       "1363           Racine Ave & Congress Pkwy          Clinton St & Jackson Blvd   \n",
       "1456         Clinton St & Washington Blvd             Clark St & Randolph St   \n",
       "1581           LaSalle St & Washington St              Franklin St & Lake St   \n",
       "1721                 Federal St & Polk St          Clinton St & Roosevelt Rd   \n",
       "\n",
       "       User Type  Gender  Birth Year  month day_of_week  \n",
       "121   Subscriber    Male      1992.0      1      Monday  \n",
       "167   Subscriber    Male      1990.0      1      Monday  \n",
       "236   Subscriber  Female      1990.0      1      Monday  \n",
       "253   Subscriber    Male      1972.0      1      Monday  \n",
       "256   Subscriber    Male      1987.0      1      Monday  \n",
       "496   Subscriber    Male      1985.0      1      Monday  \n",
       "579   Subscriber    Male      1991.0      1      Monday  \n",
       "634   Subscriber    Male      1986.0      1      Monday  \n",
       "683   Subscriber    Male      1976.0      1      Monday  \n",
       "894   Subscriber    Male      1986.0      1      Monday  \n",
       "1032  Subscriber    Male      1990.0      1      Monday  \n",
       "1056    Customer     NaN         NaN      1      Monday  \n",
       "1130  Subscriber    Male      1967.0      1      Monday  \n",
       "1173  Subscriber    Male      1963.0      1      Monday  \n",
       "1269  Subscriber    Male      1970.0      1      Monday  \n",
       "1313  Subscriber    Male      1959.0      1      Monday  \n",
       "1363  Subscriber    Male      1953.0      1      Monday  \n",
       "1456  Subscriber    Male      1952.0      1      Monday  \n",
       "1581  Subscriber    Male      1946.0      1      Monday  \n",
       "1721  Subscriber    Male      1979.0      1      Monday  "
      ]
     },
     "execution_count": 54,
     "metadata": {},
     "output_type": "execute_result"
    }
   ],
   "source": [
    "df.head(20)"
   ]
  },
  {
   "cell_type": "markdown",
   "id": "ac375ae8",
   "metadata": {},
   "source": [
    "# Statistics Section"
   ]
  },
  {
   "cell_type": "markdown",
   "id": "35da5561",
   "metadata": {},
   "source": [
    "## Time Stats"
   ]
  },
  {
   "cell_type": "code",
   "execution_count": 55,
   "id": "104a3d1f",
   "metadata": {
    "ExecuteTime": {
     "end_time": "2023-05-10T15:17:16.289018Z",
     "start_time": "2023-05-10T15:17:16.282665Z"
    }
   },
   "outputs": [],
   "source": [
    "def time_stats(df):\n",
    "    \"\"\"Displays statistics on the most frequent times of travel.\"\"\"\n",
    "\n",
    "    print('\\nCalculating The Most Frequent Times of Travel...\\n')\n",
    "    start_time = time.time()\n",
    "    \n",
    "    df['Start Time'] = pd.to_datetime(df['Start Time'])\n",
    "\n",
    "    # display the most common month\n",
    "    \n",
    "    df['month'] = df['Start Time'].dt.month_name()\n",
    "    \n",
    "    common_month = df['month'].mode()[0]\n",
    "    \n",
    "    print('The most common month: ', common_month)\n",
    "\n",
    "\n",
    "    # display the most common day of week\n",
    "    \n",
    "    df['day_of_week'] = df['Start Time'].dt.day_name()\n",
    "    \n",
    "    common_day_of_week = df['day_of_week'].mode()[0]\n",
    "    \n",
    "    print('The most common week: ', common_day_of_week)\n",
    "\n",
    "\n",
    "    # display the most common start hour\n",
    "    \n",
    "    df['hour'] = df['Start Time'].dt.hour\n",
    "    \n",
    "    common_hour = df['hour'].mode()[0]\n",
    "    \n",
    "    print('The most common hour: ', common_hour)\n",
    "\n",
    "\n",
    "    print(\"\\nThis took %s seconds.\" % (time.time() - start_time))\n",
    "    print('-'*40)"
   ]
  },
  {
   "cell_type": "code",
   "execution_count": 56,
   "id": "8b1f20c9",
   "metadata": {
    "ExecuteTime": {
     "end_time": "2023-05-10T15:17:17.284743Z",
     "start_time": "2023-05-10T15:17:17.262154Z"
    }
   },
   "outputs": [
    {
     "name": "stdout",
     "output_type": "stream",
     "text": [
      "\n",
      "Calculating The Most Frequent Times of Travel...\n",
      "\n",
      "The most common month:  January\n",
      "The most common week:  Monday\n",
      "The most common hour:  17\n",
      "\n",
      "This took 0.019850969314575195 seconds.\n",
      "----------------------------------------\n"
     ]
    }
   ],
   "source": [
    "time_stats(df)"
   ]
  },
  {
   "cell_type": "markdown",
   "id": "ca2e5952",
   "metadata": {},
   "source": [
    "# Station Stats"
   ]
  },
  {
   "cell_type": "code",
   "execution_count": 57,
   "id": "221aa425",
   "metadata": {
    "ExecuteTime": {
     "end_time": "2023-05-10T15:17:23.093856Z",
     "start_time": "2023-05-10T15:17:23.087626Z"
    }
   },
   "outputs": [],
   "source": [
    "def station_stats(df):\n",
    "    \"\"\"Displays statistics on the most popular stations and trip.\"\"\"\n",
    "\n",
    "    print('\\nCalculating The Most Popular Stations and Trip...\\n')\n",
    "    start_time = time.time()\n",
    "    \n",
    "    df['Start Time'] = pd.to_datetime(df['Start Time'])\n",
    "\n",
    "    # display most commonly used start station\n",
    "    \n",
    "    df['common_start_station'] = df['Start Station'].value_counts().idxmax()\n",
    "    \n",
    "    common_start_station = df['common_start_station'].mode()[0]\n",
    "    \n",
    "    print('The most common start station: ', common_start_station)\n",
    "\n",
    "    # display most commonly used end station\n",
    "    \n",
    "    df['common_end_station'] = df['End Station'].value_counts().idxmax()\n",
    "    \n",
    "    common_end_station = df['common_end_station'].mode()[0]\n",
    "    \n",
    "    print('The most common end station: ', common_end_station)\n",
    "\n",
    "\n",
    "    # display most frequent combination of start station and end station trip\n",
    "    # referenced both start and end stations in order to be able to concatenate strings\n",
    "    \n",
    "    start = df['Start Station']\n",
    "    \n",
    "    end = df['End Station']\n",
    "    \n",
    "    frequent_combination = (start + end).mode().loc[0]\n",
    "    \n",
    "    print(\"\\nThe most frequent combination of start station and end station trip is:\\n\", frequent_combination)\n",
    "    \n",
    "    \n",
    "\n",
    "    print(\"\\nThis took %s seconds.\" % (time.time() - start_time))\n",
    "    print('-'*40)\n",
    "\n"
   ]
  },
  {
   "cell_type": "code",
   "execution_count": 58,
   "id": "8e160413",
   "metadata": {
    "ExecuteTime": {
     "end_time": "2023-05-10T15:17:25.445419Z",
     "start_time": "2023-05-10T15:17:25.427412Z"
    },
    "scrolled": true
   },
   "outputs": [
    {
     "name": "stdout",
     "output_type": "stream",
     "text": [
      "\n",
      "Calculating The Most Popular Stations and Trip...\n",
      "\n",
      "The most common start station:  Clinton St & Washington Blvd\n",
      "The most common end station:  Clinton St & Washington Blvd\n",
      "\n",
      "The most frequent combination of start station and end station trip is:\n",
      " Michigan Ave & Lake StCanal St & Madison St\n",
      "\n",
      "This took 0.013569831848144531 seconds.\n",
      "----------------------------------------\n"
     ]
    }
   ],
   "source": [
    "station_stats(df)"
   ]
  },
  {
   "cell_type": "markdown",
   "id": "8a452b3a",
   "metadata": {},
   "source": [
    "## Trip Duration Stats"
   ]
  },
  {
   "cell_type": "code",
   "execution_count": 59,
   "id": "01d443c6",
   "metadata": {
    "ExecuteTime": {
     "end_time": "2023-05-10T15:17:32.349800Z",
     "start_time": "2023-05-10T15:17:32.345230Z"
    }
   },
   "outputs": [],
   "source": [
    "def trip_duration_stats(df):\n",
    "    \"\"\"Displays statistics on the total and average trip duration.\"\"\"\n",
    "\n",
    "    print('\\nCalculating Trip Duration...\\n')\n",
    "    start_time = time.time()\n",
    "\n",
    "    # display total travel time\n",
    "    \n",
    "    trip_duration_sum = df['Trip Duration'].sum()\n",
    "    \n",
    "    print(\"Total travel time: {} (s)\".format(trip_duration_sum))\n",
    "\n",
    "\n",
    "    # display mean travel time\n",
    "    \n",
    "    trip_duration_mean = df[\"Trip Duration\"].mean()\n",
    "    \n",
    "    print(\"Total travel time is: {} (s)\".format(trip_duration_mean))\n",
    "\n",
    "    print(\"\\nThis took %s seconds.\" % (time.time() - start_time))\n",
    "    print('-'*40)"
   ]
  },
  {
   "cell_type": "code",
   "execution_count": 60,
   "id": "cd42acb8",
   "metadata": {
    "ExecuteTime": {
     "end_time": "2023-05-10T15:17:34.599623Z",
     "start_time": "2023-05-10T15:17:34.588047Z"
    }
   },
   "outputs": [
    {
     "name": "stdout",
     "output_type": "stream",
     "text": [
      "\n",
      "Calculating Trip Duration...\n",
      "\n",
      "Total travel time: 2247180 (s)\n",
      "Total travel time is: 639.8576309794988 (s)\n",
      "\n",
      "This took 0.008212804794311523 seconds.\n",
      "----------------------------------------\n"
     ]
    }
   ],
   "source": [
    "trip_duration_stats(df)"
   ]
  },
  {
   "cell_type": "markdown",
   "id": "bd63e3e6",
   "metadata": {},
   "source": [
    "## User Stats"
   ]
  },
  {
   "cell_type": "code",
   "execution_count": 61,
   "id": "c674e795",
   "metadata": {
    "ExecuteTime": {
     "end_time": "2023-05-10T15:17:39.679716Z",
     "start_time": "2023-05-10T15:17:39.671534Z"
    }
   },
   "outputs": [],
   "source": [
    "# Remeber chicago doesn't have gender and birth year\n",
    "\n",
    "def user_stats(df):\n",
    "    \"\"\"Displays statistics on bikeshare users.\"\"\"\n",
    "\n",
    "    print('\\nCalculating User Stats...\\n')\n",
    "    start_time = time.time()\n",
    "\n",
    "    # Display counts of user types\n",
    "    \n",
    "    user_type_count = df['User Type'].value_counts()\n",
    "    \n",
    "    print(\"\\nThe user type count is: \", user_type_count)\n",
    "\n",
    "\n",
    "    # Display counts of gender\n",
    "    \n",
    "    try:\n",
    "        gender_count = df['Gender'].value.counts()\n",
    "        print(\"\\nThe gender counts are: \", gender_count)\n",
    "    except:\n",
    "        print(\"There isn't a Gender column for this file\")\n",
    "\n",
    "\n",
    "    # Display earliest, most recent, and most common year of birth\n",
    "    \n",
    "    try:\n",
    "        earliest_birth = int(df['Birth Year'].min())\n",
    "        most_recent_birth = int(df['Birth Year'].max())\n",
    "        most_common_birth = int(df['Birth Year'].mode()[0])\n",
    "        print(\"\\nThe earliest birth year: {}.\\n\\nThe most recent birth year: {}.\\n\\nThe most common year of birth: {}.\".format(earliest_birth, most_recent_birth, most_common_birth))\n",
    "    except:\n",
    "        print(\"There is no information about birth year in this file\")\n",
    "        \n",
    "    \n",
    "\n",
    "\n",
    "    print(\"\\nThis took %s seconds.\" % (time.time() - start_time))\n",
    "    print('-'*40)\n",
    "\n",
    "\n"
   ]
  },
  {
   "cell_type": "code",
   "execution_count": 62,
   "id": "c9f94725",
   "metadata": {
    "ExecuteTime": {
     "end_time": "2023-05-10T15:17:40.719298Z",
     "start_time": "2023-05-10T15:17:40.705881Z"
    }
   },
   "outputs": [
    {
     "name": "stdout",
     "output_type": "stream",
     "text": [
      "\n",
      "Calculating User Stats...\n",
      "\n",
      "\n",
      "The user type count is:  Subscriber    3408\n",
      "Customer       104\n",
      "Name: User Type, dtype: int64\n",
      "There isn't a Gender column for this file\n",
      "\n",
      "The earliest birth year: 1934.\n",
      "\n",
      "The most recent birth year: 1999.\n",
      "\n",
      "The most common year of birth: 1989.\n",
      "\n",
      "This took 0.010119915008544922 seconds.\n",
      "----------------------------------------\n"
     ]
    }
   ],
   "source": [
    "user_stats(df)"
   ]
  },
  {
   "cell_type": "markdown",
   "id": "93e27f0b",
   "metadata": {},
   "source": [
    "## Promp User Function"
   ]
  },
  {
   "cell_type": "code",
   "execution_count": 63,
   "id": "ca5fffcb",
   "metadata": {
    "ExecuteTime": {
     "end_time": "2023-05-10T15:17:44.084149Z",
     "start_time": "2023-05-10T15:17:44.080241Z"
    }
   },
   "outputs": [],
   "source": [
    "def show_raw_data(df):\n",
    "    \"\"\"displays raw data by user request. Ask if they want 5 additional rows to be shown\"\"\"\n",
    "    print(df.head())\n",
    "    data_amt = 0\n",
    "    while True:\n",
    "        raw_data = input(\"\\nWould you like to see the next five rows of raw data? Enter Yes or No.\\n\")\n",
    "        if raw_data.casefold() != 'yes':\n",
    "            return\n",
    "        data_amt = data_amt + 5\n",
    "        print(df.iloc[data_amt:data_amt+5])"
   ]
  },
  {
   "cell_type": "code",
   "execution_count": 64,
   "id": "14e2131a",
   "metadata": {
    "ExecuteTime": {
     "end_time": "2023-05-10T15:17:51.075220Z",
     "start_time": "2023-05-10T15:17:44.985675Z"
    }
   },
   "outputs": [
    {
     "name": "stdout",
     "output_type": "stream",
     "text": [
      "     Unnamed: 0          Start Time             End Time  Trip Duration  \\\n",
      "121       42280 2017-01-16 14:54:38  2017-01-16 15:09:03            865   \n",
      "167       77795 2017-01-23 18:50:16  2017-01-23 18:56:43            387   \n",
      "236       42046 2017-01-16 11:29:52  2017-01-16 11:43:56            844   \n",
      "253       73287 2017-01-23 07:21:14  2017-01-23 07:32:39            685   \n",
      "256        3680 2017-01-02 23:40:20  2017-01-02 23:45:25            305   \n",
      "\n",
      "                     Start Station                        End Station  \\\n",
      "121                   Field Museum                    Millennium Park   \n",
      "167     Indiana Ave & Roosevelt Rd       Michigan Ave & Washington St   \n",
      "236  Pine Grove Ave & Waveland Ave  Ravenswood Ave & Montrose Ave (*)   \n",
      "253      Artesian Ave & Hubbard St    Racine Ave (May St) & Fulton St   \n",
      "256    Lincoln Ave & Diversey Pkwy          Lincoln Ave & Belmont Ave   \n",
      "\n",
      "      User Type  Gender  Birth Year    month day_of_week  hour  \\\n",
      "121  Subscriber    Male      1992.0  January      Monday    14   \n",
      "167  Subscriber    Male      1990.0  January      Monday    18   \n",
      "236  Subscriber  Female      1990.0  January      Monday    11   \n",
      "253  Subscriber    Male      1972.0  January      Monday     7   \n",
      "256  Subscriber    Male      1987.0  January      Monday    23   \n",
      "\n",
      "             common_start_station            common_end_station  \n",
      "121  Clinton St & Washington Blvd  Clinton St & Washington Blvd  \n",
      "167  Clinton St & Washington Blvd  Clinton St & Washington Blvd  \n",
      "236  Clinton St & Washington Blvd  Clinton St & Washington Blvd  \n",
      "253  Clinton St & Washington Blvd  Clinton St & Washington Blvd  \n",
      "256  Clinton St & Washington Blvd  Clinton St & Washington Blvd  \n",
      "\n",
      "Would you like to see the next five rows of raw data? Enter Yes or No.\n",
      "yes\n",
      "     Unnamed: 0          Start Time             End Time  Trip Duration  \\\n",
      "496        2337 2017-01-02 11:28:54  2017-01-02 11:46:50           1076   \n",
      "579       76688 2017-01-23 17:10:46  2017-01-23 17:17:47            421   \n",
      "634      106343 2017-01-30 19:11:40  2017-01-30 19:19:15            455   \n",
      "683       21541 2017-01-09 14:58:30  2017-01-09 15:06:32            482   \n",
      "894       21264 2017-01-09 12:57:39  2017-01-09 13:00:54            195   \n",
      "\n",
      "                    Start Station                      End Station  \\\n",
      "496     Desplaines St & Kinzie St        Desplaines St & Kinzie St   \n",
      "579  Financial Pl & Congress Pkwy        Wabash Ave & Roosevelt Rd   \n",
      "634  Michigan Ave & Washington St            Canal St & Madison St   \n",
      "683           Wells St & Huron St        Clinton St & Jackson Blvd   \n",
      "894       Broadway & Waveland Ave  Pine Grove Ave & Irving Park Rd   \n",
      "\n",
      "      User Type Gender  Birth Year    month day_of_week  hour  \\\n",
      "496  Subscriber   Male      1985.0  January      Monday    11   \n",
      "579  Subscriber   Male      1991.0  January      Monday    17   \n",
      "634  Subscriber   Male      1986.0  January      Monday    19   \n",
      "683  Subscriber   Male      1976.0  January      Monday    14   \n",
      "894  Subscriber   Male      1986.0  January      Monday    12   \n",
      "\n",
      "             common_start_station            common_end_station  \n",
      "496  Clinton St & Washington Blvd  Clinton St & Washington Blvd  \n",
      "579  Clinton St & Washington Blvd  Clinton St & Washington Blvd  \n",
      "634  Clinton St & Washington Blvd  Clinton St & Washington Blvd  \n",
      "683  Clinton St & Washington Blvd  Clinton St & Washington Blvd  \n",
      "894  Clinton St & Washington Blvd  Clinton St & Washington Blvd  \n",
      "\n",
      "Would you like to see the next five rows of raw data? Enter Yes or No.\n",
      "no\n"
     ]
    }
   ],
   "source": [
    "show_raw_data(df)"
   ]
  },
  {
   "cell_type": "markdown",
   "id": "c88662c7",
   "metadata": {},
   "source": [
    "## Main Function"
   ]
  },
  {
   "cell_type": "code",
   "execution_count": 65,
   "id": "14ae4dfb",
   "metadata": {
    "ExecuteTime": {
     "end_time": "2023-05-10T15:18:24.067981Z",
     "start_time": "2023-05-10T15:17:53.089541Z"
    }
   },
   "outputs": [
    {
     "name": "stdout",
     "output_type": "stream",
     "text": [
      "Hello! Let's explore some US bikeshare data!\n",
      "\n",
      "What city would your like to explore? [Chicago, New York City, or Washington?]\n",
      "new york city\n",
      "Awesome!\n",
      "\n",
      "Now please choose one of the following: [January, February, March, April, May, June, or all]\n",
      "may\n",
      "Great!\n",
      "\n",
      "Choose a day: [Monday, Tuesday, Wednesday, Thursday, Friday, Saturday, Sunday, or all]\n",
      "sunday\n",
      "Nice!\n",
      "----------------------------------------\n",
      "\n",
      "Calculating The Most Frequent Times of Travel...\n",
      "\n",
      "The most common month:  May\n",
      "The most common week:  Sunday\n",
      "The most common hour:  13\n",
      "\n",
      "This took 0.019751787185668945 seconds.\n",
      "----------------------------------------\n",
      "\n",
      "Calculating The Most Popular Stations and Trip...\n",
      "\n",
      "The most common start station:  Central Park S & 6 Ave\n",
      "The most common end station:  Central Park S & 6 Ave\n",
      "\n",
      "The most frequent combination of start station and end station trip is:\n",
      " Central Park S & 6 AveCentral Park S & 6 Ave\n",
      "\n",
      "This took 0.014663219451904297 seconds.\n",
      "----------------------------------------\n",
      "\n",
      "Calculating Trip Duration...\n",
      "\n",
      "Total travel time: 8334698 (s)\n",
      "Total travel time is: 1092.3588466579292 (s)\n",
      "\n",
      "This took 0.0002789497375488281 seconds.\n",
      "----------------------------------------\n",
      "\n",
      "Calculating User Stats...\n",
      "\n",
      "\n",
      "The user type count is:  Subscriber    5586\n",
      "Customer      2044\n",
      "Name: User Type, dtype: int64\n",
      "There isn't a Gender column for this file\n",
      "\n",
      "The earliest birth year: 1900.\n",
      "\n",
      "The most recent birth year: 2001.\n",
      "\n",
      "The most common year of birth: 1989.\n",
      "\n",
      "This took 0.0017170906066894531 seconds.\n",
      "----------------------------------------\n",
      "\n",
      "Would you like to see five rows of raw data? Enter Yes or No.\n",
      "no\n",
      "\n",
      "Would you like to restart? Enter yes or no.\n",
      "no\n"
     ]
    }
   ],
   "source": [
    "def main():\n",
    "    while True:\n",
    "        city, month, day = get_filters()\n",
    "        df = load_data(city, month, day)\n",
    "\n",
    "        time_stats(df)\n",
    "        station_stats(df)\n",
    "        trip_duration_stats(df)\n",
    "        user_stats(df)\n",
    "        \"\"\"asks user if they want to see 5 rows of data\"\"\"\n",
    "        while True:\n",
    "            raw_data = input(\"\\nWould you like to see five rows of raw data? Enter Yes or No.\\n\")\n",
    "            if  raw_data.lower() != 'yes':\n",
    "                break\n",
    "            show_raw_data(df)\n",
    "            break\n",
    "        \n",
    "\n",
    "        restart = input('\\nWould you like to restart? Enter yes or no.\\n')\n",
    "        if restart.lower() != 'yes':\n",
    "            break\n",
    "\n",
    "\n",
    "if __name__ == \"__main__\":\n",
    "\tmain()\n",
    "\n",
    "# in a script, uncomment this:\n",
    "# if __name__ --\""
   ]
  },
  {
   "cell_type": "code",
   "execution_count": null,
   "id": "2125250e",
   "metadata": {
    "ExecuteTime": {
     "start_time": "2023-05-10T15:18:17.093Z"
    }
   },
   "outputs": [
    {
     "name": "stdout",
     "output_type": "stream",
     "text": [
      "Hello! Let's explore some US bikeshare data!\n"
     ]
    }
   ],
   "source": [
    "main()"
   ]
  },
  {
   "cell_type": "code",
   "execution_count": null,
   "id": "1f7600ec",
   "metadata": {},
   "outputs": [],
   "source": []
  }
 ],
 "metadata": {
  "kernelspec": {
   "display_name": "Python 3 (ipykernel)",
   "language": "python",
   "name": "python3"
  },
  "language_info": {
   "codemirror_mode": {
    "name": "ipython",
    "version": 3
   },
   "file_extension": ".py",
   "mimetype": "text/x-python",
   "name": "python",
   "nbconvert_exporter": "python",
   "pygments_lexer": "ipython3",
   "version": "3.9.12"
  },
  "toc": {
   "base_numbering": 1,
   "nav_menu": {},
   "number_sections": true,
   "sideBar": true,
   "skip_h1_title": false,
   "title_cell": "Table of Contents",
   "title_sidebar": "Contents",
   "toc_cell": false,
   "toc_position": {},
   "toc_section_display": true,
   "toc_window_display": false
  }
 },
 "nbformat": 4,
 "nbformat_minor": 5
}
