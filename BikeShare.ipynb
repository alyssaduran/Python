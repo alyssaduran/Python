{
 "cells": [
  {
   "cell_type": "code",
   "execution_count": 1,
   "id": "072723ff",
   "metadata": {
    "ExecuteTime": {
     "end_time": "2023-05-10T15:25:41.856630Z",
     "start_time": "2023-05-10T15:25:40.266765Z"
    }
   },
   "outputs": [],
   "source": [
    "import time\n",
    "import pandas as pd\n",
    "import numpy as np"
   ]
  },
  {
   "cell_type": "markdown",
   "id": "b5db8946",
   "metadata": {},
   "source": [
    "# Data Structure"
   ]
  },
  {
   "cell_type": "code",
   "execution_count": 2,
   "id": "09d970de",
   "metadata": {
    "ExecuteTime": {
     "end_time": "2023-05-10T15:25:44.317886Z",
     "start_time": "2023-05-10T15:25:44.312839Z"
    }
   },
   "outputs": [],
   "source": [
    "CITY_DATA = { 'chicago': 'chicago.csv',\n",
    "              'new york city': 'new_york_city.csv',\n",
    "              'washington': 'washington.csv' }\n",
    "\n",
    "months = ['january', 'february', 'march', 'april', 'may', 'june', 'all']\n",
    "days = ['monday', 'tuesday', 'wednesday', 'thursday', 'friday', 'saturday', 'sunday', 'all']\n",
    "cities = list(CITY_DATA.keys())"
   ]
  },
  {
   "cell_type": "markdown",
   "id": "d79a7a19",
   "metadata": {},
   "source": [
    "# Helper function to ask user input"
   ]
  },
  {
   "cell_type": "code",
   "execution_count": 3,
   "id": "496bbf63",
   "metadata": {
    "ExecuteTime": {
     "end_time": "2023-05-10T15:25:46.830348Z",
     "start_time": "2023-05-10T15:25:46.822528Z"
    }
   },
   "outputs": [],
   "source": [
    "def get_filters():\n",
    "    \"\"\"\n",
    "    Asks user to specify a city, month, and day to analyze.\n",
    "\n",
    "    Returns:\n",
    "        (str) city - name of the city to analyze\n",
    "        (str) month - name of the month to filter by, or \"all\" to apply no month filter\n",
    "        (str) day - name of the day of week to filter by, or \"all\" to apply no day filter\n",
    "    \"\"\"\n",
    "    print('Hello! Let\\'s explore some US bikeshare data!')   \n",
    "    city = None\n",
    "    month = None\n",
    "    day = None\n",
    "    \n",
    "    # get user input for city (chicago, new york city, washington). HINT: Use a while loop to handle invalid inputs\n",
    "\n",
    "    while True:\n",
    "        city = input(\"\\nWhat city would your like to explore? [Chicago, New York City, or Washington?]\\n\").lower()\n",
    "        if city in cities:\n",
    "            print('Awesome!')\n",
    "            break\n",
    "        else:\n",
    "            print('Please choose one of the three cities given')\n",
    "            \n",
    "    # get user input for month (all, january, february, ... , june)        \n",
    "            \n",
    "    while True:\n",
    "        month = input(\"\\nNow please choose one of the following: [January, February, March, April, May, June, or all]\\n\").lower()\n",
    "        if month in months:\n",
    "            print('Great!')\n",
    "            break\n",
    "        else:\n",
    "            print('Please choose one of the given options!')\n",
    "    \n",
    "  # get user input for day of week (all, monday, tuesday, ... sunday)  \n",
    "    \n",
    "    while True:\n",
    "        day = input(\"\\nChoose a day: [Monday, Tuesday, Wednesday, Thursday, Friday, Saturday, Sunday, or all]\\n\").lower()\n",
    "        if day in days:\n",
    "            print('Nice!')\n",
    "            break\n",
    "        else:\n",
    "            print('Please choose one of the days of the week or all!')\n",
    "            \n",
    "    \n",
    "\n",
    "\n",
    "\n",
    "    print('-'*40)\n",
    "    return city, month, day\n",
    "\n",
    "\n"
   ]
  },
  {
   "cell_type": "code",
   "execution_count": 5,
   "id": "6a5bdc67",
   "metadata": {
    "ExecuteTime": {
     "end_time": "2023-05-10T15:26:22.820443Z",
     "start_time": "2023-05-10T15:26:11.395299Z"
    }
   },
   "outputs": [
    {
     "name": "stdout",
     "output_type": "stream",
     "text": [
      "Hello! Let's explore some US bikeshare data!\n",
      "\n",
      "What city would your like to explore? [Chicago, New York City, or Washington?]\n",
      "Chicago\n",
      "Awesome!\n",
      "\n",
      "Now please choose one of the following: [January, February, March, April, May, June, or all]\n",
      "all\n",
      "Great!\n",
      "\n",
      "Choose a day: [Monday, Tuesday, Wednesday, Thursday, Friday, Saturday, Sunday, or all]\n",
      "ALL\n",
      "Nice!\n",
      "----------------------------------------\n"
     ]
    }
   ],
   "source": [
    "city, month, day = get_filters()"
   ]
  },
  {
   "cell_type": "code",
   "execution_count": 6,
   "id": "7e57d750",
   "metadata": {
    "ExecuteTime": {
     "end_time": "2023-05-10T15:26:26.082691Z",
     "start_time": "2023-05-10T15:26:26.071575Z"
    }
   },
   "outputs": [
    {
     "data": {
      "text/plain": [
       "('chicago', 'all', 'all')"
      ]
     },
     "execution_count": 6,
     "metadata": {},
     "output_type": "execute_result"
    }
   ],
   "source": [
    "city, month, day"
   ]
  },
  {
   "cell_type": "markdown",
   "id": "a19e3454",
   "metadata": {},
   "source": [
    "# Load Data"
   ]
  },
  {
   "cell_type": "code",
   "execution_count": 7,
   "id": "a6184860",
   "metadata": {
    "ExecuteTime": {
     "end_time": "2023-05-10T15:26:32.688140Z",
     "start_time": "2023-05-10T15:26:32.681421Z"
    }
   },
   "outputs": [],
   "source": [
    "def load_data(city, month, day):\n",
    "    \"\"\"\n",
    "    Loads data for the specified city and filters by month and day if applicable.\n",
    "\n",
    "    Args:\n",
    "        (str) city - name of the city to analyze\n",
    "        (str) month - name of the month to filter by, or \"all\" to apply no month filter\n",
    "        (str) day - name of the day of week to filter by, or \"all\" to apply no day filter\n",
    "    Returns:\n",
    "        df - Pandas DataFrame containing city data filtered by month and day\n",
    "    \"\"\"\n",
    "    #TO DO: Read data from CSV\n",
    "    \n",
    "    df = pd.read_csv(CITY_DATA[city])\n",
    "    \n",
    "    #Converted into Start Time column to datetime\n",
    "    \n",
    "    df['Start Time'] = pd.to_datetime(df['Start Time'])\n",
    "    \n",
    "#TO DO: filter to correct month and day (if not all)\n",
    "\n",
    "    #Extracted month and day to creat new columns\n",
    "    \n",
    "    df['month'] = df['Start Time'].dt.month\n",
    "    \n",
    "    df['day_of_week'] = df['Start Time'].dt.strftime('%A')\n",
    "    \n",
    "    #filter for month\n",
    "    \n",
    "    if month != 'all':\n",
    "        \n",
    "        months = ['january', 'february', 'march', 'april', 'may', 'june', 'all']\n",
    "        \n",
    "        month = months.index(month) + 1\n",
    "        \n",
    "        #Filtering by month to create new dataframe\n",
    "        \n",
    "        df = df[df['month'] == month]\n",
    "   \n",
    "   #filter for day\n",
    "    \n",
    "    if day != 'all':\n",
    "        \n",
    "        days = ['monday', 'tuesday', 'wednesday', 'thursday', 'friday', 'saturday', 'sunday', 'all']\n",
    "        \n",
    "       \n",
    "        \n",
    "        df = df[df['day_of_week'] == day.title()]\n",
    "    \n",
    "\n",
    "    return df\n"
   ]
  },
  {
   "cell_type": "code",
   "execution_count": 8,
   "id": "6da6be72",
   "metadata": {
    "ExecuteTime": {
     "end_time": "2023-05-10T15:26:35.890915Z",
     "start_time": "2023-05-10T15:26:33.704184Z"
    }
   },
   "outputs": [],
   "source": [
    "df = load_data(city, month, day)"
   ]
  },
  {
   "cell_type": "code",
   "execution_count": 9,
   "id": "5123bd7b",
   "metadata": {
    "ExecuteTime": {
     "end_time": "2023-05-10T15:26:35.921796Z",
     "start_time": "2023-05-10T15:26:35.893912Z"
    }
   },
   "outputs": [
    {
     "data": {
      "text/html": [
       "<div>\n",
       "<style scoped>\n",
       "    .dataframe tbody tr th:only-of-type {\n",
       "        vertical-align: middle;\n",
       "    }\n",
       "\n",
       "    .dataframe tbody tr th {\n",
       "        vertical-align: top;\n",
       "    }\n",
       "\n",
       "    .dataframe thead th {\n",
       "        text-align: right;\n",
       "    }\n",
       "</style>\n",
       "<table border=\"1\" class=\"dataframe\">\n",
       "  <thead>\n",
       "    <tr style=\"text-align: right;\">\n",
       "      <th></th>\n",
       "      <th>Unnamed: 0</th>\n",
       "      <th>Start Time</th>\n",
       "      <th>End Time</th>\n",
       "      <th>Trip Duration</th>\n",
       "      <th>Start Station</th>\n",
       "      <th>End Station</th>\n",
       "      <th>User Type</th>\n",
       "      <th>Gender</th>\n",
       "      <th>Birth Year</th>\n",
       "      <th>month</th>\n",
       "      <th>day_of_week</th>\n",
       "    </tr>\n",
       "  </thead>\n",
       "  <tbody>\n",
       "    <tr>\n",
       "      <th>0</th>\n",
       "      <td>1423854</td>\n",
       "      <td>2017-06-23 15:09:32</td>\n",
       "      <td>2017-06-23 15:14:53</td>\n",
       "      <td>321</td>\n",
       "      <td>Wood St &amp; Hubbard St</td>\n",
       "      <td>Damen Ave &amp; Chicago Ave</td>\n",
       "      <td>Subscriber</td>\n",
       "      <td>Male</td>\n",
       "      <td>1992.0</td>\n",
       "      <td>6</td>\n",
       "      <td>Friday</td>\n",
       "    </tr>\n",
       "    <tr>\n",
       "      <th>1</th>\n",
       "      <td>955915</td>\n",
       "      <td>2017-05-25 18:19:03</td>\n",
       "      <td>2017-05-25 18:45:53</td>\n",
       "      <td>1610</td>\n",
       "      <td>Theater on the Lake</td>\n",
       "      <td>Sheffield Ave &amp; Waveland Ave</td>\n",
       "      <td>Subscriber</td>\n",
       "      <td>Female</td>\n",
       "      <td>1992.0</td>\n",
       "      <td>5</td>\n",
       "      <td>Thursday</td>\n",
       "    </tr>\n",
       "    <tr>\n",
       "      <th>2</th>\n",
       "      <td>9031</td>\n",
       "      <td>2017-01-04 08:27:49</td>\n",
       "      <td>2017-01-04 08:34:45</td>\n",
       "      <td>416</td>\n",
       "      <td>May St &amp; Taylor St</td>\n",
       "      <td>Wood St &amp; Taylor St</td>\n",
       "      <td>Subscriber</td>\n",
       "      <td>Male</td>\n",
       "      <td>1981.0</td>\n",
       "      <td>1</td>\n",
       "      <td>Wednesday</td>\n",
       "    </tr>\n",
       "    <tr>\n",
       "      <th>3</th>\n",
       "      <td>304487</td>\n",
       "      <td>2017-03-06 13:49:38</td>\n",
       "      <td>2017-03-06 13:55:28</td>\n",
       "      <td>350</td>\n",
       "      <td>Christiana Ave &amp; Lawrence Ave</td>\n",
       "      <td>St. Louis Ave &amp; Balmoral Ave</td>\n",
       "      <td>Subscriber</td>\n",
       "      <td>Male</td>\n",
       "      <td>1986.0</td>\n",
       "      <td>3</td>\n",
       "      <td>Monday</td>\n",
       "    </tr>\n",
       "    <tr>\n",
       "      <th>4</th>\n",
       "      <td>45207</td>\n",
       "      <td>2017-01-17 14:53:07</td>\n",
       "      <td>2017-01-17 15:02:01</td>\n",
       "      <td>534</td>\n",
       "      <td>Clark St &amp; Randolph St</td>\n",
       "      <td>Desplaines St &amp; Jackson Blvd</td>\n",
       "      <td>Subscriber</td>\n",
       "      <td>Male</td>\n",
       "      <td>1975.0</td>\n",
       "      <td>1</td>\n",
       "      <td>Tuesday</td>\n",
       "    </tr>\n",
       "    <tr>\n",
       "      <th>5</th>\n",
       "      <td>1473887</td>\n",
       "      <td>2017-06-26 09:01:20</td>\n",
       "      <td>2017-06-26 09:11:06</td>\n",
       "      <td>586</td>\n",
       "      <td>Clinton St &amp; Washington Blvd</td>\n",
       "      <td>Canal St &amp; Taylor St</td>\n",
       "      <td>Subscriber</td>\n",
       "      <td>Male</td>\n",
       "      <td>1990.0</td>\n",
       "      <td>6</td>\n",
       "      <td>Monday</td>\n",
       "    </tr>\n",
       "    <tr>\n",
       "      <th>6</th>\n",
       "      <td>961916</td>\n",
       "      <td>2017-05-26 09:41:44</td>\n",
       "      <td>2017-05-26 09:46:25</td>\n",
       "      <td>281</td>\n",
       "      <td>Ashland Ave &amp; Lake St</td>\n",
       "      <td>Wood St &amp; Hubbard St</td>\n",
       "      <td>Subscriber</td>\n",
       "      <td>Female</td>\n",
       "      <td>1983.0</td>\n",
       "      <td>5</td>\n",
       "      <td>Friday</td>\n",
       "    </tr>\n",
       "    <tr>\n",
       "      <th>7</th>\n",
       "      <td>65924</td>\n",
       "      <td>2017-01-21 14:28:38</td>\n",
       "      <td>2017-01-21 14:40:41</td>\n",
       "      <td>723</td>\n",
       "      <td>Larrabee St &amp; Kingsbury St</td>\n",
       "      <td>Larrabee St &amp; Armitage Ave</td>\n",
       "      <td>Customer</td>\n",
       "      <td>NaN</td>\n",
       "      <td>NaN</td>\n",
       "      <td>1</td>\n",
       "      <td>Saturday</td>\n",
       "    </tr>\n",
       "    <tr>\n",
       "      <th>8</th>\n",
       "      <td>606841</td>\n",
       "      <td>2017-04-20 16:08:51</td>\n",
       "      <td>2017-04-20 16:20:20</td>\n",
       "      <td>689</td>\n",
       "      <td>Sedgwick St &amp; Huron St</td>\n",
       "      <td>Halsted St &amp; Blackhawk St (*)</td>\n",
       "      <td>Subscriber</td>\n",
       "      <td>Male</td>\n",
       "      <td>1984.0</td>\n",
       "      <td>4</td>\n",
       "      <td>Thursday</td>\n",
       "    </tr>\n",
       "    <tr>\n",
       "      <th>9</th>\n",
       "      <td>135470</td>\n",
       "      <td>2017-02-06 18:00:47</td>\n",
       "      <td>2017-02-06 18:09:00</td>\n",
       "      <td>493</td>\n",
       "      <td>Stetson Ave &amp; South Water St</td>\n",
       "      <td>Clinton St &amp; Washington Blvd</td>\n",
       "      <td>Subscriber</td>\n",
       "      <td>Male</td>\n",
       "      <td>1979.0</td>\n",
       "      <td>2</td>\n",
       "      <td>Monday</td>\n",
       "    </tr>\n",
       "    <tr>\n",
       "      <th>10</th>\n",
       "      <td>175805</td>\n",
       "      <td>2017-02-15 07:09:55</td>\n",
       "      <td>2017-02-15 07:14:56</td>\n",
       "      <td>301</td>\n",
       "      <td>Broadway &amp; Barry Ave</td>\n",
       "      <td>Wilton Ave &amp; Belmont Ave</td>\n",
       "      <td>Subscriber</td>\n",
       "      <td>Female</td>\n",
       "      <td>1993.0</td>\n",
       "      <td>2</td>\n",
       "      <td>Wednesday</td>\n",
       "    </tr>\n",
       "    <tr>\n",
       "      <th>11</th>\n",
       "      <td>71678</td>\n",
       "      <td>2017-01-22 15:15:45</td>\n",
       "      <td>2017-01-22 15:31:02</td>\n",
       "      <td>917</td>\n",
       "      <td>Southport Ave &amp; Wellington Ave</td>\n",
       "      <td>Clark St &amp; Schiller St</td>\n",
       "      <td>Subscriber</td>\n",
       "      <td>Male</td>\n",
       "      <td>1964.0</td>\n",
       "      <td>1</td>\n",
       "      <td>Sunday</td>\n",
       "    </tr>\n",
       "    <tr>\n",
       "      <th>12</th>\n",
       "      <td>19061</td>\n",
       "      <td>2017-01-08 16:03:00</td>\n",
       "      <td>2017-01-08 16:07:37</td>\n",
       "      <td>277</td>\n",
       "      <td>Green St &amp; Madison St</td>\n",
       "      <td>Ada St &amp; Washington Blvd</td>\n",
       "      <td>Subscriber</td>\n",
       "      <td>Male</td>\n",
       "      <td>1961.0</td>\n",
       "      <td>1</td>\n",
       "      <td>Sunday</td>\n",
       "    </tr>\n",
       "    <tr>\n",
       "      <th>13</th>\n",
       "      <td>1023296</td>\n",
       "      <td>2017-05-30 15:46:18</td>\n",
       "      <td>2017-05-30 15:52:12</td>\n",
       "      <td>354</td>\n",
       "      <td>Larrabee St &amp; Kingsbury St</td>\n",
       "      <td>Clark St &amp; Elm St</td>\n",
       "      <td>Subscriber</td>\n",
       "      <td>Male</td>\n",
       "      <td>1985.0</td>\n",
       "      <td>5</td>\n",
       "      <td>Tuesday</td>\n",
       "    </tr>\n",
       "    <tr>\n",
       "      <th>14</th>\n",
       "      <td>611000</td>\n",
       "      <td>2017-04-20 19:26:33</td>\n",
       "      <td>2017-04-20 19:35:08</td>\n",
       "      <td>515</td>\n",
       "      <td>Canal St &amp; Madison St</td>\n",
       "      <td>Racine Ave (May St) &amp; Fulton St</td>\n",
       "      <td>Subscriber</td>\n",
       "      <td>Male</td>\n",
       "      <td>1984.0</td>\n",
       "      <td>4</td>\n",
       "      <td>Thursday</td>\n",
       "    </tr>\n",
       "    <tr>\n",
       "      <th>15</th>\n",
       "      <td>958716</td>\n",
       "      <td>2017-05-25 22:59:33</td>\n",
       "      <td>2017-05-25 23:07:19</td>\n",
       "      <td>466</td>\n",
       "      <td>Clark St &amp; Armitage Ave</td>\n",
       "      <td>Sheffield Ave &amp; Wrightwood Ave</td>\n",
       "      <td>Subscriber</td>\n",
       "      <td>Female</td>\n",
       "      <td>1985.0</td>\n",
       "      <td>5</td>\n",
       "      <td>Thursday</td>\n",
       "    </tr>\n",
       "    <tr>\n",
       "      <th>16</th>\n",
       "      <td>718598</td>\n",
       "      <td>2017-05-03 13:20:38</td>\n",
       "      <td>2017-05-03 13:31:13</td>\n",
       "      <td>635</td>\n",
       "      <td>Ada St &amp; Washington Blvd</td>\n",
       "      <td>Daley Center Plaza</td>\n",
       "      <td>Subscriber</td>\n",
       "      <td>Male</td>\n",
       "      <td>1967.0</td>\n",
       "      <td>5</td>\n",
       "      <td>Wednesday</td>\n",
       "    </tr>\n",
       "    <tr>\n",
       "      <th>17</th>\n",
       "      <td>931608</td>\n",
       "      <td>2017-05-23 08:08:25</td>\n",
       "      <td>2017-05-23 08:11:09</td>\n",
       "      <td>164</td>\n",
       "      <td>Damen Ave &amp; Cortland St</td>\n",
       "      <td>Marshfield Ave &amp; Cortland St</td>\n",
       "      <td>Subscriber</td>\n",
       "      <td>Male</td>\n",
       "      <td>1990.0</td>\n",
       "      <td>5</td>\n",
       "      <td>Tuesday</td>\n",
       "    </tr>\n",
       "    <tr>\n",
       "      <th>18</th>\n",
       "      <td>1469705</td>\n",
       "      <td>2017-06-25 21:26:30</td>\n",
       "      <td>2017-06-25 21:33:44</td>\n",
       "      <td>434</td>\n",
       "      <td>State St &amp; Pearson St</td>\n",
       "      <td>Clark St &amp; Schiller St</td>\n",
       "      <td>Subscriber</td>\n",
       "      <td>Male</td>\n",
       "      <td>1987.0</td>\n",
       "      <td>6</td>\n",
       "      <td>Sunday</td>\n",
       "    </tr>\n",
       "    <tr>\n",
       "      <th>19</th>\n",
       "      <td>475456</td>\n",
       "      <td>2017-04-08 11:37:55</td>\n",
       "      <td>2017-04-08 11:51:55</td>\n",
       "      <td>840</td>\n",
       "      <td>Adler Planetarium</td>\n",
       "      <td>Burnham Harbor</td>\n",
       "      <td>Customer</td>\n",
       "      <td>NaN</td>\n",
       "      <td>NaN</td>\n",
       "      <td>4</td>\n",
       "      <td>Saturday</td>\n",
       "    </tr>\n",
       "  </tbody>\n",
       "</table>\n",
       "</div>"
      ],
      "text/plain": [
       "    Unnamed: 0          Start Time             End Time  Trip Duration  \\\n",
       "0      1423854 2017-06-23 15:09:32  2017-06-23 15:14:53            321   \n",
       "1       955915 2017-05-25 18:19:03  2017-05-25 18:45:53           1610   \n",
       "2         9031 2017-01-04 08:27:49  2017-01-04 08:34:45            416   \n",
       "3       304487 2017-03-06 13:49:38  2017-03-06 13:55:28            350   \n",
       "4        45207 2017-01-17 14:53:07  2017-01-17 15:02:01            534   \n",
       "5      1473887 2017-06-26 09:01:20  2017-06-26 09:11:06            586   \n",
       "6       961916 2017-05-26 09:41:44  2017-05-26 09:46:25            281   \n",
       "7        65924 2017-01-21 14:28:38  2017-01-21 14:40:41            723   \n",
       "8       606841 2017-04-20 16:08:51  2017-04-20 16:20:20            689   \n",
       "9       135470 2017-02-06 18:00:47  2017-02-06 18:09:00            493   \n",
       "10      175805 2017-02-15 07:09:55  2017-02-15 07:14:56            301   \n",
       "11       71678 2017-01-22 15:15:45  2017-01-22 15:31:02            917   \n",
       "12       19061 2017-01-08 16:03:00  2017-01-08 16:07:37            277   \n",
       "13     1023296 2017-05-30 15:46:18  2017-05-30 15:52:12            354   \n",
       "14      611000 2017-04-20 19:26:33  2017-04-20 19:35:08            515   \n",
       "15      958716 2017-05-25 22:59:33  2017-05-25 23:07:19            466   \n",
       "16      718598 2017-05-03 13:20:38  2017-05-03 13:31:13            635   \n",
       "17      931608 2017-05-23 08:08:25  2017-05-23 08:11:09            164   \n",
       "18     1469705 2017-06-25 21:26:30  2017-06-25 21:33:44            434   \n",
       "19      475456 2017-04-08 11:37:55  2017-04-08 11:51:55            840   \n",
       "\n",
       "                     Start Station                      End Station  \\\n",
       "0             Wood St & Hubbard St          Damen Ave & Chicago Ave   \n",
       "1              Theater on the Lake     Sheffield Ave & Waveland Ave   \n",
       "2               May St & Taylor St              Wood St & Taylor St   \n",
       "3    Christiana Ave & Lawrence Ave     St. Louis Ave & Balmoral Ave   \n",
       "4           Clark St & Randolph St     Desplaines St & Jackson Blvd   \n",
       "5     Clinton St & Washington Blvd             Canal St & Taylor St   \n",
       "6            Ashland Ave & Lake St             Wood St & Hubbard St   \n",
       "7       Larrabee St & Kingsbury St       Larrabee St & Armitage Ave   \n",
       "8           Sedgwick St & Huron St    Halsted St & Blackhawk St (*)   \n",
       "9     Stetson Ave & South Water St     Clinton St & Washington Blvd   \n",
       "10            Broadway & Barry Ave         Wilton Ave & Belmont Ave   \n",
       "11  Southport Ave & Wellington Ave           Clark St & Schiller St   \n",
       "12           Green St & Madison St         Ada St & Washington Blvd   \n",
       "13      Larrabee St & Kingsbury St                Clark St & Elm St   \n",
       "14           Canal St & Madison St  Racine Ave (May St) & Fulton St   \n",
       "15         Clark St & Armitage Ave   Sheffield Ave & Wrightwood Ave   \n",
       "16        Ada St & Washington Blvd               Daley Center Plaza   \n",
       "17         Damen Ave & Cortland St     Marshfield Ave & Cortland St   \n",
       "18           State St & Pearson St           Clark St & Schiller St   \n",
       "19               Adler Planetarium                   Burnham Harbor   \n",
       "\n",
       "     User Type  Gender  Birth Year  month day_of_week  \n",
       "0   Subscriber    Male      1992.0      6      Friday  \n",
       "1   Subscriber  Female      1992.0      5    Thursday  \n",
       "2   Subscriber    Male      1981.0      1   Wednesday  \n",
       "3   Subscriber    Male      1986.0      3      Monday  \n",
       "4   Subscriber    Male      1975.0      1     Tuesday  \n",
       "5   Subscriber    Male      1990.0      6      Monday  \n",
       "6   Subscriber  Female      1983.0      5      Friday  \n",
       "7     Customer     NaN         NaN      1    Saturday  \n",
       "8   Subscriber    Male      1984.0      4    Thursday  \n",
       "9   Subscriber    Male      1979.0      2      Monday  \n",
       "10  Subscriber  Female      1993.0      2   Wednesday  \n",
       "11  Subscriber    Male      1964.0      1      Sunday  \n",
       "12  Subscriber    Male      1961.0      1      Sunday  \n",
       "13  Subscriber    Male      1985.0      5     Tuesday  \n",
       "14  Subscriber    Male      1984.0      4    Thursday  \n",
       "15  Subscriber  Female      1985.0      5    Thursday  \n",
       "16  Subscriber    Male      1967.0      5   Wednesday  \n",
       "17  Subscriber    Male      1990.0      5     Tuesday  \n",
       "18  Subscriber    Male      1987.0      6      Sunday  \n",
       "19    Customer     NaN         NaN      4    Saturday  "
      ]
     },
     "execution_count": 9,
     "metadata": {},
     "output_type": "execute_result"
    }
   ],
   "source": [
    "df.head(20)"
   ]
  },
  {
   "cell_type": "markdown",
   "id": "ac375ae8",
   "metadata": {},
   "source": [
    "# Statistics Section"
   ]
  },
  {
   "cell_type": "markdown",
   "id": "35da5561",
   "metadata": {},
   "source": [
    "## Time Stats"
   ]
  },
  {
   "cell_type": "code",
   "execution_count": 10,
   "id": "104a3d1f",
   "metadata": {
    "ExecuteTime": {
     "end_time": "2023-05-10T15:26:37.515708Z",
     "start_time": "2023-05-10T15:26:37.509478Z"
    }
   },
   "outputs": [],
   "source": [
    "def time_stats(df):\n",
    "    \"\"\"Displays statistics on the most frequent times of travel.\"\"\"\n",
    "\n",
    "    print('\\nCalculating The Most Frequent Times of Travel...\\n')\n",
    "    start_time = time.time()\n",
    "    \n",
    "    df['Start Time'] = pd.to_datetime(df['Start Time'])\n",
    "\n",
    "    # display the most common month\n",
    "    \n",
    "    df['month'] = df['Start Time'].dt.month_name()\n",
    "    \n",
    "    common_month = df['month'].mode()[0]\n",
    "    \n",
    "    print('The most common month: ', common_month)\n",
    "\n",
    "\n",
    "    # display the most common day of week\n",
    "    \n",
    "    df['day_of_week'] = df['Start Time'].dt.day_name()\n",
    "    \n",
    "    common_day_of_week = df['day_of_week'].mode()[0]\n",
    "    \n",
    "    print('The most common week: ', common_day_of_week)\n",
    "\n",
    "\n",
    "    # display the most common start hour\n",
    "    \n",
    "    df['hour'] = df['Start Time'].dt.hour\n",
    "    \n",
    "    common_hour = df['hour'].mode()[0]\n",
    "    \n",
    "    print('The most common hour: ', common_hour)\n",
    "\n",
    "\n",
    "    print(\"\\nThis took %s seconds.\" % (time.time() - start_time))\n",
    "    print('-'*40)"
   ]
  },
  {
   "cell_type": "code",
   "execution_count": 11,
   "id": "8b1f20c9",
   "metadata": {
    "ExecuteTime": {
     "end_time": "2023-05-10T15:26:39.451340Z",
     "start_time": "2023-05-10T15:26:39.181234Z"
    }
   },
   "outputs": [
    {
     "name": "stdout",
     "output_type": "stream",
     "text": [
      "\n",
      "Calculating The Most Frequent Times of Travel...\n",
      "\n",
      "The most common month:  June\n",
      "The most common week:  Tuesday\n",
      "The most common hour:  17\n",
      "\n",
      "This took 0.26693010330200195 seconds.\n",
      "----------------------------------------\n"
     ]
    }
   ],
   "source": [
    "time_stats(df)"
   ]
  },
  {
   "cell_type": "markdown",
   "id": "ca2e5952",
   "metadata": {},
   "source": [
    "# Station Stats"
   ]
  },
  {
   "cell_type": "code",
   "execution_count": 12,
   "id": "221aa425",
   "metadata": {
    "ExecuteTime": {
     "end_time": "2023-05-10T15:26:45.337134Z",
     "start_time": "2023-05-10T15:26:45.330247Z"
    }
   },
   "outputs": [],
   "source": [
    "def station_stats(df):\n",
    "    \"\"\"Displays statistics on the most popular stations and trip.\"\"\"\n",
    "\n",
    "    print('\\nCalculating The Most Popular Stations and Trip...\\n')\n",
    "    start_time = time.time()\n",
    "    \n",
    "    df['Start Time'] = pd.to_datetime(df['Start Time'])\n",
    "\n",
    "    # display most commonly used start station\n",
    "    \n",
    "    df['common_start_station'] = df['Start Station'].value_counts().idxmax()\n",
    "    \n",
    "    common_start_station = df['common_start_station'].mode()[0]\n",
    "    \n",
    "    print('The most common start station: ', common_start_station)\n",
    "\n",
    "    # display most commonly used end station\n",
    "    \n",
    "    df['common_end_station'] = df['End Station'].value_counts().idxmax()\n",
    "    \n",
    "    common_end_station = df['common_end_station'].mode()[0]\n",
    "    \n",
    "    print('The most common end station: ', common_end_station)\n",
    "\n",
    "\n",
    "    # display most frequent combination of start station and end station trip\n",
    "    # referenced both start and end stations in order to be able to concatenate strings\n",
    "    \n",
    "    start = df['Start Station']\n",
    "    \n",
    "    end = df['End Station']\n",
    "    \n",
    "    frequent_combination = (start + end).mode().loc[0]\n",
    "    \n",
    "    print(\"\\nThe most frequent combination of start station and end station trip is:\\n\", frequent_combination)\n",
    "    \n",
    "    \n",
    "\n",
    "    print(\"\\nThis took %s seconds.\" % (time.time() - start_time))\n",
    "    print('-'*40)\n",
    "\n"
   ]
  },
  {
   "cell_type": "code",
   "execution_count": 13,
   "id": "8e160413",
   "metadata": {
    "ExecuteTime": {
     "end_time": "2023-05-10T15:26:46.356573Z",
     "start_time": "2023-05-10T15:26:46.102569Z"
    },
    "scrolled": true
   },
   "outputs": [
    {
     "name": "stdout",
     "output_type": "stream",
     "text": [
      "\n",
      "Calculating The Most Popular Stations and Trip...\n",
      "\n",
      "The most common start station:  Streeter Dr & Grand Ave\n",
      "The most common end station:  Streeter Dr & Grand Ave\n",
      "\n",
      "The most frequent combination of start station and end station trip is:\n",
      " Lake Shore Dr & Monroe StStreeter Dr & Grand Ave\n",
      "\n",
      "This took 0.2510542869567871 seconds.\n",
      "----------------------------------------\n"
     ]
    }
   ],
   "source": [
    "station_stats(df)"
   ]
  },
  {
   "cell_type": "markdown",
   "id": "8a452b3a",
   "metadata": {},
   "source": [
    "## Trip Duration Stats"
   ]
  },
  {
   "cell_type": "code",
   "execution_count": 14,
   "id": "01d443c6",
   "metadata": {
    "ExecuteTime": {
     "end_time": "2023-05-10T15:26:48.322396Z",
     "start_time": "2023-05-10T15:26:48.317619Z"
    }
   },
   "outputs": [],
   "source": [
    "def trip_duration_stats(df):\n",
    "    \"\"\"Displays statistics on the total and average trip duration.\"\"\"\n",
    "\n",
    "    print('\\nCalculating Trip Duration...\\n')\n",
    "    start_time = time.time()\n",
    "\n",
    "    # display total travel time\n",
    "    \n",
    "    trip_duration_sum = df['Trip Duration'].sum()\n",
    "    \n",
    "    print(\"Total travel time: {} (s)\".format(trip_duration_sum))\n",
    "\n",
    "\n",
    "    # display mean travel time\n",
    "    \n",
    "    trip_duration_mean = df[\"Trip Duration\"].mean()\n",
    "    \n",
    "    print(\"Total travel time is: {} (s)\".format(trip_duration_mean))\n",
    "\n",
    "    print(\"\\nThis took %s seconds.\" % (time.time() - start_time))\n",
    "    print('-'*40)"
   ]
  },
  {
   "cell_type": "code",
   "execution_count": 15,
   "id": "cd42acb8",
   "metadata": {
    "ExecuteTime": {
     "end_time": "2023-05-10T15:26:49.198688Z",
     "start_time": "2023-05-10T15:26:49.188592Z"
    }
   },
   "outputs": [
    {
     "name": "stdout",
     "output_type": "stream",
     "text": [
      "\n",
      "Calculating Trip Duration...\n",
      "\n",
      "Total travel time: 280871787 (s)\n",
      "Total travel time is: 936.23929 (s)\n",
      "\n",
      "This took 0.007169961929321289 seconds.\n",
      "----------------------------------------\n"
     ]
    }
   ],
   "source": [
    "trip_duration_stats(df)"
   ]
  },
  {
   "cell_type": "markdown",
   "id": "bd63e3e6",
   "metadata": {},
   "source": [
    "## User Stats"
   ]
  },
  {
   "cell_type": "code",
   "execution_count": 16,
   "id": "c674e795",
   "metadata": {
    "ExecuteTime": {
     "end_time": "2023-05-10T15:26:50.973139Z",
     "start_time": "2023-05-10T15:26:50.966939Z"
    }
   },
   "outputs": [],
   "source": [
    "# Remeber chicago doesn't have gender and birth year\n",
    "\n",
    "def user_stats(df):\n",
    "    \"\"\"Displays statistics on bikeshare users.\"\"\"\n",
    "\n",
    "    print('\\nCalculating User Stats...\\n')\n",
    "    start_time = time.time()\n",
    "\n",
    "    # Display counts of user types\n",
    "    \n",
    "    user_type_count = df['User Type'].value_counts()\n",
    "    \n",
    "    print(\"\\nThe user type count is: \", user_type_count)\n",
    "\n",
    "\n",
    "    # Display counts of gender\n",
    "    \n",
    "    try:\n",
    "        gender_count = df['Gender'].value.counts()\n",
    "        print(\"\\nThe gender counts are: \", gender_count)\n",
    "    except:\n",
    "        print(\"There isn't a Gender column for this file\")\n",
    "\n",
    "\n",
    "    # Display earliest, most recent, and most common year of birth\n",
    "    \n",
    "    try:\n",
    "        earliest_birth = int(df['Birth Year'].min())\n",
    "        most_recent_birth = int(df['Birth Year'].max())\n",
    "        most_common_birth = int(df['Birth Year'].mode()[0])\n",
    "        print(\"\\nThe earliest birth year: {}.\\n\\nThe most recent birth year: {}.\\n\\nThe most common year of birth: {}.\".format(earliest_birth, most_recent_birth, most_common_birth))\n",
    "    except:\n",
    "        print(\"There is no information about birth year in this file\")\n",
    "        \n",
    "    \n",
    "\n",
    "\n",
    "    print(\"\\nThis took %s seconds.\" % (time.time() - start_time))\n",
    "    print('-'*40)\n",
    "\n",
    "\n"
   ]
  },
  {
   "cell_type": "code",
   "execution_count": 17,
   "id": "c9f94725",
   "metadata": {
    "ExecuteTime": {
     "end_time": "2023-05-10T15:26:51.943413Z",
     "start_time": "2023-05-10T15:26:51.906694Z"
    }
   },
   "outputs": [
    {
     "name": "stdout",
     "output_type": "stream",
     "text": [
      "\n",
      "Calculating User Stats...\n",
      "\n",
      "\n",
      "The user type count is:  Subscriber    238889\n",
      "Customer       61110\n",
      "Dependent          1\n",
      "Name: User Type, dtype: int64\n",
      "There isn't a Gender column for this file\n",
      "\n",
      "The earliest birth year: 1899.\n",
      "\n",
      "The most recent birth year: 2016.\n",
      "\n",
      "The most common year of birth: 1989.\n",
      "\n",
      "This took 0.034304141998291016 seconds.\n",
      "----------------------------------------\n"
     ]
    }
   ],
   "source": [
    "user_stats(df)"
   ]
  },
  {
   "cell_type": "markdown",
   "id": "93e27f0b",
   "metadata": {},
   "source": [
    "## Promp User Function"
   ]
  },
  {
   "cell_type": "code",
   "execution_count": 18,
   "id": "ca5fffcb",
   "metadata": {
    "ExecuteTime": {
     "end_time": "2023-05-10T15:26:53.995888Z",
     "start_time": "2023-05-10T15:26:53.990908Z"
    }
   },
   "outputs": [],
   "source": [
    "def show_raw_data(df):\n",
    "    \"\"\"displays raw data by user request. Ask if they want 5 additional rows to be shown\"\"\"\n",
    "    print(df.head())\n",
    "    data_amt = 0\n",
    "    while True:\n",
    "        raw_data = input(\"\\nWould you like to see the next five rows of raw data? Enter Yes or No.\\n\")\n",
    "        if raw_data.casefold() != 'yes':\n",
    "            return\n",
    "        data_amt = data_amt + 5\n",
    "        print(df.iloc[data_amt:data_amt+5])"
   ]
  },
  {
   "cell_type": "code",
   "execution_count": 19,
   "id": "14e2131a",
   "metadata": {
    "ExecuteTime": {
     "end_time": "2023-05-10T15:26:55.682222Z",
     "start_time": "2023-05-10T15:26:54.847034Z"
    }
   },
   "outputs": [
    {
     "name": "stdout",
     "output_type": "stream",
     "text": [
      "   Unnamed: 0          Start Time             End Time  Trip Duration  \\\n",
      "0     1423854 2017-06-23 15:09:32  2017-06-23 15:14:53            321   \n",
      "1      955915 2017-05-25 18:19:03  2017-05-25 18:45:53           1610   \n",
      "2        9031 2017-01-04 08:27:49  2017-01-04 08:34:45            416   \n",
      "3      304487 2017-03-06 13:49:38  2017-03-06 13:55:28            350   \n",
      "4       45207 2017-01-17 14:53:07  2017-01-17 15:02:01            534   \n",
      "\n",
      "                   Start Station                   End Station   User Type  \\\n",
      "0           Wood St & Hubbard St       Damen Ave & Chicago Ave  Subscriber   \n",
      "1            Theater on the Lake  Sheffield Ave & Waveland Ave  Subscriber   \n",
      "2             May St & Taylor St           Wood St & Taylor St  Subscriber   \n",
      "3  Christiana Ave & Lawrence Ave  St. Louis Ave & Balmoral Ave  Subscriber   \n",
      "4         Clark St & Randolph St  Desplaines St & Jackson Blvd  Subscriber   \n",
      "\n",
      "   Gender  Birth Year    month day_of_week  hour     common_start_station  \\\n",
      "0    Male      1992.0     June      Friday    15  Streeter Dr & Grand Ave   \n",
      "1  Female      1992.0      May    Thursday    18  Streeter Dr & Grand Ave   \n",
      "2    Male      1981.0  January   Wednesday     8  Streeter Dr & Grand Ave   \n",
      "3    Male      1986.0    March      Monday    13  Streeter Dr & Grand Ave   \n",
      "4    Male      1975.0  January     Tuesday    14  Streeter Dr & Grand Ave   \n",
      "\n",
      "        common_end_station  \n",
      "0  Streeter Dr & Grand Ave  \n",
      "1  Streeter Dr & Grand Ave  \n",
      "2  Streeter Dr & Grand Ave  \n",
      "3  Streeter Dr & Grand Ave  \n",
      "4  Streeter Dr & Grand Ave  \n",
      "\n",
      "Would you like to see the next five rows of raw data? Enter Yes or No.\n",
      "\n"
     ]
    }
   ],
   "source": [
    "show_raw_data(df)"
   ]
  },
  {
   "cell_type": "markdown",
   "id": "c88662c7",
   "metadata": {},
   "source": [
    "## Main Function"
   ]
  },
  {
   "cell_type": "code",
   "execution_count": null,
   "id": "14ae4dfb",
   "metadata": {
    "ExecuteTime": {
     "start_time": "2023-05-10T15:30:00.491Z"
    }
   },
   "outputs": [
    {
     "name": "stdout",
     "output_type": "stream",
     "text": [
      "Hello! Let's explore some US bikeshare data!\n"
     ]
    }
   ],
   "source": [
    "def main():\n",
    "    while True:\n",
    "        city, month, day = get_filters()\n",
    "        df = load_data(city, month, day)\n",
    "\n",
    "        time_stats(df)\n",
    "        station_stats(df)\n",
    "        trip_duration_stats(df)\n",
    "        user_stats(df)\n",
    "        \"\"\"asks user if they want to see 5 rows of data\"\"\"\n",
    "        while True:\n",
    "            raw_data = input(\"\\nWould you like to see five rows of raw data? Enter Yes or No.\\n\")\n",
    "            if  raw_data.lower() != 'yes':\n",
    "                break\n",
    "            show_raw_data(df)\n",
    "            break\n",
    "        \n",
    "\n",
    "        restart = input('\\nWould you like to restart? Enter yes or no.\\n')\n",
    "        if restart.lower() != 'yes':\n",
    "            break\n",
    "\n",
    "\n",
    "if __name__ == \"__main__\":\n",
    "\tmain()\n",
    "\n",
    "# in a script, uncomment this:\n",
    "# if __name__ --\""
   ]
  }
 ],
 "metadata": {
  "kernelspec": {
   "display_name": "Python 3 (ipykernel)",
   "language": "python",
   "name": "python3"
  },
  "language_info": {
   "codemirror_mode": {
    "name": "ipython",
    "version": 3
   },
   "file_extension": ".py",
   "mimetype": "text/x-python",
   "name": "python",
   "nbconvert_exporter": "python",
   "pygments_lexer": "ipython3",
   "version": "3.9.12"
  },
  "toc": {
   "base_numbering": 1,
   "nav_menu": {},
   "number_sections": true,
   "sideBar": true,
   "skip_h1_title": false,
   "title_cell": "Table of Contents",
   "title_sidebar": "Contents",
   "toc_cell": false,
   "toc_position": {},
   "toc_section_display": true,
   "toc_window_display": false
  }
 },
 "nbformat": 4,
 "nbformat_minor": 5
}
