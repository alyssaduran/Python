{
  "cells": [
    {
      "cell_type": "markdown",
      "metadata": {
        "id": "8Np2oa_ZijMe"
      },
      "source": [
        "# **Project-World Happiness**\n",
        "\n",
        "\n",
        "\n",
        "\n",
        "\n",
        "*Completed by Madison Bochard and Alyssa Duran*\n",
        "\n",
        "---\n",
        "\n",
        "\n",
        "### **Acknowledgement**\n",
        "The project is adapted from the AWS/The Coding School Machine Learning training program.\n",
        "\n",
        "### **Description**\n",
        "In this project, you will use what you have learned so far about the machine learning process, Linear Regression, and KNN to analyze the official 2015 World Happiness Report from the United Nations. In particular, you will explore, wrangle, and visualize this data and then model the Happiness Score and Region of countries based on the variables reported in this dataset.\n",
        "\n",
        "<br>\n",
        "\n",
        "\n",
        "### **Overview**\n",
        "For this project, you are given data collected for the 2015 UN Happiness Report. The 2015 Happiness Report, also known as the World Happiness Report 2015, is a publication that presents rankings of countries based on their levels of happiness and well-being. The report is a collaborative effort between the Sustainable Development Solutions Network (SDSN) and the Earth Institute at Columbia University, with contributions from various researchers and experts.\n",
        "\n",
        "<br>\n",
        "\n",
        "The report includes rankings of 158 countries based on the \"World Happiness Index,\" which is calculated using survey data from the Gallup World Poll and other sources. The index combines factors such as GDP per capita, social support, healthy life expectancy, freedom to make life choices, generosity, and perceptions of corruption to assess overall happiness levels.\n",
        "\n",
        "<br>\n",
        "\n",
        "The 2015 Happiness Report sheds light on the relationship between happiness, well-being, and sustainable development, emphasizing the importance of incorporating measures of happiness into policy-making and development strategies. It provides valuable insights into global happiness levels, highlighting the factors that contribute to happiness and offering recommendations for policymakers and individuals to improve overall well-being.\n",
        "\n",
        "<br>\n",
        "\n",
        " Everything you need is provided below. But, if you are curious to learn more the [official source can be found here](https://worldhappiness.report/ed/2015/#appendices-and-data). Here is a list of variables for your reference:\n",
        "\n",
        "* `Country`: The country that the data corresponds to.\n",
        "\n",
        "* `Region`: The region that this country is classified as belong to.\n",
        "\n",
        "* `Happiness Score`: A metric measured in 2015 by asking the sampled people the question: \"How would you rate your happiness on a scale of 0 to 10 where 10 is the happiest.\"\n",
        "\n",
        "* `GDP`: The extent to which GDP contributes to the calculation of the Happiness Score.\n",
        "\n",
        "* `Social Support`: The extent to which Family contributes to the calculation of the Happiness Score\n",
        "\n",
        "* `Health Life Expectancy`: The extent to which Life expectancy contributed to the calculation of the Happiness Score\n",
        "\n",
        "* `Freedom`: The extent to which Freedom contributed to the calculation of the Happiness Score.\n",
        "\n",
        "* `Corruption Perception`: The extent to which Perception of Corruption contributes to Happiness Score.\n",
        "\n",
        "* `Generosity`: A model of the national average of response to the question “Have you donated money to a charity in the past month?” on GDP per\n",
        "capita.\n",
        "\n",
        "**NOTE**: All numerical variables except `Happiness Score` have already been standardized.\n",
        "\n",
        "<br>\n",
        "\n",
        "### **Key questions to consider**\n",
        "1. How do these variables, such as `Generosity` or `Freedom`, influence a country's `Happiness Score`?\n",
        "\n",
        "2. In 2015, which nation had the highest `Happiness Score`? Which nation had the lowest `Happiness Score`?\n",
        "\n",
        "2. What patterns can be observed visually? What patterns can be observed with deeper data exploration?\n",
        "\n",
        "3. Is Linear Regression or KNN better suited to this task of predicting Happiness Score or Region and why?\n",
        "\n",
        "4. What is the best value of K for any case where you used KNN?\n",
        "\n",
        "5. What role did feature selection play in the performance of models for both cases?\n",
        "\n",
        "6. What variables play the largest role in predicting Happiness Score or Region?\n",
        "\n",
        "<br>\n",
        "\n",
        "### **Project Structure**\n",
        "**Part 1**:  [Data Exploration, Wrangling, and Visualization](#p1)\n",
        "\n",
        "**Part 2**:  [Predicting Happiness Score](#p2)\n",
        "\n",
        "> **Part 2.1**: [Using All Numerical Features](#p21)\n",
        ">\n",
        "> **Part 2.2**: [Using the 3 Best Numerical Features](#p22)\n",
        ">\n",
        ">\n",
        ">\n",
        "\n",
        "**Part 3**: [Predicting Region](#p3)\n",
        "\n",
        "> **Part 3.1**: [Using All Numerical Features](#p31)\n",
        ">\n",
        "> **Part 3.2**: [Using the 2 Best Numerical Features](#p32)\n",
        ">\n",
        ">\n",
        ">\n",
        "\n",
        "</br>\n",
        "\n",
        "\n",
        "\n",
        "### **Cheat Sheets**\n",
        "\n",
        "* [Python Basics](https://docs.google.com/document/d/1jC6zIdBukfEoJ8CesGf_usCtK2P6pJTWe5oxopC49aY/edit?usp=drive_link)\n",
        "\n",
        "* [EDA with pandas](https://docs.google.com/document/d/1hMsWa7ziMulT0WjoCaqLTkpoqilCO12HlOrVy4-_zwY/edit?usp=drive_link)\n",
        "\n",
        "* [Data Visualization with matplotlib](https://docs.google.com/document/d/1IA-sgjUvrQYyKlcBxFN-PIsHMEMrixwd6sh9RlMkubQ/edit?usp=drive_link)\n",
        "\n",
        "* [Linear Regression with sklearn](https://docs.google.com/document/d/1uJueuaBhszyXJ1UeRZU25Ux6LgW7m7YtG1GA5x_O120/edit?usp=drive_link)\n",
        "\n",
        "* [KNN with sklearn](https://docs.google.com/document/d/1X-aC73lEWaYwzzG9AQJCJSyCFxLvGf2rFnK6hlE_Gy8/edit?usp=drive_link)\n",
        "\n",
        "<br>\n",
        "\n",
        "**Provide comments/justification as much as you can using # or text box.**"
      ]
    },
    {
      "cell_type": "markdown",
      "metadata": {
        "id": "IhTrLU7XNTgK"
      },
      "source": [
        "### **First of all, import all necessary libraries and functions.**"
      ]
    },
    {
      "cell_type": "code",
      "execution_count": null,
      "metadata": {
        "id": "9nct9t4ONb6a"
      },
      "outputs": [],
      "source": [
        "import pandas as pd\n",
        "import numpy as np\n",
        "import matplotlib.pyplot as plt\n",
        "from sklearn import model_selection, metrics\n",
        "from sklearn.linear_model import LinearRegression\n",
        "from sklearn.neighbors import KNeighborsClassifier"
      ]
    },
    {
      "cell_type": "markdown",
      "metadata": {
        "id": "PW6EDtnXdczv"
      },
      "source": [
        "<a name=\"p1\"></a>\n",
        "\n",
        "---\n",
        "## **Part 1: Data Exploration, Wrangling, and Visualization**\n",
        "---\n",
        "\n",
        "In this part, you will load in and explore the dataset for this project. This will involve using functions from pandas as well as reading source material to understand the data that you are working with.\n",
        "\n",
        "<br>\n",
        "The data file can be found at https://docs.google.com/spreadsheets/d/e/2PACX-1vSUoGLZ90Qr6A5-DmdYD30CIEwMqIAmtWSbdcLgi10u5WoCtCuj_RuSm7wDsFsfcwPGRB6ZZDduCxpO/pub?gid=108149846&single=true&output=csv\n",
        "\n",
        "**Write your code to read the data.**"
      ]
    },
    {
      "cell_type": "code",
      "execution_count": null,
      "metadata": {
        "id": "wumYMGw2O-cO"
      },
      "outputs": [],
      "source": [
        "url =\"https://docs.google.com/spreadsheets/d/e/2PACX-1vSUoGLZ90Qr6A5-DmdYD30CIEwMqIAmtWSbdcLgi10u5WoCtCuj_RuSm7wDsFsfcwPGRB6ZZDduCxpO/pub?gid=108149846&single=true&output=csv\"\n",
        "happy_df = pd.read_csv(url)"
      ]
    },
    {
      "cell_type": "markdown",
      "metadata": {
        "id": "NhuunxzY8Sxx"
      },
      "source": [
        "### **Problem #1.1**\n",
        "\n",
        "Spend a few minutes getting familiar with the data. Some things to consider: how many instances are there? How many features? What are the features' datatypes?"
      ]
    },
    {
      "cell_type": "code",
      "execution_count": null,
      "metadata": {
        "colab": {
          "base_uri": "https://localhost:8080/"
        },
        "id": "NqsdS5NXcwR8",
        "outputId": "4bac25d5-f8f6-46f6-bf24-585ce1916063"
      },
      "outputs": [
        {
          "output_type": "stream",
          "name": "stdout",
          "text": [
            "First five rows of the dataset:\n",
            "       Country          region  Happiness Score      GDP  Social_support  \\\n",
            "0  Switzerland  Western Europe            7.587  1.39651         1.34951   \n",
            "1      Iceland  Western Europe            7.561  1.30232         1.40223   \n",
            "2      Denmark  Western Europe            7.527  1.32548         1.36058   \n",
            "3       Norway  Western Europe            7.522  1.45900         1.33095   \n",
            "4       Canada   North America            7.427  1.32629         1.32261   \n",
            "\n",
            "   Healthy Life_Expectancy  Freedom  corruptionperception  Generosity  \n",
            "0                  0.94143  0.66557               0.41978     0.29678  \n",
            "1                  0.94784  0.62877               0.14145     0.43630  \n",
            "2                  0.87464  0.64938               0.48357     0.34139  \n",
            "3                  0.88521  0.66973               0.36503     0.34699  \n",
            "4                  0.90563  0.63297               0.32957     0.45811  \n",
            "\n",
            "\n",
            "Overview of the dataset:\n",
            "<class 'pandas.core.frame.DataFrame'>\n",
            "RangeIndex: 163 entries, 0 to 162\n",
            "Data columns (total 9 columns):\n",
            " #   Column                   Non-Null Count  Dtype  \n",
            "---  ------                   --------------  -----  \n",
            " 0   Country                  163 non-null    object \n",
            " 1   region                   162 non-null    object \n",
            " 2   Happiness Score          162 non-null    float64\n",
            " 3   GDP                      163 non-null    float64\n",
            " 4   Social_support           163 non-null    float64\n",
            " 5   Healthy Life_Expectancy  162 non-null    float64\n",
            " 6   Freedom                  163 non-null    float64\n",
            " 7   corruptionperception     163 non-null    float64\n",
            " 8   Generosity               163 non-null    float64\n",
            "dtypes: float64(7), object(2)\n",
            "memory usage: 11.6+ KB\n",
            "None\n",
            "\n",
            "\n",
            "Range of the dataset:\n",
            "RangeIndex(start=0, stop=163, step=1)\n",
            "\n",
            "\n",
            "Descriptive statistics of the dataset:\n",
            "       Happiness Score         GDP  Social_support  Healthy Life_Expectancy  \\\n",
            "count       162.000000  163.000000      163.000000               162.000000   \n",
            "mean          5.388142    0.843783        0.996992                 0.628682   \n",
            "std           1.154049    0.412128        0.271510                 0.253697   \n",
            "min           2.839000    0.000000        0.000000                 0.000000   \n",
            "25%           4.517250    0.533325        0.862445                 0.436233   \n",
            "50%           5.232500    0.918510        1.032760                 0.697535   \n",
            "75%           6.288500    1.173945        1.221780                 0.814142   \n",
            "max           7.587000    1.690420        1.402230                 1.025250   \n",
            "\n",
            "          Freedom  corruptionperception  Generosity  \n",
            "count  163.000000            163.000000  163.000000  \n",
            "mean     0.429772              0.147002    0.239114  \n",
            "std      0.152468              0.122891    0.126658  \n",
            "min      0.000000              0.000000    0.000000  \n",
            "25%      0.324650              0.062780    0.157075  \n",
            "50%      0.436260              0.107310    0.218540  \n",
            "75%      0.554870              0.183830    0.308715  \n",
            "max      0.669730              0.551910    0.795880  \n"
          ]
        }
      ],
      "source": [
        "print(\"First five rows of the dataset:\")\n",
        "print(happy_df.head())\n",
        "print('\\n')\n",
        "print(\"Overview of the dataset:\")\n",
        "print(happy_df.info())\n",
        "print('\\n')\n",
        "print(\"Range of the dataset:\")\n",
        "print(happy_df.index)\n",
        "print('\\n')\n",
        "print(\"Descriptive statistics of the dataset:\")\n",
        "print(happy_df.describe())"
      ]
    },
    {
      "cell_type": "markdown",
      "metadata": {
        "id": "d795Y2UnQVS3"
      },
      "source": [
        "**Interpret the results here**\n",
        "\n",
        "There are 163 total instances. Three rows contain null values: region, Happiness Score, and Healthy Life_Expectancy. There are 9 features total with two features (Country, region) having an \"object\" data type and seven having a data type of \"float64.\" The features are: Country, region, Happiness Score, GDP, Social_support, Healthy Life_Expectancy, and Freedom. Column names are not in a unified format.\n",
        "\n",
        "Based off of the data, either Region or Happiness Score could be values worth prediciting using a model. Country could also be worth predicting, but trying to accurately predict a specific country would most likely require a very complex model. For this set, it is better to treat Country as an identifier."
      ]
    },
    {
      "cell_type": "markdown",
      "metadata": {
        "id": "SN4uAbT-0GLi"
      },
      "source": [
        "### **Problem #1.2**\n",
        "\n",
        "This data currently has no consistent naming convention for columns, which is very bad practice. So, rename each column to be of the style, `'Column Name'`, where each word is separated by a space (not an underscore, slash, or anything else) and starts uppercase. Furthermore, make sure all words are spelled correctly.\n",
        "<br>"
      ]
    },
    {
      "cell_type": "code",
      "execution_count": null,
      "metadata": {
        "colab": {
          "base_uri": "https://localhost:8080/",
          "height": 347
        },
        "id": "T1dokwjC0GLj",
        "outputId": "1e3d8ff7-e2f5-45be-d8c7-5fe4eedbcc04"
      },
      "outputs": [
        {
          "output_type": "execute_result",
          "data": {
            "text/plain": [
              "       Country          Region  Happiness Score      GDP  Social Support  \\\n",
              "0  Switzerland  Western Europe            7.587  1.39651         1.34951   \n",
              "1      Iceland  Western Europe            7.561  1.30232         1.40223   \n",
              "2      Denmark  Western Europe            7.527  1.32548         1.36058   \n",
              "3       Norway  Western Europe            7.522  1.45900         1.33095   \n",
              "4       Canada   North America            7.427  1.32629         1.32261   \n",
              "\n",
              "   Healthy Life Expectancy  Freedom  Corruption Perception  Generosity  \n",
              "0                  0.94143  0.66557                0.41978     0.29678  \n",
              "1                  0.94784  0.62877                0.14145     0.43630  \n",
              "2                  0.87464  0.64938                0.48357     0.34139  \n",
              "3                  0.88521  0.66973                0.36503     0.34699  \n",
              "4                  0.90563  0.63297                0.32957     0.45811  "
            ],
            "text/html": [
              "\n",
              "  <div id=\"df-b6727159-ce46-4bd5-aded-faf3e68592f0\" class=\"colab-df-container\">\n",
              "    <div>\n",
              "<style scoped>\n",
              "    .dataframe tbody tr th:only-of-type {\n",
              "        vertical-align: middle;\n",
              "    }\n",
              "\n",
              "    .dataframe tbody tr th {\n",
              "        vertical-align: top;\n",
              "    }\n",
              "\n",
              "    .dataframe thead th {\n",
              "        text-align: right;\n",
              "    }\n",
              "</style>\n",
              "<table border=\"1\" class=\"dataframe\">\n",
              "  <thead>\n",
              "    <tr style=\"text-align: right;\">\n",
              "      <th></th>\n",
              "      <th>Country</th>\n",
              "      <th>Region</th>\n",
              "      <th>Happiness Score</th>\n",
              "      <th>GDP</th>\n",
              "      <th>Social Support</th>\n",
              "      <th>Healthy Life Expectancy</th>\n",
              "      <th>Freedom</th>\n",
              "      <th>Corruption Perception</th>\n",
              "      <th>Generosity</th>\n",
              "    </tr>\n",
              "  </thead>\n",
              "  <tbody>\n",
              "    <tr>\n",
              "      <th>0</th>\n",
              "      <td>Switzerland</td>\n",
              "      <td>Western Europe</td>\n",
              "      <td>7.587</td>\n",
              "      <td>1.39651</td>\n",
              "      <td>1.34951</td>\n",
              "      <td>0.94143</td>\n",
              "      <td>0.66557</td>\n",
              "      <td>0.41978</td>\n",
              "      <td>0.29678</td>\n",
              "    </tr>\n",
              "    <tr>\n",
              "      <th>1</th>\n",
              "      <td>Iceland</td>\n",
              "      <td>Western Europe</td>\n",
              "      <td>7.561</td>\n",
              "      <td>1.30232</td>\n",
              "      <td>1.40223</td>\n",
              "      <td>0.94784</td>\n",
              "      <td>0.62877</td>\n",
              "      <td>0.14145</td>\n",
              "      <td>0.43630</td>\n",
              "    </tr>\n",
              "    <tr>\n",
              "      <th>2</th>\n",
              "      <td>Denmark</td>\n",
              "      <td>Western Europe</td>\n",
              "      <td>7.527</td>\n",
              "      <td>1.32548</td>\n",
              "      <td>1.36058</td>\n",
              "      <td>0.87464</td>\n",
              "      <td>0.64938</td>\n",
              "      <td>0.48357</td>\n",
              "      <td>0.34139</td>\n",
              "    </tr>\n",
              "    <tr>\n",
              "      <th>3</th>\n",
              "      <td>Norway</td>\n",
              "      <td>Western Europe</td>\n",
              "      <td>7.522</td>\n",
              "      <td>1.45900</td>\n",
              "      <td>1.33095</td>\n",
              "      <td>0.88521</td>\n",
              "      <td>0.66973</td>\n",
              "      <td>0.36503</td>\n",
              "      <td>0.34699</td>\n",
              "    </tr>\n",
              "    <tr>\n",
              "      <th>4</th>\n",
              "      <td>Canada</td>\n",
              "      <td>North America</td>\n",
              "      <td>7.427</td>\n",
              "      <td>1.32629</td>\n",
              "      <td>1.32261</td>\n",
              "      <td>0.90563</td>\n",
              "      <td>0.63297</td>\n",
              "      <td>0.32957</td>\n",
              "      <td>0.45811</td>\n",
              "    </tr>\n",
              "  </tbody>\n",
              "</table>\n",
              "</div>\n",
              "    <div class=\"colab-df-buttons\">\n",
              "\n",
              "  <div class=\"colab-df-container\">\n",
              "    <button class=\"colab-df-convert\" onclick=\"convertToInteractive('df-b6727159-ce46-4bd5-aded-faf3e68592f0')\"\n",
              "            title=\"Convert this dataframe to an interactive table.\"\n",
              "            style=\"display:none;\">\n",
              "\n",
              "  <svg xmlns=\"http://www.w3.org/2000/svg\" height=\"24px\" viewBox=\"0 -960 960 960\">\n",
              "    <path d=\"M120-120v-720h720v720H120Zm60-500h600v-160H180v160Zm220 220h160v-160H400v160Zm0 220h160v-160H400v160ZM180-400h160v-160H180v160Zm440 0h160v-160H620v160ZM180-180h160v-160H180v160Zm440 0h160v-160H620v160Z\"/>\n",
              "  </svg>\n",
              "    </button>\n",
              "\n",
              "  <style>\n",
              "    .colab-df-container {\n",
              "      display:flex;\n",
              "      gap: 12px;\n",
              "    }\n",
              "\n",
              "    .colab-df-convert {\n",
              "      background-color: #E8F0FE;\n",
              "      border: none;\n",
              "      border-radius: 50%;\n",
              "      cursor: pointer;\n",
              "      display: none;\n",
              "      fill: #1967D2;\n",
              "      height: 32px;\n",
              "      padding: 0 0 0 0;\n",
              "      width: 32px;\n",
              "    }\n",
              "\n",
              "    .colab-df-convert:hover {\n",
              "      background-color: #E2EBFA;\n",
              "      box-shadow: 0px 1px 2px rgba(60, 64, 67, 0.3), 0px 1px 3px 1px rgba(60, 64, 67, 0.15);\n",
              "      fill: #174EA6;\n",
              "    }\n",
              "\n",
              "    .colab-df-buttons div {\n",
              "      margin-bottom: 4px;\n",
              "    }\n",
              "\n",
              "    [theme=dark] .colab-df-convert {\n",
              "      background-color: #3B4455;\n",
              "      fill: #D2E3FC;\n",
              "    }\n",
              "\n",
              "    [theme=dark] .colab-df-convert:hover {\n",
              "      background-color: #434B5C;\n",
              "      box-shadow: 0px 1px 3px 1px rgba(0, 0, 0, 0.15);\n",
              "      filter: drop-shadow(0px 1px 2px rgba(0, 0, 0, 0.3));\n",
              "      fill: #FFFFFF;\n",
              "    }\n",
              "  </style>\n",
              "\n",
              "    <script>\n",
              "      const buttonEl =\n",
              "        document.querySelector('#df-b6727159-ce46-4bd5-aded-faf3e68592f0 button.colab-df-convert');\n",
              "      buttonEl.style.display =\n",
              "        google.colab.kernel.accessAllowed ? 'block' : 'none';\n",
              "\n",
              "      async function convertToInteractive(key) {\n",
              "        const element = document.querySelector('#df-b6727159-ce46-4bd5-aded-faf3e68592f0');\n",
              "        const dataTable =\n",
              "          await google.colab.kernel.invokeFunction('convertToInteractive',\n",
              "                                                    [key], {});\n",
              "        if (!dataTable) return;\n",
              "\n",
              "        const docLinkHtml = 'Like what you see? Visit the ' +\n",
              "          '<a target=\"_blank\" href=https://colab.research.google.com/notebooks/data_table.ipynb>data table notebook</a>'\n",
              "          + ' to learn more about interactive tables.';\n",
              "        element.innerHTML = '';\n",
              "        dataTable['output_type'] = 'display_data';\n",
              "        await google.colab.output.renderOutput(dataTable, element);\n",
              "        const docLink = document.createElement('div');\n",
              "        docLink.innerHTML = docLinkHtml;\n",
              "        element.appendChild(docLink);\n",
              "      }\n",
              "    </script>\n",
              "  </div>\n",
              "\n",
              "\n",
              "<div id=\"df-6cbdbb76-1d70-4899-bfc9-a0a3c3ad40c7\">\n",
              "  <button class=\"colab-df-quickchart\" onclick=\"quickchart('df-6cbdbb76-1d70-4899-bfc9-a0a3c3ad40c7')\"\n",
              "            title=\"Suggest charts\"\n",
              "            style=\"display:none;\">\n",
              "\n",
              "<svg xmlns=\"http://www.w3.org/2000/svg\" height=\"24px\"viewBox=\"0 0 24 24\"\n",
              "     width=\"24px\">\n",
              "    <g>\n",
              "        <path d=\"M19 3H5c-1.1 0-2 .9-2 2v14c0 1.1.9 2 2 2h14c1.1 0 2-.9 2-2V5c0-1.1-.9-2-2-2zM9 17H7v-7h2v7zm4 0h-2V7h2v10zm4 0h-2v-4h2v4z\"/>\n",
              "    </g>\n",
              "</svg>\n",
              "  </button>\n",
              "\n",
              "<style>\n",
              "  .colab-df-quickchart {\n",
              "      --bg-color: #E8F0FE;\n",
              "      --fill-color: #1967D2;\n",
              "      --hover-bg-color: #E2EBFA;\n",
              "      --hover-fill-color: #174EA6;\n",
              "      --disabled-fill-color: #AAA;\n",
              "      --disabled-bg-color: #DDD;\n",
              "  }\n",
              "\n",
              "  [theme=dark] .colab-df-quickchart {\n",
              "      --bg-color: #3B4455;\n",
              "      --fill-color: #D2E3FC;\n",
              "      --hover-bg-color: #434B5C;\n",
              "      --hover-fill-color: #FFFFFF;\n",
              "      --disabled-bg-color: #3B4455;\n",
              "      --disabled-fill-color: #666;\n",
              "  }\n",
              "\n",
              "  .colab-df-quickchart {\n",
              "    background-color: var(--bg-color);\n",
              "    border: none;\n",
              "    border-radius: 50%;\n",
              "    cursor: pointer;\n",
              "    display: none;\n",
              "    fill: var(--fill-color);\n",
              "    height: 32px;\n",
              "    padding: 0;\n",
              "    width: 32px;\n",
              "  }\n",
              "\n",
              "  .colab-df-quickchart:hover {\n",
              "    background-color: var(--hover-bg-color);\n",
              "    box-shadow: 0 1px 2px rgba(60, 64, 67, 0.3), 0 1px 3px 1px rgba(60, 64, 67, 0.15);\n",
              "    fill: var(--button-hover-fill-color);\n",
              "  }\n",
              "\n",
              "  .colab-df-quickchart-complete:disabled,\n",
              "  .colab-df-quickchart-complete:disabled:hover {\n",
              "    background-color: var(--disabled-bg-color);\n",
              "    fill: var(--disabled-fill-color);\n",
              "    box-shadow: none;\n",
              "  }\n",
              "\n",
              "  .colab-df-spinner {\n",
              "    border: 2px solid var(--fill-color);\n",
              "    border-color: transparent;\n",
              "    border-bottom-color: var(--fill-color);\n",
              "    animation:\n",
              "      spin 1s steps(1) infinite;\n",
              "  }\n",
              "\n",
              "  @keyframes spin {\n",
              "    0% {\n",
              "      border-color: transparent;\n",
              "      border-bottom-color: var(--fill-color);\n",
              "      border-left-color: var(--fill-color);\n",
              "    }\n",
              "    20% {\n",
              "      border-color: transparent;\n",
              "      border-left-color: var(--fill-color);\n",
              "      border-top-color: var(--fill-color);\n",
              "    }\n",
              "    30% {\n",
              "      border-color: transparent;\n",
              "      border-left-color: var(--fill-color);\n",
              "      border-top-color: var(--fill-color);\n",
              "      border-right-color: var(--fill-color);\n",
              "    }\n",
              "    40% {\n",
              "      border-color: transparent;\n",
              "      border-right-color: var(--fill-color);\n",
              "      border-top-color: var(--fill-color);\n",
              "    }\n",
              "    60% {\n",
              "      border-color: transparent;\n",
              "      border-right-color: var(--fill-color);\n",
              "    }\n",
              "    80% {\n",
              "      border-color: transparent;\n",
              "      border-right-color: var(--fill-color);\n",
              "      border-bottom-color: var(--fill-color);\n",
              "    }\n",
              "    90% {\n",
              "      border-color: transparent;\n",
              "      border-bottom-color: var(--fill-color);\n",
              "    }\n",
              "  }\n",
              "</style>\n",
              "\n",
              "  <script>\n",
              "    async function quickchart(key) {\n",
              "      const quickchartButtonEl =\n",
              "        document.querySelector('#' + key + ' button');\n",
              "      quickchartButtonEl.disabled = true;  // To prevent multiple clicks.\n",
              "      quickchartButtonEl.classList.add('colab-df-spinner');\n",
              "      try {\n",
              "        const charts = await google.colab.kernel.invokeFunction(\n",
              "            'suggestCharts', [key], {});\n",
              "      } catch (error) {\n",
              "        console.error('Error during call to suggestCharts:', error);\n",
              "      }\n",
              "      quickchartButtonEl.classList.remove('colab-df-spinner');\n",
              "      quickchartButtonEl.classList.add('colab-df-quickchart-complete');\n",
              "    }\n",
              "    (() => {\n",
              "      let quickchartButtonEl =\n",
              "        document.querySelector('#df-6cbdbb76-1d70-4899-bfc9-a0a3c3ad40c7 button');\n",
              "      quickchartButtonEl.style.display =\n",
              "        google.colab.kernel.accessAllowed ? 'block' : 'none';\n",
              "    })();\n",
              "  </script>\n",
              "</div>\n",
              "\n",
              "    </div>\n",
              "  </div>\n"
            ],
            "application/vnd.google.colaboratory.intrinsic+json": {
              "type": "dataframe",
              "variable_name": "happy_df",
              "summary": "{\n  \"name\": \"happy_df\",\n  \"rows\": 163,\n  \"fields\": [\n    {\n      \"column\": \"Country\",\n      \"properties\": {\n        \"dtype\": \"string\",\n        \"num_unique_values\": 158,\n        \"samples\": [\n          \"Myanmar\",\n          \"Japan\",\n          \"Egypt\"\n        ],\n        \"semantic_type\": \"\",\n        \"description\": \"\"\n      }\n    },\n    {\n      \"column\": \"Region\",\n      \"properties\": {\n        \"dtype\": \"category\",\n        \"num_unique_values\": 10,\n        \"samples\": [\n          \"Sub-Saharan Africa\",\n          \"North America\",\n          \"Southeastern Asia\"\n        ],\n        \"semantic_type\": \"\",\n        \"description\": \"\"\n      }\n    },\n    {\n      \"column\": \"Happiness Score\",\n      \"properties\": {\n        \"dtype\": \"number\",\n        \"std\": 1.154048675826735,\n        \"min\": 2.839,\n        \"max\": 7.587,\n        \"num_unique_values\": 156,\n        \"samples\": [\n          4.876,\n          5.477,\n          5.129\n        ],\n        \"semantic_type\": \"\",\n        \"description\": \"\"\n      }\n    },\n    {\n      \"column\": \"GDP\",\n      \"properties\": {\n        \"dtype\": \"number\",\n        \"std\": 0.4121275675608634,\n        \"min\": 0.0,\n        \"max\": 1.69042,\n        \"num_unique_values\": 158,\n        \"samples\": [\n          0.27108,\n          1.27074,\n          0.8818\n        ],\n        \"semantic_type\": \"\",\n        \"description\": \"\"\n      }\n    },\n    {\n      \"column\": \"Social Support\",\n      \"properties\": {\n        \"dtype\": \"number\",\n        \"std\": 0.2715104692202454,\n        \"min\": 0.0,\n        \"max\": 1.40223,\n        \"num_unique_values\": 158,\n        \"samples\": [\n          0.70905,\n          1.25712,\n          0.747\n        ],\n        \"semantic_type\": \"\",\n        \"description\": \"\"\n      }\n    },\n    {\n      \"column\": \"Healthy Life Expectancy\",\n      \"properties\": {\n        \"dtype\": \"number\",\n        \"std\": 0.25369706329233277,\n        \"min\": 0.0,\n        \"max\": 1.02525,\n        \"num_unique_values\": 156,\n        \"samples\": [\n          0.54909,\n          1.01328,\n          0.29924\n        ],\n        \"semantic_type\": \"\",\n        \"description\": \"\"\n      }\n    },\n    {\n      \"column\": \"Freedom\",\n      \"properties\": {\n        \"dtype\": \"number\",\n        \"std\": 0.15246848923010878,\n        \"min\": 0.0,\n        \"max\": 0.66973,\n        \"num_unique_values\": 158,\n        \"samples\": [\n          0.44017,\n          0.49615,\n          0.17288\n        ],\n        \"semantic_type\": \"\",\n        \"description\": \"\"\n      }\n    },\n    {\n      \"column\": \"Corruption Perception\",\n      \"properties\": {\n        \"dtype\": \"number\",\n        \"std\": 0.12289106136780918,\n        \"min\": 0.0,\n        \"max\": 0.55191,\n        \"num_unique_values\": 157,\n        \"samples\": [\n          0.12474,\n          0.07857,\n          0.06324\n        ],\n        \"semantic_type\": \"\",\n        \"description\": \"\"\n      }\n    },\n    {\n      \"column\": \"Generosity\",\n      \"properties\": {\n        \"dtype\": \"number\",\n        \"std\": 0.12665846183797475,\n        \"min\": 0.0,\n        \"max\": 0.79588,\n        \"num_unique_values\": 158,\n        \"samples\": [\n          0.79588,\n          0.10705,\n          0.11291\n        ],\n        \"semantic_type\": \"\",\n        \"description\": \"\"\n      }\n    }\n  ]\n}"
            }
          },
          "metadata": {},
          "execution_count": 4
        }
      ],
      "source": [
        "happy_df = happy_df.rename(columns={'region':'Region','Social_support':'Social Support','Healthy Life_Expectancy':'Healthy Life Expectancy',\n",
        "                                    'corruptionperception':'Corruption Perception'})\n",
        "happy_df.head()"
      ]
    },
    {
      "cell_type": "markdown",
      "metadata": {
        "id": "f5ZW7Yo_ypkD"
      },
      "source": [
        "### **Problem #1.3**\n",
        "\n",
        "Drop any duplicate rows."
      ]
    },
    {
      "cell_type": "code",
      "execution_count": null,
      "metadata": {
        "id": "t3srgtUjypkE"
      },
      "outputs": [],
      "source": [
        "happy_df = happy_df.drop_duplicates()"
      ]
    },
    {
      "cell_type": "markdown",
      "metadata": {
        "id": "9k5LjqCxwpHa"
      },
      "source": [
        "### **Problem #1.4**\n",
        "\n",
        "Determine the datatypes of each feature. Determine the number of non-null values in each column."
      ]
    },
    {
      "cell_type": "code",
      "execution_count": null,
      "metadata": {
        "colab": {
          "base_uri": "https://localhost:8080/"
        },
        "id": "D9tg8YBiwpHb",
        "outputId": "2e2e213e-9b15-44c2-b717-5be08ff9c6b5"
      },
      "outputs": [
        {
          "output_type": "stream",
          "name": "stdout",
          "text": [
            "Datatypes of each column:\n",
            "Country                     object\n",
            "Region                      object\n",
            "Happiness Score            float64\n",
            "GDP                        float64\n",
            "Social Support             float64\n",
            "Healthy Life Expectancy    float64\n",
            "Freedom                    float64\n",
            "Corruption Perception      float64\n",
            "Generosity                 float64\n",
            "dtype: object\n",
            "\n",
            "\n",
            "Null Values:\n",
            "    Country                      Region  Happiness Score      GDP  \\\n",
            "13  Austria              Western Europe              NaN  1.33723   \n",
            "53  Moldova  Central and Eastern Europe            5.889  0.59448   \n",
            "64    Libya                         NaN            5.754  1.13145   \n",
            "\n",
            "    Social Support  Healthy Life Expectancy  Freedom  Corruption Perception  \\\n",
            "13         1.29704                  0.89042  0.62433                0.18676   \n",
            "53         1.01528                      NaN  0.32818                0.01615   \n",
            "64         1.11862                  0.70380  0.41668                0.11023   \n",
            "\n",
            "    Generosity  \n",
            "13     0.33088  \n",
            "53     0.20951  \n",
            "64     0.18295  \n"
          ]
        }
      ],
      "source": [
        "print(\"Datatypes of each column:\")\n",
        "print(happy_df.dtypes)\n",
        "print('\\n')\n",
        "\n",
        "\n",
        "df_find = happy_df.isnull().any(axis=1)\n",
        "df_null = happy_df[df_find]\n",
        "print('Null Values:')\n",
        "print(df_null)"
      ]
    },
    {
      "cell_type": "markdown",
      "metadata": {
        "id": "4u8X2oaywpHb"
      },
      "source": [
        "###### **Interpret your results here**\n",
        "\n",
        "There are 9 features total with two features (Country and Region) having an \"object\" data type and seven (Happiness Score, GDP, Social Support, Healthy Life Expectancy, Freedom, Corruption Perception, and Generosity) having a data type of \"float64.\"\n",
        "\n",
        "There is now only 158 total instances once duplicate rows were removed. There are three null values. The null values are in the Region, Happiness Score, and Healthy Life Expectancy columns."
      ]
    },
    {
      "cell_type": "markdown",
      "metadata": {
        "id": "eIcT3HdYy0Tz"
      },
      "source": [
        "### **Problem #1.5**\n",
        "\n",
        "You should have seen from Problem #1.4 that there are 3 columns with null values.\n",
        "Explain how do you plan to deal with them in details."
      ]
    },
    {
      "cell_type": "code",
      "execution_count": null,
      "metadata": {
        "colab": {
          "base_uri": "https://localhost:8080/"
        },
        "id": "INT16mmrEodT",
        "outputId": "97822e58-ee20-48a4-a161-f4ef8d4795c6"
      },
      "outputs": [
        {
          "output_type": "stream",
          "name": "stdout",
          "text": [
            "Country    Libya\n",
            "Region       NaN\n",
            "Name: 64, dtype: object\n",
            "\n",
            "\n",
            "Country                              Libya\n",
            "Region     Middle East and Northern Africa\n",
            "Name: 64, dtype: object\n"
          ]
        }
      ],
      "source": [
        "#Null value in 'Region'\n",
        "print(happy_df.loc[64, 'Country':'Region'])\n",
        "happy_df.loc[64, 'Region'] = 'Middle East and Northern Africa'\n",
        "print('\\n')\n",
        "print(happy_df.loc[64, 'Country':'Region'])"
      ]
    },
    {
      "cell_type": "code",
      "execution_count": null,
      "metadata": {
        "id": "5qKWwPnPUv9u",
        "colab": {
          "base_uri": "https://localhost:8080/"
        },
        "outputId": "d88e9023-47dc-4d08-d2b2-83b7d918ced4"
      },
      "outputs": [
        {
          "output_type": "stream",
          "name": "stderr",
          "text": [
            "<ipython-input-8-cf2a63450e7b>:5: SettingWithCopyWarning: \n",
            "A value is trying to be set on a copy of a slice from a DataFrame.\n",
            "Try using .loc[row_indexer,col_indexer] = value instead\n",
            "\n",
            "See the caveats in the documentation: https://pandas.pydata.org/pandas-docs/stable/user_guide/indexing.html#returning-a-view-versus-a-copy\n",
            "  happy_df['Happiness Score'] = happy_df['Happiness Score'].fillna(value=average_hs)\n"
          ]
        }
      ],
      "source": [
        "#Null value in 'Happiness Score'\n",
        "region_hs = ['Western Europe']\n",
        "result_region_hs = happy_df[happy_df['Region'].isin(region_hs)]\n",
        "average_hs = result_region_hs['Happiness Score'].mean()\n",
        "happy_df['Happiness Score'] = happy_df['Happiness Score'].fillna(value=average_hs)"
      ]
    },
    {
      "cell_type": "code",
      "execution_count": null,
      "metadata": {
        "id": "xFe_HJl9HSQR",
        "colab": {
          "base_uri": "https://localhost:8080/"
        },
        "outputId": "af6b84ab-7d4b-4b16-8d2d-984e0196fb72"
      },
      "outputs": [
        {
          "output_type": "stream",
          "name": "stderr",
          "text": [
            "<ipython-input-9-bc244848ce78>:5: SettingWithCopyWarning: \n",
            "A value is trying to be set on a copy of a slice from a DataFrame.\n",
            "Try using .loc[row_indexer,col_indexer] = value instead\n",
            "\n",
            "See the caveats in the documentation: https://pandas.pydata.org/pandas-docs/stable/user_guide/indexing.html#returning-a-view-versus-a-copy\n",
            "  happy_df['Healthy Life Expectancy'] = happy_df['Healthy Life Expectancy'].fillna(value=average_hle)\n"
          ]
        }
      ],
      "source": [
        "#Null value in 'Healthy Life Expectancy'\n",
        "region_hle = ['Central and Eastern Europe']\n",
        "result_region_hle = happy_df[happy_df['Region'].isin(region_hle)]\n",
        "average_hle = result_region_hle['Healthy Life Expectancy'].mean()\n",
        "happy_df['Healthy Life Expectancy'] = happy_df['Healthy Life Expectancy'].fillna(value=average_hle)"
      ]
    },
    {
      "cell_type": "code",
      "execution_count": null,
      "metadata": {
        "colab": {
          "base_uri": "https://localhost:8080/"
        },
        "id": "C_kkQ10_Db5h",
        "outputId": "6d44ea19-82c0-400a-bc62-dfd14ee4f0c5"
      },
      "outputs": [
        {
          "output_type": "stream",
          "name": "stdout",
          "text": [
            "Null Values:\n",
            "Empty DataFrame\n",
            "Columns: [Country, Region, Happiness Score, GDP, Social Support, Healthy Life Expectancy, Freedom, Corruption Perception, Generosity]\n",
            "Index: []\n"
          ]
        }
      ],
      "source": [
        "#Check for nulls\n",
        "df_find2 = happy_df.isnull().any(axis=1)\n",
        "df_null2 = happy_df[df_find2]\n",
        "print('Null Values:')\n",
        "print(df_null2)"
      ]
    },
    {
      "cell_type": "markdown",
      "metadata": {
        "id": "VvhNXu428etg"
      },
      "source": [
        "##### **Justify/explain your code here**\n",
        "\n",
        "Null in Region:\n",
        "The row containing a Null value in the 'Region' column will have that country's region added in since the knowledge worker can find that information.This option may not be plausible in a bigger dataset, but this dataset is relatively small.\n",
        "\n",
        "Null in Happiness Score and Healthy Life Expectancy: Implemented imputation on the Happiness Score and the Healthy Life Expectancy columns to replace the null values. The average was taken based on region in order to get as accurate of an imputation as possible. The average of the region's values would be closer to the real value than if the average of the entire column was used. This method was used because the data set is small."
      ]
    },
    {
      "cell_type": "markdown",
      "metadata": {
        "id": "0sOSncGP8fNU"
      },
      "source": [
        "### **Problem #1.6**\n",
        "\n",
        "Now that the data should be clean, take some time to understand the variables in this dataset, by looking at the [official statistical appendix/codebook here](https://s3.amazonaws.com/happiness-report/2015/StatisticalAppendixWHR3-April-16-2015.pdf) and answering the multiple choice questions below.\n",
        "\n",
        "You will only need to refer to the first 2.5 pages of information, until they start mentioning the \"expanded data set\". You do not need to read anything after this.\n",
        "\n",
        "<br>\n",
        "\n",
        "**1. Which of the following best describes the `Happiness Score`?**\n",
        "\n",
        ">**a.** We can also call this measure the \"life ladder”.\n",
        "\n",
        ">**b.** We can also call this measure the “objective well-being”.\n",
        "\n",
        ">**c.** This is a measure of how many ladders people own in a country on average. The more ladders, the happier the people.\n",
        "\n",
        ">**d.** Respondents were asked how happy they were on a scale of 1 - 10.\n",
        "\n",
        "<br>\n",
        "\n",
        "**2. How is `Social Support` measured?**\n",
        "\n",
        ">**a.** This represents the average of responses on a scale of 1 - 10.\n",
        "\n",
        ">**b.** This is measured differently for each country.\n",
        "\n",
        ">**c**. Respondents were asked, “If you were in trouble, would you have support?”\n",
        "\n",
        ">**d.** Respondents were asked, “If you were in trouble, do you have relatives or friends you can count on to help you whenever you need them, or not?”\n",
        "\n",
        "<br>\n",
        "\n",
        "**3. How is `Freedom` measured?**\n",
        "\n",
        ">**a.** This represents the average of responses on a scale of 1 - 10.\n",
        "\n",
        ">**b.** This is measured differently for each country.\n",
        "\n",
        ">**c**. Respondents were asked, “Are you satisfied or dissatisfied with your freedom to choose what you do with your life?”\n",
        "\n",
        ">**d.** Respondents were asked, “How free are you?”"
      ]
    },
    {
      "cell_type": "code",
      "execution_count": null,
      "metadata": {
        "id": "P-KFjeVWXhgl"
      },
      "outputs": [],
      "source": [
        "# ANSWER TO 1\n",
        "# a. We can also call this measure the \"life ladder”."
      ]
    },
    {
      "cell_type": "code",
      "execution_count": null,
      "metadata": {
        "id": "YHP1QIDaXjpU"
      },
      "outputs": [],
      "source": [
        "# ANSWER TO 2\n",
        "# d. Respondents were asked, “If you were in trouble, do you have relatives or friends you can count on to help you whenever you need them, or not?”"
      ]
    },
    {
      "cell_type": "code",
      "execution_count": null,
      "metadata": {
        "id": "vaOGD6ifXk8M"
      },
      "outputs": [],
      "source": [
        "# ANSWER TO 3\n",
        "# c. Respondents were asked, “Are you satisfied or dissatisfied with your freedom to choose what you do with your life?”"
      ]
    },
    {
      "cell_type": "markdown",
      "metadata": {
        "id": "1pSRy496-WVf"
      },
      "source": [
        "### **Problem #1.7**\n",
        "\n",
        "Determine the average (mean) and standard deviation (std) of the numerical variables."
      ]
    },
    {
      "cell_type": "code",
      "execution_count": null,
      "metadata": {
        "colab": {
          "base_uri": "https://localhost:8080/"
        },
        "id": "X-GpnCl0tkcO",
        "outputId": "4f4d0c70-bbd1-4d59-ea02-83aa24c6decf"
      },
      "outputs": [
        {
          "output_type": "stream",
          "name": "stdout",
          "text": [
            "Mean:\n",
            " Happiness Score            5.372342\n",
            "GDP                        0.846137\n",
            "Social Support             0.991046\n",
            "Healthy Life Expectancy    0.630918\n",
            "Freedom                    0.428615\n",
            "Corruption Perception      0.143422\n",
            "Generosity                 0.237296\n",
            "dtype: float64\n",
            "\n",
            "\n",
            "Std:\n",
            " Happiness Score            1.140356\n",
            "GDP                        0.403121\n",
            "Social Support             0.272369\n",
            "Healthy Life Expectancy    0.247184\n",
            "Freedom                    0.150693\n",
            "Corruption Perception      0.120034\n",
            "Generosity                 0.126685\n",
            "dtype: float64\n"
          ]
        }
      ],
      "source": [
        "print('Mean:\\n', happy_df.mean(numeric_only=True))\n",
        "print('\\n')\n",
        "print('Std:\\n',happy_df.std(numeric_only=True))"
      ]
    },
    {
      "cell_type": "markdown",
      "metadata": {
        "id": "r7Dq1L38tkcP"
      },
      "source": [
        "#### **Interpret your findings here**\n",
        "\n",
        "The mean and standard deviation of the columns show us how much the values vary. Because the mean of Generosity is only about 0.24 and its standard deviation is only about 0.13, we know that the values in the Generosity field are lower overall. My guess is that Generosity may not play a big part in predicting the class variable because it is lower overall regardless of the country. So Generosity is not likely to contribute as much to the model.\n",
        "\n",
        "We can also tell that Social Support, GDP, and Healthy Life Expectancy are most likely to contribute the most to Happiness Score."
      ]
    },
    {
      "cell_type": "markdown",
      "metadata": {
        "id": "tWCgavI9-q_b"
      },
      "source": [
        "### **Problem #1.8**\n",
        "\n",
        "Determine all the regions that were included in this dataset."
      ]
    },
    {
      "cell_type": "code",
      "execution_count": null,
      "metadata": {
        "colab": {
          "base_uri": "https://localhost:8080/"
        },
        "id": "2pNMjL4_t-Bh",
        "outputId": "6abc3710-24dc-4126-ad50-b77f555dcd13"
      },
      "outputs": [
        {
          "output_type": "stream",
          "name": "stdout",
          "text": [
            "Region\n",
            "Sub-Saharan Africa                 40\n",
            "Central and Eastern Europe         29\n",
            "Latin America and Caribbean        22\n",
            "Western Europe                     21\n",
            "Middle East and Northern Africa    20\n",
            "Southeastern Asia                   9\n",
            "Southern Asia                       7\n",
            "Eastern Asia                        6\n",
            "North America                       2\n",
            "Australia and New Zealand           2\n",
            "Name: count, dtype: int64\n",
            "\n",
            "\n",
            "1 Western Europe\n",
            "2 North America\n",
            "3 Australia and New Zealand\n",
            "4 Middle East and Northern Africa\n",
            "5 Latin America and Caribbean\n",
            "6 Southeastern Asia\n",
            "7 Central and Eastern Europe\n",
            "8 Eastern Asia\n",
            "9 Sub-Saharan Africa\n",
            "10 Southern Asia\n"
          ]
        }
      ],
      "source": [
        "print(happy_df['Region'].value_counts())\n",
        "print('\\n')\n",
        "\n",
        "regions = happy_df['Region'].unique()\n",
        "count = 0\n",
        "for name in regions:\n",
        "  count = count + 1\n",
        "  print(count, name)"
      ]
    },
    {
      "cell_type": "markdown",
      "metadata": {
        "id": "vD3nrzSPY9D9"
      },
      "source": [
        "### **Problem #1.9**\n",
        "\n",
        "You may have noticed that Region is a categorical feature. You need to encode it into numerical values.\n",
        "Write code to encode it into a feature called `Region Encoded`, according to what is given below.\n",
        "\n",
        "`0: Western Europe `\n",
        "\n",
        "`1: North America`\n",
        "\n",
        "`2: Australia and New Zealand`\n",
        "\n",
        "`3: Middle East and Northern Africa`\n",
        "\n",
        "`4: Latin America and Caribbean`\n",
        "\n",
        "`5: Southeastern Asia `\n",
        "\n",
        "`6: Central and Eastern Europe`\n",
        "\n",
        "`7: Eastern Asia`\n",
        "\n",
        "`8: Sub-Saharan Africa`\n",
        "\n",
        "`9: Southern Asia`\n",
        "\n",
        "\n"
      ]
    },
    {
      "cell_type": "code",
      "execution_count": null,
      "metadata": {
        "colab": {
          "base_uri": "https://localhost:8080/"
        },
        "id": "mipCFd7AY9D9",
        "outputId": "36187194-09bf-47a4-a156-f84fb283538e"
      },
      "outputs": [
        {
          "output_type": "stream",
          "name": "stdout",
          "text": [
            "Region\n",
            "8    40\n",
            "6    29\n",
            "4    22\n",
            "0    21\n",
            "3    20\n",
            "5     9\n",
            "9     7\n",
            "7     6\n",
            "1     2\n",
            "2     2\n",
            "Name: count, dtype: int64\n"
          ]
        }
      ],
      "source": [
        "region_cleanup = {\"Region\":{\"Western Europe\":0, \"North America\":1, \"Australia and New Zealand\":2, \"Middle East and Northern Africa\":3, \"Latin America and Caribbean\":4,\n",
        "                            \"Southeastern Asia\":5, \"Central and Eastern Europe\":6, \"Eastern Asia\":7, \"Sub-Saharan Africa\":8, \"Southern Asia\":9}}\n",
        "happy_df = happy_df.replace(region_cleanup)\n",
        "print(happy_df['Region'].value_counts())"
      ]
    },
    {
      "cell_type": "markdown",
      "metadata": {
        "id": "Qq1bhvR6-dYm"
      },
      "source": [
        "### **Problem #1.10**\n",
        "\n",
        "Visualization is an important tool in EDA. In this section, use visualization technqiues as you see fit to understand the data in depth. Try to be creative and thorough."
      ]
    },
    {
      "cell_type": "code",
      "execution_count": null,
      "metadata": {
        "colab": {
          "base_uri": "https://localhost:8080/",
          "height": 1000
        },
        "id": "qrv4G4yTaUA8",
        "outputId": "2544def7-26ff-43a0-dff4-61f07e08a053"
      },
      "outputs": [
        {
          "output_type": "display_data",
          "data": {
            "text/plain": [
              "<Figure size 1000x600 with 1 Axes>"
            ],
            "image/png": "[encoded data removed]"
          },
          "metadata": {}
        },
        {
          "output_type": "display_data",
          "data": {
            "text/plain": [
              "<Figure size 1000x600 with 1 Axes>"
            ],
            "image/png": "[encoded data removed]"
          },
          "metadata": {}
        },
        {
          "output_type": "display_data",
          "data": {
            "text/plain": [
              "<Figure size 1000x600 with 1 Axes>"
            ],
            "image/png": "[encoded data removed]"
          },
          "metadata": {}
        },
        {
          "output_type": "display_data",
          "data": {
            "text/plain": [
              "<Figure size 1000x600 with 1 Axes>"
            ],
            "image/png": "[encoded data removed]"
          },
          "metadata": {}
        },
        {
          "output_type": "display_data",
          "data": {
            "text/plain": [
              "<Figure size 1000x600 with 1 Axes>"
            ],
            "image/png": "[encoded data removed]"
          },
          "metadata": {}
        },
        {
          "output_type": "display_data",
          "data": {
            "text/plain": [
              "<Figure size 1000x600 with 1 Axes>"
            ],
            "image/png": "[encoded data removed]"
          },
          "metadata": {}
        }
      ],
      "source": [
        "# insert your code here\n",
        "# feel free to divide your code into several code boxes by techniques or other factor\n",
        "plt.rcParams[\"figure.figsize\"] = (10,6)\n",
        "\n",
        "plt.subplot(2,2,4)\n",
        "plt.scatter(happy_df['GDP'], happy_df['Happiness Score'])\n",
        "plt.title('GDP vs. Happiness Score')\n",
        "plt.xlabel('GDP')\n",
        "plt.ylabel('Happiness Score')\n",
        "plt.show()\n",
        "\n",
        "plt.subplot(2,2,4)\n",
        "plt.scatter(happy_df['Social Support'], happy_df['Happiness Score'])\n",
        "plt.title('Social Support vs. Happiness Score')\n",
        "plt.xlabel('Social Support')\n",
        "plt.ylabel('Happiness Score')\n",
        "plt.show()\n",
        "\n",
        "plt.subplot(2,2,4)\n",
        "plt.scatter(happy_df['Healthy Life Expectancy'], happy_df['Happiness Score'])\n",
        "plt.title('Healthy Life Expectancy vs. Happiness Score')\n",
        "plt.xlabel('Healthy Life Expectancy')\n",
        "plt.ylabel('Happiness Score')\n",
        "plt.show()\n",
        "\n",
        "plt.subplot(2,2,4)\n",
        "plt.scatter(happy_df['Freedom'], happy_df['Happiness Score'])\n",
        "plt.title('Freedom vs. Happiness Score')\n",
        "plt.xlabel('Freedom')\n",
        "plt.ylabel('Happiness Score')\n",
        "plt.show()\n",
        "\n",
        "plt.subplot(2,2,4)\n",
        "plt.scatter(happy_df['Corruption Perception'], happy_df['Happiness Score'])\n",
        "plt.title('Corruption Perception vs. Happiness Score')\n",
        "plt.xlabel('Corruption Perception')\n",
        "plt.ylabel('Happiness Score')\n",
        "plt.show()\n",
        "\n",
        "plt.subplot(2,2,4)\n",
        "plt.scatter(happy_df['Generosity'], happy_df['Happiness Score'])\n",
        "plt.title('Generosity vs. Happiness Score')\n",
        "plt.xlabel('Generosity')\n",
        "plt.ylabel('Happiness Score')\n",
        "plt.show()"
      ]
    },
    {
      "cell_type": "markdown",
      "metadata": {
        "id": "HBktxmzqaUQj"
      },
      "source": [
        "##### **Provide justification/details here if needed**\n",
        "\n",
        "These visualizations show the relationship between each independent variable and the dependent variable."
      ]
    },
    {
      "cell_type": "markdown",
      "metadata": {
        "id": "uQr8LsOKkeU5"
      },
      "source": [
        "### **Reflection Questions-Insert your answer after each question**\n",
        "---\n",
        "1. Is there a noticeable difference in happiness scores between different regions?\n",
        "\n",
        "  - Somewhat. The scale of Happiness Score is 0-10, but the min of this dataset is 4.2028 and the max is 7.285. I expected a larger range of Happiness Scores between the ten regions.\n",
        "\n",
        "2. Does any region display a significant disparity between its country with the highest happiness score and its country with the lowest?\n",
        "\n",
        "  - The region with the biggest disparity in happiness score between its highest and lowest countries is Region 3 - Middle East and Northern Africa.\n",
        "        Region     max    min  difference\n",
        "          3       7.278  3.006   4.272\n",
        "\n",
        "3. How do variables such as `Social Support`, `GDP`, and `Freedom` influence a country's happiness score? Do any variables seem to influence a country's happiness score more than others?\n",
        "\n",
        "  - GDP and Social Support are highly correlated to the Happiness Score of a country while Freedom's correlation to the Happiness Score is more mid-range. Healthy Life Expectancy has a higher correlation than Freedom.\n",
        "\n",
        "                              Region\tHappiness Score\tGDP\tSocial Support\tHealthy Life Expectancy\tFreedom\tCorruption Perception\tGenerosity\n",
        "\n",
        "          Happiness Score\t-0.689062\t  1.000000\t  0.780506\t0.740265\t          0.724907\t       0.566642\t      0.395731\t        0.178843\n",
        "\n",
        "4. What are other relationships between variables that you think may be useful to visualize? What kind of data visualization graph would you use?\n",
        "\n",
        "  - Showing the relationships between each independent variable in order to determine which variables are strongly correlated to each other would be useful in determining which attributes to keep during attribute reduction. Scatter plots or line graphs would represent this information best.\n",
        "\n",
        "5. Consider the conceptual definitions of the features provided in the dataset. Are there any features that seem ambiguous or open to interpretation? How might these conceptual definitions impact the accuracy and reliability of the models when predicting happiness levels?\n",
        "\n",
        "  - Happiness is inherently subjective. You can find patterns amongst different cultural and socioeconomic contexts, but there still can be outlier people whose happiness can differ from others in their cultural or socioeconomic group. Freedom has this similar problem of subjectivity.\n",
        "\n",
        "  - Corruption Perception is subjective, but there is also the caveat that if the perception of government corruption is missing, then the perception of business corruption is marked down as the total corruption perception instead of the average of the two. This can cause an issue with the data since a person may have a worse perception of business corruption compared to government perception and vice versa.\n",
        "\n",
        "6. Reflect on the cultural and contextual factors that may influence the interpretation and relevance of the features in different countries. How might the meaning of a specific feature differ across diverse cultural and socioeconomic contexts?\n",
        "\n",
        "  - Freedom would be seen differently across different cultures and socioeconomic contexts. For example, some cultures are heavily influenced by religion. There may be little seperation between the religion and political policies. This concept would make some people in certain cultures feel like there were less freedoms while people currently living in highly religious regions may not feel limited by policies based in their practicing religion.\n",
        "\n",
        "  - In terms of socioeconomic contexts, a wealthier person may feel that they have more freedom in a country versus a poorer person living in that same country. A person in a majority group may also feel they have more freedoms in a country than a person in a minority group."
      ]
    },
    {
      "cell_type": "code",
      "execution_count": null,
      "metadata": {
        "colab": {
          "base_uri": "https://localhost:8080/",
          "height": 449
        },
        "id": "BYxVcitSYlLo",
        "outputId": "691387f2-571e-413a-8bf7-4206c2491a6e"
      },
      "outputs": [
        {
          "output_type": "execute_result",
          "data": {
            "text/plain": [
              "        Happiness Score       GDP  Social Support  Healthy Life Expectancy  \\\n",
              "Region                                                                       \n",
              "0              6.664100  1.298596        1.247302                 0.909148   \n",
              "1              7.273000  1.360400        1.284860                 0.883710   \n",
              "2              7.285000  1.291880        1.314450                 0.919965   \n",
              "3              5.406900  1.066974        0.920490                 0.705615   \n",
              "4              6.144682  0.876815        1.104720                 0.703870   \n",
              "5              5.317444  0.789054        0.940468                 0.677357   \n",
              "6              5.332931  0.942438        1.053042                 0.722364   \n",
              "7              5.626167  1.151780        1.099427                 0.877388   \n",
              "8              4.202800  0.380473        0.809085                 0.282332   \n",
              "9              4.580857  0.560486        0.645321                 0.540830   \n",
              "\n",
              "         Freedom  Corruption Perception  Generosity  \n",
              "Region                                               \n",
              "0       0.549926               0.231463    0.302109  \n",
              "1       0.589505               0.244235    0.429580  \n",
              "2       0.645310               0.392795    0.455315  \n",
              "3       0.361751               0.181702    0.190376  \n",
              "4       0.501740               0.117172    0.217788  \n",
              "5       0.557104               0.151276    0.419261  \n",
              "6       0.358269               0.086674    0.152264  \n",
              "7       0.462490               0.127695    0.225885  \n",
              "8       0.365944               0.123878    0.221137  \n",
              "9       0.373337               0.102536    0.341429  "
            ],
            "text/html": [
              "\n",
              "  <div id=\"df-82c3145b-d21e-4ffe-95dc-45d169555d44\" class=\"colab-df-container\">\n",
              "    <div>\n",
              "<style scoped>\n",
              "    .dataframe tbody tr th:only-of-type {\n",
              "        vertical-align: middle;\n",
              "    }\n",
              "\n",
              "    .dataframe tbody tr th {\n",
              "        vertical-align: top;\n",
              "    }\n",
              "\n",
              "    .dataframe thead th {\n",
              "        text-align: right;\n",
              "    }\n",
              "</style>\n",
              "<table border=\"1\" class=\"dataframe\">\n",
              "  <thead>\n",
              "    <tr style=\"text-align: right;\">\n",
              "      <th></th>\n",
              "      <th>Happiness Score</th>\n",
              "      <th>GDP</th>\n",
              "      <th>Social Support</th>\n",
              "      <th>Healthy Life Expectancy</th>\n",
              "      <th>Freedom</th>\n",
              "      <th>Corruption Perception</th>\n",
              "      <th>Generosity</th>\n",
              "    </tr>\n",
              "    <tr>\n",
              "      <th>Region</th>\n",
              "      <th></th>\n",
              "      <th></th>\n",
              "      <th></th>\n",
              "      <th></th>\n",
              "      <th></th>\n",
              "      <th></th>\n",
              "      <th></th>\n",
              "    </tr>\n",
              "  </thead>\n",
              "  <tbody>\n",
              "    <tr>\n",
              "      <th>0</th>\n",
              "      <td>6.664100</td>\n",
              "      <td>1.298596</td>\n",
              "      <td>1.247302</td>\n",
              "      <td>0.909148</td>\n",
              "      <td>0.549926</td>\n",
              "      <td>0.231463</td>\n",
              "      <td>0.302109</td>\n",
              "    </tr>\n",
              "    <tr>\n",
              "      <th>1</th>\n",
              "      <td>7.273000</td>\n",
              "      <td>1.360400</td>\n",
              "      <td>1.284860</td>\n",
              "      <td>0.883710</td>\n",
              "      <td>0.589505</td>\n",
              "      <td>0.244235</td>\n",
              "      <td>0.429580</td>\n",
              "    </tr>\n",
              "    <tr>\n",
              "      <th>2</th>\n",
              "      <td>7.285000</td>\n",
              "      <td>1.291880</td>\n",
              "      <td>1.314450</td>\n",
              "      <td>0.919965</td>\n",
              "      <td>0.645310</td>\n",
              "      <td>0.392795</td>\n",
              "      <td>0.455315</td>\n",
              "    </tr>\n",
              "    <tr>\n",
              "      <th>3</th>\n",
              "      <td>5.406900</td>\n",
              "      <td>1.066974</td>\n",
              "      <td>0.920490</td>\n",
              "      <td>0.705615</td>\n",
              "      <td>0.361751</td>\n",
              "      <td>0.181702</td>\n",
              "      <td>0.190376</td>\n",
              "    </tr>\n",
              "    <tr>\n",
              "      <th>4</th>\n",
              "      <td>6.144682</td>\n",
              "      <td>0.876815</td>\n",
              "      <td>1.104720</td>\n",
              "      <td>0.703870</td>\n",
              "      <td>0.501740</td>\n",
              "      <td>0.117172</td>\n",
              "      <td>0.217788</td>\n",
              "    </tr>\n",
              "    <tr>\n",
              "      <th>5</th>\n",
              "      <td>5.317444</td>\n",
              "      <td>0.789054</td>\n",
              "      <td>0.940468</td>\n",
              "      <td>0.677357</td>\n",
              "      <td>0.557104</td>\n",
              "      <td>0.151276</td>\n",
              "      <td>0.419261</td>\n",
              "    </tr>\n",
              "    <tr>\n",
              "      <th>6</th>\n",
              "      <td>5.332931</td>\n",
              "      <td>0.942438</td>\n",
              "      <td>1.053042</td>\n",
              "      <td>0.722364</td>\n",
              "      <td>0.358269</td>\n",
              "      <td>0.086674</td>\n",
              "      <td>0.152264</td>\n",
              "    </tr>\n",
              "    <tr>\n",
              "      <th>7</th>\n",
              "      <td>5.626167</td>\n",
              "      <td>1.151780</td>\n",
              "      <td>1.099427</td>\n",
              "      <td>0.877388</td>\n",
              "      <td>0.462490</td>\n",
              "      <td>0.127695</td>\n",
              "      <td>0.225885</td>\n",
              "    </tr>\n",
              "    <tr>\n",
              "      <th>8</th>\n",
              "      <td>4.202800</td>\n",
              "      <td>0.380473</td>\n",
              "      <td>0.809085</td>\n",
              "      <td>0.282332</td>\n",
              "      <td>0.365944</td>\n",
              "      <td>0.123878</td>\n",
              "      <td>0.221137</td>\n",
              "    </tr>\n",
              "    <tr>\n",
              "      <th>9</th>\n",
              "      <td>4.580857</td>\n",
              "      <td>0.560486</td>\n",
              "      <td>0.645321</td>\n",
              "      <td>0.540830</td>\n",
              "      <td>0.373337</td>\n",
              "      <td>0.102536</td>\n",
              "      <td>0.341429</td>\n",
              "    </tr>\n",
              "  </tbody>\n",
              "</table>\n",
              "</div>\n",
              "    <div class=\"colab-df-buttons\">\n",
              "\n",
              "  <div class=\"colab-df-container\">\n",
              "    <button class=\"colab-df-convert\" onclick=\"convertToInteractive('df-82c3145b-d21e-4ffe-95dc-45d169555d44')\"\n",
              "            title=\"Convert this dataframe to an interactive table.\"\n",
              "            style=\"display:none;\">\n",
              "\n",
              "  <svg xmlns=\"http://www.w3.org/2000/svg\" height=\"24px\" viewBox=\"0 -960 960 960\">\n",
              "    <path d=\"M120-120v-720h720v720H120Zm60-500h600v-160H180v160Zm220 220h160v-160H400v160Zm0 220h160v-160H400v160ZM180-400h160v-160H180v160Zm440 0h160v-160H620v160ZM180-180h160v-160H180v160Zm440 0h160v-160H620v160Z\"/>\n",
              "  </svg>\n",
              "    </button>\n",
              "\n",
              "  <style>\n",
              "    .colab-df-container {\n",
              "      display:flex;\n",
              "      gap: 12px;\n",
              "    }\n",
              "\n",
              "    .colab-df-convert {\n",
              "      background-color: #E8F0FE;\n",
              "      border: none;\n",
              "      border-radius: 50%;\n",
              "      cursor: pointer;\n",
              "      display: none;\n",
              "      fill: #1967D2;\n",
              "      height: 32px;\n",
              "      padding: 0 0 0 0;\n",
              "      width: 32px;\n",
              "    }\n",
              "\n",
              "    .colab-df-convert:hover {\n",
              "      background-color: #E2EBFA;\n",
              "      box-shadow: 0px 1px 2px rgba(60, 64, 67, 0.3), 0px 1px 3px 1px rgba(60, 64, 67, 0.15);\n",
              "      fill: #174EA6;\n",
              "    }\n",
              "\n",
              "    .colab-df-buttons div {\n",
              "      margin-bottom: 4px;\n",
              "    }\n",
              "\n",
              "    [theme=dark] .colab-df-convert {\n",
              "      background-color: #3B4455;\n",
              "      fill: #D2E3FC;\n",
              "    }\n",
              "\n",
              "    [theme=dark] .colab-df-convert:hover {\n",
              "      background-color: #434B5C;\n",
              "      box-shadow: 0px 1px 3px 1px rgba(0, 0, 0, 0.15);\n",
              "      filter: drop-shadow(0px 1px 2px rgba(0, 0, 0, 0.3));\n",
              "      fill: #FFFFFF;\n",
              "    }\n",
              "  </style>\n",
              "\n",
              "    <script>\n",
              "      const buttonEl =\n",
              "        document.querySelector('#df-82c3145b-d21e-4ffe-95dc-45d169555d44 button.colab-df-convert');\n",
              "      buttonEl.style.display =\n",
              "        google.colab.kernel.accessAllowed ? 'block' : 'none';\n",
              "\n",
              "      async function convertToInteractive(key) {\n",
              "        const element = document.querySelector('#df-82c3145b-d21e-4ffe-95dc-45d169555d44');\n",
              "        const dataTable =\n",
              "          await google.colab.kernel.invokeFunction('convertToInteractive',\n",
              "                                                    [key], {});\n",
              "        if (!dataTable) return;\n",
              "\n",
              "        const docLinkHtml = 'Like what you see? Visit the ' +\n",
              "          '<a target=\"_blank\" href=https://colab.research.google.com/notebooks/data_table.ipynb>data table notebook</a>'\n",
              "          + ' to learn more about interactive tables.';\n",
              "        element.innerHTML = '';\n",
              "        dataTable['output_type'] = 'display_data';\n",
              "        await google.colab.output.renderOutput(dataTable, element);\n",
              "        const docLink = document.createElement('div');\n",
              "        docLink.innerHTML = docLinkHtml;\n",
              "        element.appendChild(docLink);\n",
              "      }\n",
              "    </script>\n",
              "  </div>\n",
              "\n",
              "\n",
              "<div id=\"df-ac843998-101e-4716-b8b7-50a84ba6ecbf\">\n",
              "  <button class=\"colab-df-quickchart\" onclick=\"quickchart('df-ac843998-101e-4716-b8b7-50a84ba6ecbf')\"\n",
              "            title=\"Suggest charts\"\n",
              "            style=\"display:none;\">\n",
              "\n",
              "<svg xmlns=\"http://www.w3.org/2000/svg\" height=\"24px\"viewBox=\"0 0 24 24\"\n",
              "     width=\"24px\">\n",
              "    <g>\n",
              "        <path d=\"M19 3H5c-1.1 0-2 .9-2 2v14c0 1.1.9 2 2 2h14c1.1 0 2-.9 2-2V5c0-1.1-.9-2-2-2zM9 17H7v-7h2v7zm4 0h-2V7h2v10zm4 0h-2v-4h2v4z\"/>\n",
              "    </g>\n",
              "</svg>\n",
              "  </button>\n",
              "\n",
              "<style>\n",
              "  .colab-df-quickchart {\n",
              "      --bg-color: #E8F0FE;\n",
              "      --fill-color: #1967D2;\n",
              "      --hover-bg-color: #E2EBFA;\n",
              "      --hover-fill-color: #174EA6;\n",
              "      --disabled-fill-color: #AAA;\n",
              "      --disabled-bg-color: #DDD;\n",
              "  }\n",
              "\n",
              "  [theme=dark] .colab-df-quickchart {\n",
              "      --bg-color: #3B4455;\n",
              "      --fill-color: #D2E3FC;\n",
              "      --hover-bg-color: #434B5C;\n",
              "      --hover-fill-color: #FFFFFF;\n",
              "      --disabled-bg-color: #3B4455;\n",
              "      --disabled-fill-color: #666;\n",
              "  }\n",
              "\n",
              "  .colab-df-quickchart {\n",
              "    background-color: var(--bg-color);\n",
              "    border: none;\n",
              "    border-radius: 50%;\n",
              "    cursor: pointer;\n",
              "    display: none;\n",
              "    fill: var(--fill-color);\n",
              "    height: 32px;\n",
              "    padding: 0;\n",
              "    width: 32px;\n",
              "  }\n",
              "\n",
              "  .colab-df-quickchart:hover {\n",
              "    background-color: var(--hover-bg-color);\n",
              "    box-shadow: 0 1px 2px rgba(60, 64, 67, 0.3), 0 1px 3px 1px rgba(60, 64, 67, 0.15);\n",
              "    fill: var(--button-hover-fill-color);\n",
              "  }\n",
              "\n",
              "  .colab-df-quickchart-complete:disabled,\n",
              "  .colab-df-quickchart-complete:disabled:hover {\n",
              "    background-color: var(--disabled-bg-color);\n",
              "    fill: var(--disabled-fill-color);\n",
              "    box-shadow: none;\n",
              "  }\n",
              "\n",
              "  .colab-df-spinner {\n",
              "    border: 2px solid var(--fill-color);\n",
              "    border-color: transparent;\n",
              "    border-bottom-color: var(--fill-color);\n",
              "    animation:\n",
              "      spin 1s steps(1) infinite;\n",
              "  }\n",
              "\n",
              "  @keyframes spin {\n",
              "    0% {\n",
              "      border-color: transparent;\n",
              "      border-bottom-color: var(--fill-color);\n",
              "      border-left-color: var(--fill-color);\n",
              "    }\n",
              "    20% {\n",
              "      border-color: transparent;\n",
              "      border-left-color: var(--fill-color);\n",
              "      border-top-color: var(--fill-color);\n",
              "    }\n",
              "    30% {\n",
              "      border-color: transparent;\n",
              "      border-left-color: var(--fill-color);\n",
              "      border-top-color: var(--fill-color);\n",
              "      border-right-color: var(--fill-color);\n",
              "    }\n",
              "    40% {\n",
              "      border-color: transparent;\n",
              "      border-right-color: var(--fill-color);\n",
              "      border-top-color: var(--fill-color);\n",
              "    }\n",
              "    60% {\n",
              "      border-color: transparent;\n",
              "      border-right-color: var(--fill-color);\n",
              "    }\n",
              "    80% {\n",
              "      border-color: transparent;\n",
              "      border-right-color: var(--fill-color);\n",
              "      border-bottom-color: var(--fill-color);\n",
              "    }\n",
              "    90% {\n",
              "      border-color: transparent;\n",
              "      border-bottom-color: var(--fill-color);\n",
              "    }\n",
              "  }\n",
              "</style>\n",
              "\n",
              "  <script>\n",
              "    async function quickchart(key) {\n",
              "      const quickchartButtonEl =\n",
              "        document.querySelector('#' + key + ' button');\n",
              "      quickchartButtonEl.disabled = true;  // To prevent multiple clicks.\n",
              "      quickchartButtonEl.classList.add('colab-df-spinner');\n",
              "      try {\n",
              "        const charts = await google.colab.kernel.invokeFunction(\n",
              "            'suggestCharts', [key], {});\n",
              "      } catch (error) {\n",
              "        console.error('Error during call to suggestCharts:', error);\n",
              "      }\n",
              "      quickchartButtonEl.classList.remove('colab-df-spinner');\n",
              "      quickchartButtonEl.classList.add('colab-df-quickchart-complete');\n",
              "    }\n",
              "    (() => {\n",
              "      let quickchartButtonEl =\n",
              "        document.querySelector('#df-ac843998-101e-4716-b8b7-50a84ba6ecbf button');\n",
              "      quickchartButtonEl.style.display =\n",
              "        google.colab.kernel.accessAllowed ? 'block' : 'none';\n",
              "    })();\n",
              "  </script>\n",
              "</div>\n",
              "\n",
              "    </div>\n",
              "  </div>\n"
            ],
            "application/vnd.google.colaboratory.intrinsic+json": {
              "type": "dataframe",
              "summary": "{\n  \"name\": \"happy_df\",\n  \"rows\": 10,\n  \"fields\": [\n    {\n      \"column\": \"Region\",\n      \"properties\": {\n        \"dtype\": \"number\",\n        \"std\": 3,\n        \"min\": 0,\n        \"max\": 9,\n        \"num_unique_values\": 10,\n        \"samples\": [\n          8,\n          1,\n          5\n        ],\n        \"semantic_type\": \"\",\n        \"description\": \"\"\n      }\n    },\n    {\n      \"column\": \"Happiness Score\",\n      \"properties\": {\n        \"dtype\": \"number\",\n        \"std\": 1.049379969514214,\n        \"min\": 4.2028,\n        \"max\": 7.285,\n        \"num_unique_values\": 10,\n        \"samples\": [\n          4.2028,\n          7.273,\n          5.317444444444444\n        ],\n        \"semantic_type\": \"\",\n        \"description\": \"\"\n      }\n    },\n    {\n      \"column\": \"GDP\",\n      \"properties\": {\n        \"dtype\": \"number\",\n        \"std\": 0.32725024332970254,\n        \"min\": 0.380473,\n        \"max\": 1.3603999999999998,\n        \"num_unique_values\": 10,\n        \"samples\": [\n          0.380473,\n          1.3603999999999998,\n          0.7890544444444445\n        ],\n        \"semantic_type\": \"\",\n        \"description\": \"\"\n      }\n    },\n    {\n      \"column\": \"Social Support\",\n      \"properties\": {\n        \"dtype\": \"number\",\n        \"std\": 0.21586754052078427,\n        \"min\": 0.6453214285714285,\n        \"max\": 1.31445,\n        \"num_unique_values\": 10,\n        \"samples\": [\n          0.8090849999999999,\n          1.2848600000000001,\n          0.9404677777777777\n        ],\n        \"semantic_type\": \"\",\n        \"description\": \"\"\n      }\n    },\n    {\n      \"column\": \"Healthy Life Expectancy\",\n      \"properties\": {\n        \"dtype\": \"number\",\n        \"std\": 0.19811068015092778,\n        \"min\": 0.28233175,\n        \"max\": 0.919965,\n        \"num_unique_values\": 10,\n        \"samples\": [\n          0.28233175,\n          0.88371,\n          0.6773566666666667\n        ],\n        \"semantic_type\": \"\",\n        \"description\": \"\"\n      }\n    },\n    {\n      \"column\": \"Freedom\",\n      \"properties\": {\n        \"dtype\": \"number\",\n        \"std\": 0.10749673118695097,\n        \"min\": 0.35826862068965515,\n        \"max\": 0.64531,\n        \"num_unique_values\": 10,\n        \"samples\": [\n          0.365944,\n          0.589505,\n          0.5571044444444444\n        ],\n        \"semantic_type\": \"\",\n        \"description\": \"\"\n      }\n    },\n    {\n      \"column\": \"Corruption Perception\",\n      \"properties\": {\n        \"dtype\": \"number\",\n        \"std\": 0.09265408971503243,\n        \"min\": 0.08667379310344828,\n        \"max\": 0.392795,\n        \"num_unique_values\": 10,\n        \"samples\": [\n          0.12387775000000001,\n          0.24423499999999998,\n          0.15127555555555555\n        ],\n        \"semantic_type\": \"\",\n        \"description\": \"\"\n      }\n    },\n    {\n      \"column\": \"Generosity\",\n      \"properties\": {\n        \"dtype\": \"number\",\n        \"std\": 0.1100360082960339,\n        \"min\": 0.15226379310344829,\n        \"max\": 0.455315,\n        \"num_unique_values\": 10,\n        \"samples\": [\n          0.22113675000000002,\n          0.42958,\n          0.41926111111111114\n        ],\n        \"semantic_type\": \"\",\n        \"description\": \"\"\n      }\n    }\n  ]\n}"
            }
          },
          "metadata": {},
          "execution_count": 18
        }
      ],
      "source": [
        "happy_df.groupby('Region').mean(numeric_only=True)"
      ]
    },
    {
      "cell_type": "code",
      "execution_count": null,
      "metadata": {
        "colab": {
          "base_uri": "https://localhost:8080/"
        },
        "id": "t5G7zK6FaeiC",
        "outputId": "5bb5e34d-09fe-4bb5-909f-9e79c0fa6b38"
      },
      "outputs": [
        {
          "output_type": "stream",
          "name": "stdout",
          "text": [
            "            mean  count    max    min  difference\n",
            "Region                                           \n",
            "0       6.664100     21  7.587  4.857       2.730\n",
            "1       7.273000      2  7.427  7.119       0.308\n",
            "2       7.285000      2  7.286  7.284       0.002\n",
            "3       5.406900     20  7.278  3.006       4.272\n",
            "4       6.144682     22  7.226  4.518       2.708\n",
            "5       5.317444      9  6.798  3.819       2.979\n",
            "6       5.332931     29  6.505  4.218       2.287\n",
            "7       5.626167      6  6.298  4.874       1.424\n",
            "8       4.202800     40  5.477  2.839       2.638\n",
            "9       4.580857      7  5.253  3.575       1.678\n"
          ]
        }
      ],
      "source": [
        "minMax = happy_df.groupby('Region')['Happiness Score'].agg(['mean','count','max','min'])\n",
        "minMax['difference'] = minMax['max'] - minMax['min']\n",
        "print(minMax)"
      ]
    },
    {
      "cell_type": "code",
      "execution_count": null,
      "metadata": {
        "colab": {
          "base_uri": "https://localhost:8080/",
          "height": 441
        },
        "id": "e-2tjoADhE8o",
        "outputId": "3fa653ba-09a4-4a1a-9a6c-e95d0f4190a4"
      },
      "outputs": [
        {
          "output_type": "execute_result",
          "data": {
            "text/plain": [
              "                           Region  Happiness Score       GDP  Social Support  \\\n",
              "Region                   1.000000        -0.689062 -0.692340       -0.501211   \n",
              "Happiness Score         -0.689062         1.000000  0.780506        0.740265   \n",
              "GDP                     -0.692340         0.780506  1.000000        0.645299   \n",
              "Social Support          -0.501211         0.740265  0.645299        1.000000   \n",
              "Healthy Life Expectancy -0.710745         0.724907  0.814451        0.531114   \n",
              "Freedom                 -0.381365         0.566642  0.370300        0.441518   \n",
              "Corruption Perception   -0.341903         0.395731  0.307885        0.205605   \n",
              "Generosity              -0.163055         0.178843 -0.010465        0.087513   \n",
              "\n",
              "                         Healthy Life Expectancy   Freedom  \\\n",
              "Region                                 -0.710745 -0.381365   \n",
              "Happiness Score                         0.724907  0.566642   \n",
              "GDP                                     0.814451  0.370300   \n",
              "Social Support                          0.531114  0.441518   \n",
              "Healthy Life Expectancy                 1.000000  0.358533   \n",
              "Freedom                                 0.358533  1.000000   \n",
              "Corruption Perception                   0.245383  0.493524   \n",
              "Generosity                              0.107700  0.373916   \n",
              "\n",
              "                         Corruption Perception  Generosity  \n",
              "Region                               -0.341903   -0.163055  \n",
              "Happiness Score                       0.395731    0.178843  \n",
              "GDP                                   0.307885   -0.010465  \n",
              "Social Support                        0.205605    0.087513  \n",
              "Healthy Life Expectancy               0.245383    0.107700  \n",
              "Freedom                               0.493524    0.373916  \n",
              "Corruption Perception                 1.000000    0.276123  \n",
              "Generosity                            0.276123    1.000000  "
            ],
            "text/html": [
              "\n",
              "  <div id=\"df-e9cd20b1-952c-481d-a41f-e36eeab6d310\" class=\"colab-df-container\">\n",
              "    <div>\n",
              "<style scoped>\n",
              "    .dataframe tbody tr th:only-of-type {\n",
              "        vertical-align: middle;\n",
              "    }\n",
              "\n",
              "    .dataframe tbody tr th {\n",
              "        vertical-align: top;\n",
              "    }\n",
              "\n",
              "    .dataframe thead th {\n",
              "        text-align: right;\n",
              "    }\n",
              "</style>\n",
              "<table border=\"1\" class=\"dataframe\">\n",
              "  <thead>\n",
              "    <tr style=\"text-align: right;\">\n",
              "      <th></th>\n",
              "      <th>Region</th>\n",
              "      <th>Happiness Score</th>\n",
              "      <th>GDP</th>\n",
              "      <th>Social Support</th>\n",
              "      <th>Healthy Life Expectancy</th>\n",
              "      <th>Freedom</th>\n",
              "      <th>Corruption Perception</th>\n",
              "      <th>Generosity</th>\n",
              "    </tr>\n",
              "  </thead>\n",
              "  <tbody>\n",
              "    <tr>\n",
              "      <th>Region</th>\n",
              "      <td>1.000000</td>\n",
              "      <td>-0.689062</td>\n",
              "      <td>-0.692340</td>\n",
              "      <td>-0.501211</td>\n",
              "      <td>-0.710745</td>\n",
              "      <td>-0.381365</td>\n",
              "      <td>-0.341903</td>\n",
              "      <td>-0.163055</td>\n",
              "    </tr>\n",
              "    <tr>\n",
              "      <th>Happiness Score</th>\n",
              "      <td>-0.689062</td>\n",
              "      <td>1.000000</td>\n",
              "      <td>0.780506</td>\n",
              "      <td>0.740265</td>\n",
              "      <td>0.724907</td>\n",
              "      <td>0.566642</td>\n",
              "      <td>0.395731</td>\n",
              "      <td>0.178843</td>\n",
              "    </tr>\n",
              "    <tr>\n",
              "      <th>GDP</th>\n",
              "      <td>-0.692340</td>\n",
              "      <td>0.780506</td>\n",
              "      <td>1.000000</td>\n",
              "      <td>0.645299</td>\n",
              "      <td>0.814451</td>\n",
              "      <td>0.370300</td>\n",
              "      <td>0.307885</td>\n",
              "      <td>-0.010465</td>\n",
              "    </tr>\n",
              "    <tr>\n",
              "      <th>Social Support</th>\n",
              "      <td>-0.501211</td>\n",
              "      <td>0.740265</td>\n",
              "      <td>0.645299</td>\n",
              "      <td>1.000000</td>\n",
              "      <td>0.531114</td>\n",
              "      <td>0.441518</td>\n",
              "      <td>0.205605</td>\n",
              "      <td>0.087513</td>\n",
              "    </tr>\n",
              "    <tr>\n",
              "      <th>Healthy Life Expectancy</th>\n",
              "      <td>-0.710745</td>\n",
              "      <td>0.724907</td>\n",
              "      <td>0.814451</td>\n",
              "      <td>0.531114</td>\n",
              "      <td>1.000000</td>\n",
              "      <td>0.358533</td>\n",
              "      <td>0.245383</td>\n",
              "      <td>0.107700</td>\n",
              "    </tr>\n",
              "    <tr>\n",
              "      <th>Freedom</th>\n",
              "      <td>-0.381365</td>\n",
              "      <td>0.566642</td>\n",
              "      <td>0.370300</td>\n",
              "      <td>0.441518</td>\n",
              "      <td>0.358533</td>\n",
              "      <td>1.000000</td>\n",
              "      <td>0.493524</td>\n",
              "      <td>0.373916</td>\n",
              "    </tr>\n",
              "    <tr>\n",
              "      <th>Corruption Perception</th>\n",
              "      <td>-0.341903</td>\n",
              "      <td>0.395731</td>\n",
              "      <td>0.307885</td>\n",
              "      <td>0.205605</td>\n",
              "      <td>0.245383</td>\n",
              "      <td>0.493524</td>\n",
              "      <td>1.000000</td>\n",
              "      <td>0.276123</td>\n",
              "    </tr>\n",
              "    <tr>\n",
              "      <th>Generosity</th>\n",
              "      <td>-0.163055</td>\n",
              "      <td>0.178843</td>\n",
              "      <td>-0.010465</td>\n",
              "      <td>0.087513</td>\n",
              "      <td>0.107700</td>\n",
              "      <td>0.373916</td>\n",
              "      <td>0.276123</td>\n",
              "      <td>1.000000</td>\n",
              "    </tr>\n",
              "  </tbody>\n",
              "</table>\n",
              "</div>\n",
              "    <div class=\"colab-df-buttons\">\n",
              "\n",
              "  <div class=\"colab-df-container\">\n",
              "    <button class=\"colab-df-convert\" onclick=\"convertToInteractive('df-e9cd20b1-952c-481d-a41f-e36eeab6d310')\"\n",
              "            title=\"Convert this dataframe to an interactive table.\"\n",
              "            style=\"display:none;\">\n",
              "\n",
              "  <svg xmlns=\"http://www.w3.org/2000/svg\" height=\"24px\" viewBox=\"0 -960 960 960\">\n",
              "    <path d=\"M120-120v-720h720v720H120Zm60-500h600v-160H180v160Zm220 220h160v-160H400v160Zm0 220h160v-160H400v160ZM180-400h160v-160H180v160Zm440 0h160v-160H620v160ZM180-180h160v-160H180v160Zm440 0h160v-160H620v160Z\"/>\n",
              "  </svg>\n",
              "    </button>\n",
              "\n",
              "  <style>\n",
              "    .colab-df-container {\n",
              "      display:flex;\n",
              "      gap: 12px;\n",
              "    }\n",
              "\n",
              "    .colab-df-convert {\n",
              "      background-color: #E8F0FE;\n",
              "      border: none;\n",
              "      border-radius: 50%;\n",
              "      cursor: pointer;\n",
              "      display: none;\n",
              "      fill: #1967D2;\n",
              "      height: 32px;\n",
              "      padding: 0 0 0 0;\n",
              "      width: 32px;\n",
              "    }\n",
              "\n",
              "    .colab-df-convert:hover {\n",
              "      background-color: #E2EBFA;\n",
              "      box-shadow: 0px 1px 2px rgba(60, 64, 67, 0.3), 0px 1px 3px 1px rgba(60, 64, 67, 0.15);\n",
              "      fill: #174EA6;\n",
              "    }\n",
              "\n",
              "    .colab-df-buttons div {\n",
              "      margin-bottom: 4px;\n",
              "    }\n",
              "\n",
              "    [theme=dark] .colab-df-convert {\n",
              "      background-color: #3B4455;\n",
              "      fill: #D2E3FC;\n",
              "    }\n",
              "\n",
              "    [theme=dark] .colab-df-convert:hover {\n",
              "      background-color: #434B5C;\n",
              "      box-shadow: 0px 1px 3px 1px rgba(0, 0, 0, 0.15);\n",
              "      filter: drop-shadow(0px 1px 2px rgba(0, 0, 0, 0.3));\n",
              "      fill: #FFFFFF;\n",
              "    }\n",
              "  </style>\n",
              "\n",
              "    <script>\n",
              "      const buttonEl =\n",
              "        document.querySelector('#df-e9cd20b1-952c-481d-a41f-e36eeab6d310 button.colab-df-convert');\n",
              "      buttonEl.style.display =\n",
              "        google.colab.kernel.accessAllowed ? 'block' : 'none';\n",
              "\n",
              "      async function convertToInteractive(key) {\n",
              "        const element = document.querySelector('#df-e9cd20b1-952c-481d-a41f-e36eeab6d310');\n",
              "        const dataTable =\n",
              "          await google.colab.kernel.invokeFunction('convertToInteractive',\n",
              "                                                    [key], {});\n",
              "        if (!dataTable) return;\n",
              "\n",
              "        const docLinkHtml = 'Like what you see? Visit the ' +\n",
              "          '<a target=\"_blank\" href=https://colab.research.google.com/notebooks/data_table.ipynb>data table notebook</a>'\n",
              "          + ' to learn more about interactive tables.';\n",
              "        element.innerHTML = '';\n",
              "        dataTable['output_type'] = 'display_data';\n",
              "        await google.colab.output.renderOutput(dataTable, element);\n",
              "        const docLink = document.createElement('div');\n",
              "        docLink.innerHTML = docLinkHtml;\n",
              "        element.appendChild(docLink);\n",
              "      }\n",
              "    </script>\n",
              "  </div>\n",
              "\n",
              "\n",
              "<div id=\"df-93d5d38f-9544-4e57-a2ec-a6d1dd19ea3d\">\n",
              "  <button class=\"colab-df-quickchart\" onclick=\"quickchart('df-93d5d38f-9544-4e57-a2ec-a6d1dd19ea3d')\"\n",
              "            title=\"Suggest charts\"\n",
              "            style=\"display:none;\">\n",
              "\n",
              "<svg xmlns=\"http://www.w3.org/2000/svg\" height=\"24px\"viewBox=\"0 0 24 24\"\n",
              "     width=\"24px\">\n",
              "    <g>\n",
              "        <path d=\"M19 3H5c-1.1 0-2 .9-2 2v14c0 1.1.9 2 2 2h14c1.1 0 2-.9 2-2V5c0-1.1-.9-2-2-2zM9 17H7v-7h2v7zm4 0h-2V7h2v10zm4 0h-2v-4h2v4z\"/>\n",
              "    </g>\n",
              "</svg>\n",
              "  </button>\n",
              "\n",
              "<style>\n",
              "  .colab-df-quickchart {\n",
              "      --bg-color: #E8F0FE;\n",
              "      --fill-color: #1967D2;\n",
              "      --hover-bg-color: #E2EBFA;\n",
              "      --hover-fill-color: #174EA6;\n",
              "      --disabled-fill-color: #AAA;\n",
              "      --disabled-bg-color: #DDD;\n",
              "  }\n",
              "\n",
              "  [theme=dark] .colab-df-quickchart {\n",
              "      --bg-color: #3B4455;\n",
              "      --fill-color: #D2E3FC;\n",
              "      --hover-bg-color: #434B5C;\n",
              "      --hover-fill-color: #FFFFFF;\n",
              "      --disabled-bg-color: #3B4455;\n",
              "      --disabled-fill-color: #666;\n",
              "  }\n",
              "\n",
              "  .colab-df-quickchart {\n",
              "    background-color: var(--bg-color);\n",
              "    border: none;\n",
              "    border-radius: 50%;\n",
              "    cursor: pointer;\n",
              "    display: none;\n",
              "    fill: var(--fill-color);\n",
              "    height: 32px;\n",
              "    padding: 0;\n",
              "    width: 32px;\n",
              "  }\n",
              "\n",
              "  .colab-df-quickchart:hover {\n",
              "    background-color: var(--hover-bg-color);\n",
              "    box-shadow: 0 1px 2px rgba(60, 64, 67, 0.3), 0 1px 3px 1px rgba(60, 64, 67, 0.15);\n",
              "    fill: var(--button-hover-fill-color);\n",
              "  }\n",
              "\n",
              "  .colab-df-quickchart-complete:disabled,\n",
              "  .colab-df-quickchart-complete:disabled:hover {\n",
              "    background-color: var(--disabled-bg-color);\n",
              "    fill: var(--disabled-fill-color);\n",
              "    box-shadow: none;\n",
              "  }\n",
              "\n",
              "  .colab-df-spinner {\n",
              "    border: 2px solid var(--fill-color);\n",
              "    border-color: transparent;\n",
              "    border-bottom-color: var(--fill-color);\n",
              "    animation:\n",
              "      spin 1s steps(1) infinite;\n",
              "  }\n",
              "\n",
              "  @keyframes spin {\n",
              "    0% {\n",
              "      border-color: transparent;\n",
              "      border-bottom-color: var(--fill-color);\n",
              "      border-left-color: var(--fill-color);\n",
              "    }\n",
              "    20% {\n",
              "      border-color: transparent;\n",
              "      border-left-color: var(--fill-color);\n",
              "      border-top-color: var(--fill-color);\n",
              "    }\n",
              "    30% {\n",
              "      border-color: transparent;\n",
              "      border-left-color: var(--fill-color);\n",
              "      border-top-color: var(--fill-color);\n",
              "      border-right-color: var(--fill-color);\n",
              "    }\n",
              "    40% {\n",
              "      border-color: transparent;\n",
              "      border-right-color: var(--fill-color);\n",
              "      border-top-color: var(--fill-color);\n",
              "    }\n",
              "    60% {\n",
              "      border-color: transparent;\n",
              "      border-right-color: var(--fill-color);\n",
              "    }\n",
              "    80% {\n",
              "      border-color: transparent;\n",
              "      border-right-color: var(--fill-color);\n",
              "      border-bottom-color: var(--fill-color);\n",
              "    }\n",
              "    90% {\n",
              "      border-color: transparent;\n",
              "      border-bottom-color: var(--fill-color);\n",
              "    }\n",
              "  }\n",
              "</style>\n",
              "\n",
              "  <script>\n",
              "    async function quickchart(key) {\n",
              "      const quickchartButtonEl =\n",
              "        document.querySelector('#' + key + ' button');\n",
              "      quickchartButtonEl.disabled = true;  // To prevent multiple clicks.\n",
              "      quickchartButtonEl.classList.add('colab-df-spinner');\n",
              "      try {\n",
              "        const charts = await google.colab.kernel.invokeFunction(\n",
              "            'suggestCharts', [key], {});\n",
              "      } catch (error) {\n",
              "        console.error('Error during call to suggestCharts:', error);\n",
              "      }\n",
              "      quickchartButtonEl.classList.remove('colab-df-spinner');\n",
              "      quickchartButtonEl.classList.add('colab-df-quickchart-complete');\n",
              "    }\n",
              "    (() => {\n",
              "      let quickchartButtonEl =\n",
              "        document.querySelector('#df-93d5d38f-9544-4e57-a2ec-a6d1dd19ea3d button');\n",
              "      quickchartButtonEl.style.display =\n",
              "        google.colab.kernel.accessAllowed ? 'block' : 'none';\n",
              "    })();\n",
              "  </script>\n",
              "</div>\n",
              "\n",
              "    </div>\n",
              "  </div>\n"
            ],
            "application/vnd.google.colaboratory.intrinsic+json": {
              "type": "dataframe",
              "summary": "{\n  \"name\": \"happy_df\",\n  \"rows\": 8,\n  \"fields\": [\n    {\n      \"column\": \"Region\",\n      \"properties\": {\n        \"dtype\": \"number\",\n        \"std\": 0.5645268407311576,\n        \"min\": -0.7107450982488961,\n        \"max\": 1.0,\n        \"num_unique_values\": 8,\n        \"samples\": [\n          -0.689062033861147,\n          -0.38136468153511155,\n          1.0\n        ],\n        \"semantic_type\": \"\",\n        \"description\": \"\"\n      }\n    },\n    {\n      \"column\": \"Happiness Score\",\n      \"properties\": {\n        \"dtype\": \"number\",\n        \"std\": 0.5288672995632943,\n        \"min\": -0.689062033861147,\n        \"max\": 1.0,\n        \"num_unique_values\": 8,\n        \"samples\": [\n          1.0,\n          0.5666423451329019,\n          -0.689062033861147\n        ],\n        \"semantic_type\": \"\",\n        \"description\": \"\"\n      }\n    },\n    {\n      \"column\": \"GDP\",\n      \"properties\": {\n        \"dtype\": \"number\",\n        \"std\": 0.5487325816449518,\n        \"min\": -0.6923400572679728,\n        \"max\": 1.0,\n        \"num_unique_values\": 8,\n        \"samples\": [\n          0.780506343634732,\n          0.37029970741095497,\n          -0.6923400572679728\n        ],\n        \"semantic_type\": \"\",\n        \"description\": \"\"\n      }\n    },\n    {\n      \"column\": \"Social Support\",\n      \"properties\": {\n        \"dtype\": \"number\",\n        \"std\": 0.46324543528909956,\n        \"min\": -0.501211181331313,\n        \"max\": 1.0,\n        \"num_unique_values\": 8,\n        \"samples\": [\n          0.7402649770948745,\n          0.4415182106228609,\n          -0.501211181331313\n        ],\n        \"semantic_type\": \"\",\n        \"description\": \"\"\n      }\n    },\n    {\n      \"column\": \"Healthy Life Expectancy\",\n      \"properties\": {\n        \"dtype\": \"number\",\n        \"std\": 0.5341583008989863,\n        \"min\": -0.7107450982488961,\n        \"max\": 1.0,\n        \"num_unique_values\": 8,\n        \"samples\": [\n          0.7249066448271877,\n          0.3585332215762314,\n          -0.7107450982488961\n        ],\n        \"semantic_type\": \"\",\n        \"description\": \"\"\n      }\n    },\n    {\n      \"column\": \"Freedom\",\n      \"properties\": {\n        \"dtype\": \"number\",\n        \"std\": 0.38022292283112286,\n        \"min\": -0.38136468153511155,\n        \"max\": 1.0,\n        \"num_unique_values\": 8,\n        \"samples\": [\n          0.5666423451329019,\n          1.0,\n          -0.38136468153511155\n        ],\n        \"semantic_type\": \"\",\n        \"description\": \"\"\n      }\n    },\n    {\n      \"column\": \"Corruption Perception\",\n      \"properties\": {\n        \"dtype\": \"number\",\n        \"std\": 0.3697536703077556,\n        \"min\": -0.34190292404606626,\n        \"max\": 1.0,\n        \"num_unique_values\": 8,\n        \"samples\": [\n          0.3957307596468385,\n          0.49352351748290546,\n          -0.34190292404606626\n        ],\n        \"semantic_type\": \"\",\n        \"description\": \"\"\n      }\n    },\n    {\n      \"column\": \"Generosity\",\n      \"properties\": {\n        \"dtype\": \"number\",\n        \"std\": 0.3517136917755676,\n        \"min\": -0.1630548360787336,\n        \"max\": 1.0,\n        \"num_unique_values\": 8,\n        \"samples\": [\n          0.1788432716942294,\n          0.37391612557440596,\n          -0.1630548360787336\n        ],\n        \"semantic_type\": \"\",\n        \"description\": \"\"\n      }\n    }\n  ]\n}"
            }
          },
          "metadata": {},
          "execution_count": 20
        }
      ],
      "source": [
        "happy_df.corr(numeric_only=True)"
      ]
    },
    {
      "cell_type": "markdown",
      "metadata": {
        "id": "OwDfrcTHVBdD"
      },
      "source": [
        "##### **Any other interesting findings?**"
      ]
    },
    {
      "cell_type": "markdown",
      "metadata": {
        "id": "tR2_M-tIYyfD"
      },
      "source": [
        "<a name=\"p2\"></a>\n",
        "\n",
        "---\n",
        "## **Part 2: Predicting Happiness Score**\n",
        "---\n",
        "\n",
        "Now you will create, evaluate, and train a machine learning model to predict the happiness score of a country based on the provided numerical features. You are required to use both KNN and Linear regression.\n",
        "<br>\n",
        "\n",
        "You will do this two times as follows:\n",
        "\n",
        "**Part 2.1**: Using All Numerical Features\n",
        "\n",
        "**Part 2.2**: Using the 3 Best Numerical Features"
      ]
    },
    {
      "cell_type": "markdown",
      "metadata": {
        "id": "lAnwuc5ie4jU"
      },
      "source": [
        "<a name=\"p21\"></a>\n",
        "\n",
        "---\n",
        "### **Part 2.1: Using All Numerical Features**\n",
        "---\n",
        "For each technique you choose, you should perform the following steps:\n",
        "1. Load in the data\n",
        "2. Decide independent and dependent variables\n",
        "3. Split data into training and testing data\n",
        "4. Import the algorithm\n",
        "5. Initializa the model and set hyperparameters if applicable (you may need to try several different values for a hyperparameter)\n",
        "6. Fit your model and make a prediction\n",
        "7. Evaluate the model's performance using multiple proper metrics\n",
        "8. Use the model"
      ]
    },
    {
      "cell_type": "code",
      "execution_count": null,
      "metadata": {
        "colab": {
          "base_uri": "https://localhost:8080/",
          "height": 261
        },
        "id": "tNrpfNuYSvON",
        "outputId": "52bea18d-7ea1-4661-903b-b3e0a28ccdc7"
      },
      "outputs": [
        {
          "output_type": "execute_result",
          "data": {
            "text/plain": [
              "       Country  Region  Happiness Score      GDP  Social Support  \\\n",
              "0  Switzerland       0            7.587  1.39651         1.34951   \n",
              "1      Iceland       0            7.561  1.30232         1.40223   \n",
              "2      Denmark       0            7.527  1.32548         1.36058   \n",
              "3       Norway       0            7.522  1.45900         1.33095   \n",
              "4       Canada       1            7.427  1.32629         1.32261   \n",
              "\n",
              "   Healthy Life Expectancy  Freedom  Corruption Perception  Generosity  \n",
              "0                  0.94143  0.66557                0.41978     0.29678  \n",
              "1                  0.94784  0.62877                0.14145     0.43630  \n",
              "2                  0.87464  0.64938                0.48357     0.34139  \n",
              "3                  0.88521  0.66973                0.36503     0.34699  \n",
              "4                  0.90563  0.63297                0.32957     0.45811  "
            ],
            "text/html": [
              "\n",
              "  <div id=\"df-8894553a-5d75-4d48-8f44-bd05cbf6ab5a\" class=\"colab-df-container\">\n",
              "    <div>\n",
              "<style scoped>\n",
              "    .dataframe tbody tr th:only-of-type {\n",
              "        vertical-align: middle;\n",
              "    }\n",
              "\n",
              "    .dataframe tbody tr th {\n",
              "        vertical-align: top;\n",
              "    }\n",
              "\n",
              "    .dataframe thead th {\n",
              "        text-align: right;\n",
              "    }\n",
              "</style>\n",
              "<table border=\"1\" class=\"dataframe\">\n",
              "  <thead>\n",
              "    <tr style=\"text-align: right;\">\n",
              "      <th></th>\n",
              "      <th>Country</th>\n",
              "      <th>Region</th>\n",
              "      <th>Happiness Score</th>\n",
              "      <th>GDP</th>\n",
              "      <th>Social Support</th>\n",
              "      <th>Healthy Life Expectancy</th>\n",
              "      <th>Freedom</th>\n",
              "      <th>Corruption Perception</th>\n",
              "      <th>Generosity</th>\n",
              "    </tr>\n",
              "  </thead>\n",
              "  <tbody>\n",
              "    <tr>\n",
              "      <th>0</th>\n",
              "      <td>Switzerland</td>\n",
              "      <td>0</td>\n",
              "      <td>7.587</td>\n",
              "      <td>1.39651</td>\n",
              "      <td>1.34951</td>\n",
              "      <td>0.94143</td>\n",
              "      <td>0.66557</td>\n",
              "      <td>0.41978</td>\n",
              "      <td>0.29678</td>\n",
              "    </tr>\n",
              "    <tr>\n",
              "      <th>1</th>\n",
              "      <td>Iceland</td>\n",
              "      <td>0</td>\n",
              "      <td>7.561</td>\n",
              "      <td>1.30232</td>\n",
              "      <td>1.40223</td>\n",
              "      <td>0.94784</td>\n",
              "      <td>0.62877</td>\n",
              "      <td>0.14145</td>\n",
              "      <td>0.43630</td>\n",
              "    </tr>\n",
              "    <tr>\n",
              "      <th>2</th>\n",
              "      <td>Denmark</td>\n",
              "      <td>0</td>\n",
              "      <td>7.527</td>\n",
              "      <td>1.32548</td>\n",
              "      <td>1.36058</td>\n",
              "      <td>0.87464</td>\n",
              "      <td>0.64938</td>\n",
              "      <td>0.48357</td>\n",
              "      <td>0.34139</td>\n",
              "    </tr>\n",
              "    <tr>\n",
              "      <th>3</th>\n",
              "      <td>Norway</td>\n",
              "      <td>0</td>\n",
              "      <td>7.522</td>\n",
              "      <td>1.45900</td>\n",
              "      <td>1.33095</td>\n",
              "      <td>0.88521</td>\n",
              "      <td>0.66973</td>\n",
              "      <td>0.36503</td>\n",
              "      <td>0.34699</td>\n",
              "    </tr>\n",
              "    <tr>\n",
              "      <th>4</th>\n",
              "      <td>Canada</td>\n",
              "      <td>1</td>\n",
              "      <td>7.427</td>\n",
              "      <td>1.32629</td>\n",
              "      <td>1.32261</td>\n",
              "      <td>0.90563</td>\n",
              "      <td>0.63297</td>\n",
              "      <td>0.32957</td>\n",
              "      <td>0.45811</td>\n",
              "    </tr>\n",
              "  </tbody>\n",
              "</table>\n",
              "</div>\n",
              "    <div class=\"colab-df-buttons\">\n",
              "\n",
              "  <div class=\"colab-df-container\">\n",
              "    <button class=\"colab-df-convert\" onclick=\"convertToInteractive('df-8894553a-5d75-4d48-8f44-bd05cbf6ab5a')\"\n",
              "            title=\"Convert this dataframe to an interactive table.\"\n",
              "            style=\"display:none;\">\n",
              "\n",
              "  <svg xmlns=\"http://www.w3.org/2000/svg\" height=\"24px\" viewBox=\"0 -960 960 960\">\n",
              "    <path d=\"M120-120v-720h720v720H120Zm60-500h600v-160H180v160Zm220 220h160v-160H400v160Zm0 220h160v-160H400v160ZM180-400h160v-160H180v160Zm440 0h160v-160H620v160ZM180-180h160v-160H180v160Zm440 0h160v-160H620v160Z\"/>\n",
              "  </svg>\n",
              "    </button>\n",
              "\n",
              "  <style>\n",
              "    .colab-df-container {\n",
              "      display:flex;\n",
              "      gap: 12px;\n",
              "    }\n",
              "\n",
              "    .colab-df-convert {\n",
              "      background-color: #E8F0FE;\n",
              "      border: none;\n",
              "      border-radius: 50%;\n",
              "      cursor: pointer;\n",
              "      display: none;\n",
              "      fill: #1967D2;\n",
              "      height: 32px;\n",
              "      padding: 0 0 0 0;\n",
              "      width: 32px;\n",
              "    }\n",
              "\n",
              "    .colab-df-convert:hover {\n",
              "      background-color: #E2EBFA;\n",
              "      box-shadow: 0px 1px 2px rgba(60, 64, 67, 0.3), 0px 1px 3px 1px rgba(60, 64, 67, 0.15);\n",
              "      fill: #174EA6;\n",
              "    }\n",
              "\n",
              "    .colab-df-buttons div {\n",
              "      margin-bottom: 4px;\n",
              "    }\n",
              "\n",
              "    [theme=dark] .colab-df-convert {\n",
              "      background-color: #3B4455;\n",
              "      fill: #D2E3FC;\n",
              "    }\n",
              "\n",
              "    [theme=dark] .colab-df-convert:hover {\n",
              "      background-color: #434B5C;\n",
              "      box-shadow: 0px 1px 3px 1px rgba(0, 0, 0, 0.15);\n",
              "      filter: drop-shadow(0px 1px 2px rgba(0, 0, 0, 0.3));\n",
              "      fill: #FFFFFF;\n",
              "    }\n",
              "  </style>\n",
              "\n",
              "    <script>\n",
              "      const buttonEl =\n",
              "        document.querySelector('#df-8894553a-5d75-4d48-8f44-bd05cbf6ab5a button.colab-df-convert');\n",
              "      buttonEl.style.display =\n",
              "        google.colab.kernel.accessAllowed ? 'block' : 'none';\n",
              "\n",
              "      async function convertToInteractive(key) {\n",
              "        const element = document.querySelector('#df-8894553a-5d75-4d48-8f44-bd05cbf6ab5a');\n",
              "        const dataTable =\n",
              "          await google.colab.kernel.invokeFunction('convertToInteractive',\n",
              "                                                    [key], {});\n",
              "        if (!dataTable) return;\n",
              "\n",
              "        const docLinkHtml = 'Like what you see? Visit the ' +\n",
              "          '<a target=\"_blank\" href=https://colab.research.google.com/notebooks/data_table.ipynb>data table notebook</a>'\n",
              "          + ' to learn more about interactive tables.';\n",
              "        element.innerHTML = '';\n",
              "        dataTable['output_type'] = 'display_data';\n",
              "        await google.colab.output.renderOutput(dataTable, element);\n",
              "        const docLink = document.createElement('div');\n",
              "        docLink.innerHTML = docLinkHtml;\n",
              "        element.appendChild(docLink);\n",
              "      }\n",
              "    </script>\n",
              "  </div>\n",
              "\n",
              "\n",
              "<div id=\"df-a2705c54-47a0-4e0e-a12b-a826bc7d4264\">\n",
              "  <button class=\"colab-df-quickchart\" onclick=\"quickchart('df-a2705c54-47a0-4e0e-a12b-a826bc7d4264')\"\n",
              "            title=\"Suggest charts\"\n",
              "            style=\"display:none;\">\n",
              "\n",
              "<svg xmlns=\"http://www.w3.org/2000/svg\" height=\"24px\"viewBox=\"0 0 24 24\"\n",
              "     width=\"24px\">\n",
              "    <g>\n",
              "        <path d=\"M19 3H5c-1.1 0-2 .9-2 2v14c0 1.1.9 2 2 2h14c1.1 0 2-.9 2-2V5c0-1.1-.9-2-2-2zM9 17H7v-7h2v7zm4 0h-2V7h2v10zm4 0h-2v-4h2v4z\"/>\n",
              "    </g>\n",
              "</svg>\n",
              "  </button>\n",
              "\n",
              "<style>\n",
              "  .colab-df-quickchart {\n",
              "      --bg-color: #E8F0FE;\n",
              "      --fill-color: #1967D2;\n",
              "      --hover-bg-color: #E2EBFA;\n",
              "      --hover-fill-color: #174EA6;\n",
              "      --disabled-fill-color: #AAA;\n",
              "      --disabled-bg-color: #DDD;\n",
              "  }\n",
              "\n",
              "  [theme=dark] .colab-df-quickchart {\n",
              "      --bg-color: #3B4455;\n",
              "      --fill-color: #D2E3FC;\n",
              "      --hover-bg-color: #434B5C;\n",
              "      --hover-fill-color: #FFFFFF;\n",
              "      --disabled-bg-color: #3B4455;\n",
              "      --disabled-fill-color: #666;\n",
              "  }\n",
              "\n",
              "  .colab-df-quickchart {\n",
              "    background-color: var(--bg-color);\n",
              "    border: none;\n",
              "    border-radius: 50%;\n",
              "    cursor: pointer;\n",
              "    display: none;\n",
              "    fill: var(--fill-color);\n",
              "    height: 32px;\n",
              "    padding: 0;\n",
              "    width: 32px;\n",
              "  }\n",
              "\n",
              "  .colab-df-quickchart:hover {\n",
              "    background-color: var(--hover-bg-color);\n",
              "    box-shadow: 0 1px 2px rgba(60, 64, 67, 0.3), 0 1px 3px 1px rgba(60, 64, 67, 0.15);\n",
              "    fill: var(--button-hover-fill-color);\n",
              "  }\n",
              "\n",
              "  .colab-df-quickchart-complete:disabled,\n",
              "  .colab-df-quickchart-complete:disabled:hover {\n",
              "    background-color: var(--disabled-bg-color);\n",
              "    fill: var(--disabled-fill-color);\n",
              "    box-shadow: none;\n",
              "  }\n",
              "\n",
              "  .colab-df-spinner {\n",
              "    border: 2px solid var(--fill-color);\n",
              "    border-color: transparent;\n",
              "    border-bottom-color: var(--fill-color);\n",
              "    animation:\n",
              "      spin 1s steps(1) infinite;\n",
              "  }\n",
              "\n",
              "  @keyframes spin {\n",
              "    0% {\n",
              "      border-color: transparent;\n",
              "      border-bottom-color: var(--fill-color);\n",
              "      border-left-color: var(--fill-color);\n",
              "    }\n",
              "    20% {\n",
              "      border-color: transparent;\n",
              "      border-left-color: var(--fill-color);\n",
              "      border-top-color: var(--fill-color);\n",
              "    }\n",
              "    30% {\n",
              "      border-color: transparent;\n",
              "      border-left-color: var(--fill-color);\n",
              "      border-top-color: var(--fill-color);\n",
              "      border-right-color: var(--fill-color);\n",
              "    }\n",
              "    40% {\n",
              "      border-color: transparent;\n",
              "      border-right-color: var(--fill-color);\n",
              "      border-top-color: var(--fill-color);\n",
              "    }\n",
              "    60% {\n",
              "      border-color: transparent;\n",
              "      border-right-color: var(--fill-color);\n",
              "    }\n",
              "    80% {\n",
              "      border-color: transparent;\n",
              "      border-right-color: var(--fill-color);\n",
              "      border-bottom-color: var(--fill-color);\n",
              "    }\n",
              "    90% {\n",
              "      border-color: transparent;\n",
              "      border-bottom-color: var(--fill-color);\n",
              "    }\n",
              "  }\n",
              "</style>\n",
              "\n",
              "  <script>\n",
              "    async function quickchart(key) {\n",
              "      const quickchartButtonEl =\n",
              "        document.querySelector('#' + key + ' button');\n",
              "      quickchartButtonEl.disabled = true;  // To prevent multiple clicks.\n",
              "      quickchartButtonEl.classList.add('colab-df-spinner');\n",
              "      try {\n",
              "        const charts = await google.colab.kernel.invokeFunction(\n",
              "            'suggestCharts', [key], {});\n",
              "      } catch (error) {\n",
              "        console.error('Error during call to suggestCharts:', error);\n",
              "      }\n",
              "      quickchartButtonEl.classList.remove('colab-df-spinner');\n",
              "      quickchartButtonEl.classList.add('colab-df-quickchart-complete');\n",
              "    }\n",
              "    (() => {\n",
              "      let quickchartButtonEl =\n",
              "        document.querySelector('#df-a2705c54-47a0-4e0e-a12b-a826bc7d4264 button');\n",
              "      quickchartButtonEl.style.display =\n",
              "        google.colab.kernel.accessAllowed ? 'block' : 'none';\n",
              "    })();\n",
              "  </script>\n",
              "</div>\n",
              "\n",
              "    </div>\n",
              "  </div>\n"
            ],
            "application/vnd.google.colaboratory.intrinsic+json": {
              "type": "dataframe",
              "variable_name": "happy_df",
              "summary": "{\n  \"name\": \"happy_df\",\n  \"rows\": 158,\n  \"fields\": [\n    {\n      \"column\": \"Country\",\n      \"properties\": {\n        \"dtype\": \"string\",\n        \"num_unique_values\": 158,\n        \"samples\": [\n          \"Myanmar\",\n          \"Japan\",\n          \"Egypt\"\n        ],\n        \"semantic_type\": \"\",\n        \"description\": \"\"\n      }\n    },\n    {\n      \"column\": \"Region\",\n      \"properties\": {\n        \"dtype\": \"number\",\n        \"std\": 2,\n        \"min\": 0,\n        \"max\": 9,\n        \"num_unique_values\": 10,\n        \"samples\": [\n          8,\n          1,\n          5\n        ],\n        \"semantic_type\": \"\",\n        \"description\": \"\"\n      }\n    },\n    {\n      \"column\": \"Happiness Score\",\n      \"properties\": {\n        \"dtype\": \"number\",\n        \"std\": 1.140356106761644,\n        \"min\": 2.839,\n        \"max\": 7.587,\n        \"num_unique_values\": 157,\n        \"samples\": [\n          4.332,\n          5.987,\n          4.194\n        ],\n        \"semantic_type\": \"\",\n        \"description\": \"\"\n      }\n    },\n    {\n      \"column\": \"GDP\",\n      \"properties\": {\n        \"dtype\": \"number\",\n        \"std\": 0.40312077853791,\n        \"min\": 0.0,\n        \"max\": 1.69042,\n        \"num_unique_values\": 158,\n        \"samples\": [\n          0.27108,\n          1.27074,\n          0.8818\n        ],\n        \"semantic_type\": \"\",\n        \"description\": \"\"\n      }\n    },\n    {\n      \"column\": \"Social Support\",\n      \"properties\": {\n        \"dtype\": \"number\",\n        \"std\": 0.27236908600791543,\n        \"min\": 0.0,\n        \"max\": 1.40223,\n        \"num_unique_values\": 158,\n        \"samples\": [\n          0.70905,\n          1.25712,\n          0.747\n        ],\n        \"semantic_type\": \"\",\n        \"description\": \"\"\n      }\n    },\n    {\n      \"column\": \"Healthy Life Expectancy\",\n      \"properties\": {\n        \"dtype\": \"number\",\n        \"std\": 0.24718434746107584,\n        \"min\": 0.0,\n        \"max\": 1.02525,\n        \"num_unique_values\": 157,\n        \"samples\": [\n          0.04776,\n          0.99111,\n          0.61712\n        ],\n        \"semantic_type\": \"\",\n        \"description\": \"\"\n      }\n    },\n    {\n      \"column\": \"Freedom\",\n      \"properties\": {\n        \"dtype\": \"number\",\n        \"std\": 0.15069278393767793,\n        \"min\": 0.0,\n        \"max\": 0.66973,\n        \"num_unique_values\": 158,\n        \"samples\": [\n          0.44017,\n          0.49615,\n          0.17288\n        ],\n        \"semantic_type\": \"\",\n        \"description\": \"\"\n      }\n    },\n    {\n      \"column\": \"Corruption Perception\",\n      \"properties\": {\n        \"dtype\": \"number\",\n        \"std\": 0.12003407357455917,\n        \"min\": 0.0,\n        \"max\": 0.55191,\n        \"num_unique_values\": 157,\n        \"samples\": [\n          0.12474,\n          0.07857,\n          0.06324\n        ],\n        \"semantic_type\": \"\",\n        \"description\": \"\"\n      }\n    },\n    {\n      \"column\": \"Generosity\",\n      \"properties\": {\n        \"dtype\": \"number\",\n        \"std\": 0.12668493402020534,\n        \"min\": 0.0,\n        \"max\": 0.79588,\n        \"num_unique_values\": 158,\n        \"samples\": [\n          0.79588,\n          0.10705,\n          0.11291\n        ],\n        \"semantic_type\": \"\",\n        \"description\": \"\"\n      }\n    }\n  ]\n}"
            }
          },
          "metadata": {},
          "execution_count": 21
        }
      ],
      "source": [
        "#Called on the dataframe since data is clean\n",
        "happy_df.head(5)"
      ]
    },
    {
      "cell_type": "code",
      "execution_count": null,
      "metadata": {
        "id": "jTxqSTpLZX1n"
      },
      "outputs": [],
      "source": [
        "#Split data into independent and dependent variables\n",
        "happy_features = happy_df.drop(columns=['Country','Happiness Score'])\n",
        "happy_label = happy_df['Happiness Score']"
      ]
    },
    {
      "cell_type": "markdown",
      "metadata": {
        "id": "xVLqBreNUBIK"
      },
      "source": [
        "**Linear Regression**"
      ]
    },
    {
      "cell_type": "code",
      "execution_count": null,
      "metadata": {
        "id": "qdFeW8poVdzd"
      },
      "outputs": [],
      "source": [
        "#Split the data into training and testing sets\n",
        "x_train, x_test, y_train, y_test = model_selection.train_test_split(happy_features, happy_label, test_size=0.2, random_state=42)"
      ]
    },
    {
      "cell_type": "code",
      "execution_count": null,
      "metadata": {
        "id": "nenKCdQNVhpU"
      },
      "outputs": [],
      "source": [
        "#Initialize the model\n",
        "happy_reg = LinearRegression()"
      ]
    },
    {
      "cell_type": "code",
      "execution_count": null,
      "metadata": {
        "id": "CGPNTXYVV7vc"
      },
      "outputs": [],
      "source": [
        "#Fit the model\n",
        "happy_reg.fit(x_train, y_train)\n",
        "\n",
        "#Make a prediction\n",
        "happy_reg_pred = happy_reg.predict(x_test)"
      ]
    },
    {
      "cell_type": "code",
      "execution_count": null,
      "metadata": {
        "colab": {
          "base_uri": "https://localhost:8080/",
          "height": 646
        },
        "id": "tuCDo2GbsE-q",
        "outputId": "d90ec7d2-db2d-4c93-e63c-232eee590889"
      },
      "outputs": [
        {
          "output_type": "display_data",
          "data": {
            "text/plain": [
              "<Figure size 800x800 with 1 Axes>"
            ],
            "image/png": "[encoded data removed]"
          },
          "metadata": {}
        }
      ],
      "source": [
        "# Visualization\n",
        "plt.figure(figsize=(8, 8))\n",
        "plt.scatter(y_test, happy_reg_pred)\n",
        "plt.plot([2, 8], [2, 8], '--k', label=\"Correct Prediction\")\n",
        "plt.axis('tight')\n",
        "plt.xlabel('True Happiness Score')\n",
        "plt.ylabel('Predicted Happiness Score')\n",
        "plt.title(\"Real vs Predicted Happiness Score\")\n",
        "plt.legend()\n",
        "plt.tight_layout()"
      ]
    },
    {
      "cell_type": "code",
      "execution_count": null,
      "metadata": {
        "colab": {
          "base_uri": "https://localhost:8080/"
        },
        "id": "QJK_np_MWHdo",
        "outputId": "309286b8-1e90-487e-8d27-73e6281f5436"
      },
      "outputs": [
        {
          "output_type": "stream",
          "name": "stdout",
          "text": [
            "Mean Sqaured:  0.24594359312398903\n",
            "R2 Score:  0.8196983521180784\n"
          ]
        }
      ],
      "source": [
        "#Evaluate the model's performance\n",
        "print('Mean Sqaured: ', metrics.mean_squared_error(y_test, happy_reg_pred))\n",
        "print('R2 Score: ', metrics.r2_score(y_test, happy_reg_pred))"
      ]
    },
    {
      "cell_type": "markdown",
      "metadata": {
        "id": "0mE3bk-3U0Lx"
      },
      "source": [
        "**KNN**"
      ]
    },
    {
      "cell_type": "code",
      "execution_count": null,
      "metadata": {
        "colab": {
          "base_uri": "https://localhost:8080/"
        },
        "id": "Yh6SsMY5eBN4",
        "outputId": "c06f260e-f99b-472b-ba5f-446d30c72b84"
      },
      "outputs": [
        {
          "output_type": "execute_result",
          "data": {
            "text/plain": [
              "Happiness Score\n",
              "Medium    112\n",
              "High       44\n",
              "Low         2\n",
              "Name: count, dtype: int64"
            ]
          },
          "metadata": {},
          "execution_count": 28
        }
      ],
      "source": [
        "#First, in order to use KNN, Happiness Score must be converted to categorical values\n",
        "#The values to be used will be:\n",
        "#0-3 - Low\n",
        "#4-6 - Medium\n",
        "#7-10 - High\n",
        "\n",
        "knn_label = pd.cut(x=happy_df['Happiness Score'], bins=[0, 3, 6, 10], labels=['Low', 'Medium', 'High'])\n",
        "knn_label.value_counts()"
      ]
    },
    {
      "cell_type": "code",
      "execution_count": null,
      "metadata": {
        "id": "J-7kE7HVk2kC"
      },
      "outputs": [],
      "source": [
        "#Split the data into training and testing sets\n",
        "x_train, x_test, y_train, y_test = model_selection.train_test_split(happy_features, knn_label, test_size=0.2, random_state=42)"
      ]
    },
    {
      "cell_type": "code",
      "execution_count": null,
      "metadata": {
        "id": "JnX2epyVWdAs"
      },
      "outputs": [],
      "source": [
        "#Initialize the model and set hyperparameters\n",
        "#Starting with k = 3 as a random value of k\n",
        "happy_knn = KNeighborsClassifier(n_neighbors = 3)"
      ]
    },
    {
      "cell_type": "code",
      "execution_count": null,
      "metadata": {
        "id": "AxubTFDBWdAs"
      },
      "outputs": [],
      "source": [
        "#Fit the model\n",
        "happy_knn.fit(x_train, y_train)\n",
        "\n",
        "#Make a prediction\n",
        "happy_knn_pred = happy_knn.predict(x_test)"
      ]
    },
    {
      "cell_type": "code",
      "execution_count": null,
      "metadata": {
        "colab": {
          "base_uri": "https://localhost:8080/"
        },
        "id": "O1wVNiaCWdAt",
        "outputId": "4e16e39c-be18-4b1d-ce94-72969d7e0854"
      },
      "outputs": [
        {
          "output_type": "stream",
          "name": "stdout",
          "text": [
            "Accuracy Score:  0.9375\n"
          ]
        }
      ],
      "source": [
        "#Evaluate the model's performance\n",
        "print(\"Accuracy Score: \", metrics.accuracy_score(y_test, happy_knn_pred))"
      ]
    },
    {
      "cell_type": "code",
      "execution_count": null,
      "metadata": {
        "colab": {
          "base_uri": "https://localhost:8080/",
          "height": 528
        },
        "id": "_c2KKfOg_XUn",
        "outputId": "923a39ef-8ed9-4e5d-ddce-95e2695df669"
      },
      "outputs": [
        {
          "output_type": "execute_result",
          "data": {
            "text/plain": [
              "<sklearn.metrics._plot.confusion_matrix.ConfusionMatrixDisplay at 0x797767ba6f80>"
            ]
          },
          "metadata": {},
          "execution_count": 33
        },
        {
          "output_type": "display_data",
          "data": {
            "text/plain": [
              "<Figure size 1000x600 with 2 Axes>"
            ],
            "image/png": "[encoded data removed]"
          },
          "metadata": {}
        }
      ],
      "source": [
        "# Confustion Metrix\n",
        "metrics.ConfusionMatrixDisplay.from_estimator(happy_knn, x_test, y_test)"
      ]
    },
    {
      "cell_type": "code",
      "execution_count": null,
      "metadata": {
        "colab": {
          "base_uri": "https://localhost:8080/",
          "height": 493
        },
        "id": "CgZbw2YxEu0j",
        "outputId": "f2359134-b2d9-448e-c81c-d404834d3c84"
      },
      "outputs": [
        {
          "output_type": "stream",
          "name": "stdout",
          "text": [
            "{1: 87.5, 3: 93.75, 5: 93.75, 7: 90.625, 9: 90.625, 11: 87.5, 13: 87.5, 15: 84.375, 17: 84.375, 19: 81.25, 21: 84.375, 23: 81.25, 25: 78.125, 27: 75.0, 29: 75.0, 31: 75.0, 33: 75.0, 35: 75.0, 37: 75.0, 39: 75.0, 41: 75.0, 43: 75.0, 45: 75.0, 47: 78.125, 49: 78.125, 51: 78.125, 53: 78.125, 55: 78.125, 57: 78.125, 59: 78.125, 61: 78.125, 63: 78.125, 65: 78.125, 67: 68.75, 69: 68.75, 71: 68.75, 73: 68.75, 75: 68.75, 77: 68.75, 79: 68.75, 81: 68.75, 83: 68.75, 85: 68.75, 87: 68.75, 89: 68.75, 91: 68.75, 93: 68.75, 95: 68.75, 97: 68.75, 99: 68.75}\n"
          ]
        },
        {
          "output_type": "display_data",
          "data": {
            "text/plain": [
              "<Figure size 1000x600 with 1 Axes>"
            ],
            "image/png": "[encoded data removed]"
          },
          "metadata": {}
        },
        {
          "output_type": "stream",
          "name": "stdout",
          "text": [
            "Top score of optimal classifier: 93.75\n",
            "Best Value of N to use 3\n"
          ]
        }
      ],
      "source": [
        "#KNN Hyperparameter tuning\n",
        "\n",
        "scores = {}\n",
        "for n in range(1,100,2):\n",
        "  full_model = KNeighborsClassifier(n_neighbors= n)\n",
        "  full_model.fit(x_train, y_train.to_numpy().reshape(-1))\n",
        "  pred = full_model.predict(x_test)\n",
        "  score = sum(pred == y_test.to_numpy().reshape(-1))/len(pred) * 100\n",
        "  scores[n] = score\n",
        "\n",
        "plt.title(\"Accuracy on Test set across Hyperparameter values\")\n",
        "print(scores)\n",
        "plt.plot(list(scores.keys()), list(scores.values()), label = 'Scores for all K')\n",
        "\n",
        "# Adding the performance for K = SQRT size for reference\n",
        "k = int(len(x_train)**(1/2)/2) * 2 -1\n",
        "full_model = KNeighborsClassifier(n_neighbors= k)\n",
        "full_model.fit(x_train, y_train.to_numpy().reshape(-1))\n",
        "pred = full_model.predict(x_test)\n",
        "score = sum(pred == y_test.to_numpy().reshape(-1))/len(pred) * 100\n",
        "plt.scatter([k], [score], color = 'r', marker = '*', s = 200, label = 'Square Root of Training Data Size')\n",
        "\n",
        "top_score = max(scores.values())\n",
        "best_k = list(scores.keys())[list(scores.values()).index(top_score)]\n",
        "plt.scatter([best_k],[top_score], color = 'g', marker = '*', s = 200, label = 'Best Performance')\n",
        "\n",
        "plt.legend()\n",
        "plt.show()\n",
        "\n",
        "# Printing the results\n",
        "print(\"Top score of optimal classifier: \" + str(top_score))\n",
        "print(\"Best Value of N to use \" + str(best_k))"
      ]
    },
    {
      "cell_type": "markdown",
      "metadata": {
        "id": "LT_lgbfTjJlO"
      },
      "source": [
        "#### **Step #8: Use the model**\n",
        "\n",
        "Specifically,\n",
        "\n",
        "1. Predict the happiness score of three countries that reported provided results for their numerical measures.\n",
        "\n",
        "2. Visualize the modeled relationship between `Happinesss Score` and `Social Support` to see if a qualitative relationship can be inferred.\n",
        "\n",
        "3. *If you used linear regression*, look at the coefficients and intercept to determine the modeled relationships quantitatively."
      ]
    },
    {
      "cell_type": "markdown",
      "metadata": {
        "id": "APzOK_U9NcDn"
      },
      "source": [
        "##### **1. Predict the happiness score of these countries that reported the following results for their numerical measures:**\n",
        "\n",
        "**Country 1**\n",
        "\n",
        "* `GDP`: 0.9\n",
        "* `Social Support`: 0.4\n",
        "* `Healthy Life Expectancy`: 0.8\n",
        "* `Freedom`: 0.4\n",
        "* `Corruption Perception`: 0.2\n",
        "* `Generosity`: 0.09\n",
        "* `Region Encoded`: 0\n",
        "\n",
        "<br>\n",
        "\n",
        "**Country 2**\n",
        "\n",
        "* `GDP`: 0.9\n",
        "* `Social Support`: 0.4\n",
        "* `Healthy Life Expectancy`: 0.8\n",
        "* `Freedom`: 0.4\n",
        "* `Corruption Perception`: 0.2\n",
        "* `Generosity`: 0.09\n",
        "* `Region Encoded`: 9\n",
        "\n",
        "<br>\n",
        "\n",
        "**Country 3**\n",
        "\n",
        "* `GDP`: 1.1\n",
        "* `Social Support`: 0.9\n",
        "* `Healthy Life Expectancy`: 1.01\n",
        "* `Freedom`: 0.9\n",
        "* `Corruption Perception`: 0.1\n",
        "* `Generosity`: 0.9\n",
        "* `Region Encoded`: 4"
      ]
    },
    {
      "cell_type": "markdown",
      "metadata": {
        "id": "DuHVFXD2XoPN"
      },
      "source": [
        "**Country 1**"
      ]
    },
    {
      "cell_type": "code",
      "execution_count": null,
      "metadata": {
        "id": "a0wBTKycn06E"
      },
      "outputs": [],
      "source": [
        "#Create a dataframe using the Country 1 information in order to predict its happiness score\n",
        "c1 = pd.DataFrame([[0, 0.9, 0.4, 0.8, 0.4, 0.2, 0.09]], columns = [\"Region\", \"GDP\", \"Social Support\", \"Healthy Life Expectancy\",\n",
        "                                                                            \"Freedom\", \"Corruption Perception\", \"Generosity\"])"
      ]
    },
    {
      "cell_type": "code",
      "execution_count": null,
      "metadata": {
        "id": "ZOwDEPfUjrtj"
      },
      "outputs": [],
      "source": [
        "#Linear Regression\n",
        "c1_reg_pred = happy_reg.predict(c1)"
      ]
    },
    {
      "cell_type": "code",
      "execution_count": null,
      "metadata": {
        "id": "FsVHhQBOXOC1"
      },
      "outputs": [],
      "source": [
        "#KNN\n",
        "c1_knn_pred = happy_knn.predict(c1)"
      ]
    },
    {
      "cell_type": "code",
      "execution_count": null,
      "metadata": {
        "colab": {
          "base_uri": "https://localhost:8080/"
        },
        "id": "mXKf2jyhrEGr",
        "outputId": "f243e402-3800-4011-a2ae-a5fb13338d2f"
      },
      "outputs": [
        {
          "output_type": "stream",
          "name": "stdout",
          "text": [
            "Country 1 Linear Regression Prediction:  [5.07969694]\n",
            "Country 1 KNN Prediction:  ['Medium']\n"
          ]
        }
      ],
      "source": [
        "#Prediction Outputs\n",
        "print('Country 1 Linear Regression Prediction: ', c1_reg_pred)\n",
        "print('Country 1 KNN Prediction: ', c1_knn_pred)"
      ]
    },
    {
      "cell_type": "markdown",
      "metadata": {
        "id": "7_dCfb8pXtOQ"
      },
      "source": [
        "**Country 2**"
      ]
    },
    {
      "cell_type": "code",
      "execution_count": null,
      "metadata": {
        "id": "u-ojENz0plze"
      },
      "outputs": [],
      "source": [
        "#Create a dataframe using the Country 2 information in order to predict its happiness score\n",
        "c2 = pd.DataFrame([[9, 0.9, 0.4, 0.8, 0.4, 0.2, 0.09]], columns = [\"Region\", \"GDP\", \"Social Support\", \"Healthy Life Expectancy\",\n",
        "                                                                            \"Freedom\", \"Corruption Perception\", \"Generosity\"])"
      ]
    },
    {
      "cell_type": "code",
      "execution_count": null,
      "metadata": {
        "id": "m6FTxs0dmKo5"
      },
      "outputs": [],
      "source": [
        "#Linear Regression\n",
        "c2_reg_pred = happy_reg.predict(c2)"
      ]
    },
    {
      "cell_type": "code",
      "execution_count": null,
      "metadata": {
        "id": "n2NRLcUkXhGe"
      },
      "outputs": [],
      "source": [
        "#KNN\n",
        "c2_knn_pred = happy_knn.predict(c2)"
      ]
    },
    {
      "cell_type": "code",
      "execution_count": null,
      "metadata": {
        "colab": {
          "base_uri": "https://localhost:8080/"
        },
        "id": "B7b_Kl58rsDD",
        "outputId": "e322b627-61c6-41c0-c72b-aca61d32741c"
      },
      "outputs": [
        {
          "output_type": "stream",
          "name": "stdout",
          "text": [
            "Country 2 Linear Regression Prediction:  [4.47117238]\n",
            "Country 2 KNN Prediction:  ['Medium']\n"
          ]
        }
      ],
      "source": [
        "#Prediction Outputs\n",
        "print('Country 2 Linear Regression Prediction: ', c2_reg_pred)\n",
        "print('Country 2 KNN Prediction: ', c2_knn_pred)"
      ]
    },
    {
      "cell_type": "markdown",
      "metadata": {
        "id": "V8qhIxLJXw3h"
      },
      "source": [
        "**Country 3**"
      ]
    },
    {
      "cell_type": "code",
      "execution_count": null,
      "metadata": {
        "id": "UjDutomSpmPz"
      },
      "outputs": [],
      "source": [
        "#Create a dataframe using the Country 3 information in order to predict its happiness score\n",
        "c3 = pd.DataFrame([[4, 1.1, 0.9, 1.01, 0.9, 0.1, 0.9]], columns = [\"Region\", \"GDP\", \"Social Support\", \"Healthy Life Expectancy\",\n",
        "                                                                            \"Freedom\", \"Corruption Perception\", \"Generosity\"])"
      ]
    },
    {
      "cell_type": "code",
      "execution_count": null,
      "metadata": {
        "id": "6CXK6HSEmMut"
      },
      "outputs": [],
      "source": [
        "#Linear Regression\n",
        "c3_reg_pred = happy_reg.predict(c3)"
      ]
    },
    {
      "cell_type": "code",
      "execution_count": null,
      "metadata": {
        "id": "ZG4xc7qnXkkx"
      },
      "outputs": [],
      "source": [
        "#KNN\n",
        "c3_knn_pred = happy_knn.predict(c3)"
      ]
    },
    {
      "cell_type": "code",
      "execution_count": null,
      "metadata": {
        "colab": {
          "base_uri": "https://localhost:8080/"
        },
        "id": "IhvOboiIsIIJ",
        "outputId": "055f03ab-b120-4eaa-a1fc-f2f72c6226d5"
      },
      "outputs": [
        {
          "output_type": "stream",
          "name": "stdout",
          "text": [
            "Country 3 Linear Regression Prediction:  [6.70357175]\n",
            "Country 3 KNN Prediction:  ['High']\n"
          ]
        }
      ],
      "source": [
        "#Prediction Outputs\n",
        "print('Country 3 Linear Regression Prediction: ', c3_reg_pred)\n",
        "print('Country 3 KNN Prediction: ', c3_knn_pred)"
      ]
    },
    {
      "cell_type": "markdown",
      "metadata": {
        "id": "oHo9E1DaNcMp"
      },
      "source": [
        "##### **2. Visualize the modeled relationship between `Happinesss Score` and `Social Support` to see if a qualitative relationship can be inferred.**"
      ]
    },
    {
      "cell_type": "code",
      "execution_count": null,
      "metadata": {
        "colab": {
          "base_uri": "https://localhost:8080/",
          "height": 424
        },
        "id": "wCcjKeGGmz5v",
        "outputId": "d0bf54fb-398f-424b-f3bb-dfc4a9480f22"
      },
      "outputs": [
        {
          "output_type": "display_data",
          "data": {
            "text/plain": [
              "<Figure size 1000x600 with 1 Axes>"
            ],
            "image/png": "[encoded data removed]"
          },
          "metadata": {}
        }
      ],
      "source": [
        "x = happy_reg_pred\n",
        "y = x_test['Social Support']\n",
        "\n",
        "plt.scatter(x, y)\n",
        "plt.xlabel('Happiness Score')\n",
        "plt.ylabel('Social Support')\n",
        "plt.title('Happiness Score vs. Social Support')\n",
        "plt.show()"
      ]
    },
    {
      "cell_type": "markdown",
      "metadata": {
        "id": "YG6QrVIrNcSr"
      },
      "source": [
        "##### **3. *If you used linear regression*, complete the cells below to look at the coefficients and intercept to determine the modeled relationships quantitatively.**"
      ]
    },
    {
      "cell_type": "code",
      "execution_count": null,
      "metadata": {
        "id": "1AI68Jupn6UR",
        "colab": {
          "base_uri": "https://localhost:8080/"
        },
        "outputId": "2ca96f14-1bfe-48af-a499-67e3a85d68d1"
      },
      "outputs": [
        {
          "output_type": "stream",
          "name": "stdout",
          "text": [
            "Linear Regression Coefficients: \n",
            "[-0.06761384  0.78720075  1.18266263  0.67349584  1.19960115  0.59490616\n",
            "  0.57261064]\n",
            "\n",
            "\n",
            "Linear Regression Intercept: \n",
            "2.7089978970035244\n"
          ]
        }
      ],
      "source": [
        "print('Linear Regression Coefficients: ')\n",
        "print(happy_reg.coef_)\n",
        "print('\\n')\n",
        "print('Linear Regression Intercept: ')\n",
        "print(happy_reg.intercept_)"
      ]
    },
    {
      "cell_type": "markdown",
      "metadata": {
        "id": "KYwIQjBzyFoo"
      },
      "source": [
        "#### **Reflection Questions-Provide your answer after each question**\n",
        "\n",
        "1. Which machine learning algorithm was best suited for this section? Why?\n",
        "\n",
        "  - Both learning algorithms performed well in this section. The linear regression model had an MSE value of 0.2459, and the KNN model had an accuracy of 93.75%. Which model to use would ultimately depend on whether a numeric value or categorical label is desired.\n",
        "\n",
        "2. Consider the strengths and limitations of the KNN model for predicting happiness levels in different countries. How does it handle categorical versus numerical features in the dataset?\n",
        "\n",
        "  - The main strength of the KNN model is that it provides a label that is simple and easy to understand. While the range of the label bins allows for higher accuracy, KNN tends to be less precise when compared to numerical predictions.\n",
        "  \n",
        "  - KNN is best done with numerical features that are within the same scale, but the class variable must be categorical. The \"Region\" column of this dataset is categorical data that was encoded into numerical values but was never transformed into the same scale as the rest of the data. This could lead to less accurate results in the KNN model's predictions.\n",
        "\n",
        "3. Reflect on the ethical considerations and potential biases associated with using machine learning models to predict happiness levels. How might the choice between KNN and linear regression impact these considerations?\n",
        "\n",
        "  - Some of the biases within this dataset can be traced back to the survey used to gather the data. 2000-3000 people from each country returned a filled out survey. There could be inherent bias due to the types of people that would return these surveys in the first place. The surveys are likely to be biased in favor of the majority group of their particular country.\n",
        "\n",
        "  - Another bias to note is the size of the population within each country. For smaller countries, 2000-3000 people would be very sizeable, but for other countries, that amount would be rather small. The issue with this is that, in large countries, a small group of people are speaking for the \"happiness\" of an entire country's population.\n",
        "\n",
        "  - The KNN model would inherently have some bias due to how the n-nearest neighbors works. KNN would produce a label for a country based off of its nearest neighbors - feature wise - which may not be an accurate representation of that country."
      ]
    },
    {
      "cell_type": "markdown",
      "metadata": {
        "id": "qIY_pTi6oI4r"
      },
      "source": [
        "<a name=\"p22\"></a>\n",
        "\n",
        "---\n",
        "### **Part 2.2: Using the 3 Best Numerical Features**\n",
        "---\n",
        "It's important to note that not all features in a dataset necessarily contribute positively to a machine learning model when predicting happiness levels. Some features may be irrelevant, noisy, or even introduce biases into the model. Therefore, careful feature selection or feature engineering is essential to ensure the model focuses on the most meaningful and influential factors.\n",
        "Basically, you need to repeat what you did in Part 2.1, only using three best numerical features instead of all of possible features.\n"
      ]
    },
    {
      "cell_type": "markdown",
      "metadata": {
        "id": "VKN1Tykoasz_"
      },
      "source": [
        "\n",
        "When choosing the features for a model, we often want to choose those that have a strong correlation with the target variable (in this case, \"Happiness Score\") and are less correlated with each other to avoid multicollinearity.\n",
        "Therefore, you need to analyze your data to determine what are those three features to use."
      ]
    },
    {
      "cell_type": "markdown",
      "metadata": {
        "id": "BxMu1IyV16CX"
      },
      "source": [
        "####**Finding the Three Best Independent Variables**"
      ]
    },
    {
      "cell_type": "code",
      "execution_count": null,
      "metadata": {
        "colab": {
          "base_uri": "https://localhost:8080/",
          "height": 261
        },
        "id": "RgJHvgC9bWIO",
        "outputId": "01aba258-703e-4c63-c058-efe5a711be74"
      },
      "outputs": [
        {
          "output_type": "execute_result",
          "data": {
            "text/plain": [
              "       Country  Region  Happiness Score      GDP  Social Support  \\\n",
              "0  Switzerland       0            7.587  1.39651         1.34951   \n",
              "1      Iceland       0            7.561  1.30232         1.40223   \n",
              "2      Denmark       0            7.527  1.32548         1.36058   \n",
              "3       Norway       0            7.522  1.45900         1.33095   \n",
              "4       Canada       1            7.427  1.32629         1.32261   \n",
              "\n",
              "   Healthy Life Expectancy  Freedom  Corruption Perception  Generosity  \n",
              "0                  0.94143  0.66557                0.41978     0.29678  \n",
              "1                  0.94784  0.62877                0.14145     0.43630  \n",
              "2                  0.87464  0.64938                0.48357     0.34139  \n",
              "3                  0.88521  0.66973                0.36503     0.34699  \n",
              "4                  0.90563  0.63297                0.32957     0.45811  "
            ],
            "text/html": [
              "\n",
              "  <div id=\"df-ea5e6fad-cf92-406d-8272-fc7d71392335\" class=\"colab-df-container\">\n",
              "    <div>\n",
              "<style scoped>\n",
              "    .dataframe tbody tr th:only-of-type {\n",
              "        vertical-align: middle;\n",
              "    }\n",
              "\n",
              "    .dataframe tbody tr th {\n",
              "        vertical-align: top;\n",
              "    }\n",
              "\n",
              "    .dataframe thead th {\n",
              "        text-align: right;\n",
              "    }\n",
              "</style>\n",
              "<table border=\"1\" class=\"dataframe\">\n",
              "  <thead>\n",
              "    <tr style=\"text-align: right;\">\n",
              "      <th></th>\n",
              "      <th>Country</th>\n",
              "      <th>Region</th>\n",
              "      <th>Happiness Score</th>\n",
              "      <th>GDP</th>\n",
              "      <th>Social Support</th>\n",
              "      <th>Healthy Life Expectancy</th>\n",
              "      <th>Freedom</th>\n",
              "      <th>Corruption Perception</th>\n",
              "      <th>Generosity</th>\n",
              "    </tr>\n",
              "  </thead>\n",
              "  <tbody>\n",
              "    <tr>\n",
              "      <th>0</th>\n",
              "      <td>Switzerland</td>\n",
              "      <td>0</td>\n",
              "      <td>7.587</td>\n",
              "      <td>1.39651</td>\n",
              "      <td>1.34951</td>\n",
              "      <td>0.94143</td>\n",
              "      <td>0.66557</td>\n",
              "      <td>0.41978</td>\n",
              "      <td>0.29678</td>\n",
              "    </tr>\n",
              "    <tr>\n",
              "      <th>1</th>\n",
              "      <td>Iceland</td>\n",
              "      <td>0</td>\n",
              "      <td>7.561</td>\n",
              "      <td>1.30232</td>\n",
              "      <td>1.40223</td>\n",
              "      <td>0.94784</td>\n",
              "      <td>0.62877</td>\n",
              "      <td>0.14145</td>\n",
              "      <td>0.43630</td>\n",
              "    </tr>\n",
              "    <tr>\n",
              "      <th>2</th>\n",
              "      <td>Denmark</td>\n",
              "      <td>0</td>\n",
              "      <td>7.527</td>\n",
              "      <td>1.32548</td>\n",
              "      <td>1.36058</td>\n",
              "      <td>0.87464</td>\n",
              "      <td>0.64938</td>\n",
              "      <td>0.48357</td>\n",
              "      <td>0.34139</td>\n",
              "    </tr>\n",
              "    <tr>\n",
              "      <th>3</th>\n",
              "      <td>Norway</td>\n",
              "      <td>0</td>\n",
              "      <td>7.522</td>\n",
              "      <td>1.45900</td>\n",
              "      <td>1.33095</td>\n",
              "      <td>0.88521</td>\n",
              "      <td>0.66973</td>\n",
              "      <td>0.36503</td>\n",
              "      <td>0.34699</td>\n",
              "    </tr>\n",
              "    <tr>\n",
              "      <th>4</th>\n",
              "      <td>Canada</td>\n",
              "      <td>1</td>\n",
              "      <td>7.427</td>\n",
              "      <td>1.32629</td>\n",
              "      <td>1.32261</td>\n",
              "      <td>0.90563</td>\n",
              "      <td>0.63297</td>\n",
              "      <td>0.32957</td>\n",
              "      <td>0.45811</td>\n",
              "    </tr>\n",
              "  </tbody>\n",
              "</table>\n",
              "</div>\n",
              "    <div class=\"colab-df-buttons\">\n",
              "\n",
              "  <div class=\"colab-df-container\">\n",
              "    <button class=\"colab-df-convert\" onclick=\"convertToInteractive('df-ea5e6fad-cf92-406d-8272-fc7d71392335')\"\n",
              "            title=\"Convert this dataframe to an interactive table.\"\n",
              "            style=\"display:none;\">\n",
              "\n",
              "  <svg xmlns=\"http://www.w3.org/2000/svg\" height=\"24px\" viewBox=\"0 -960 960 960\">\n",
              "    <path d=\"M120-120v-720h720v720H120Zm60-500h600v-160H180v160Zm220 220h160v-160H400v160Zm0 220h160v-160H400v160ZM180-400h160v-160H180v160Zm440 0h160v-160H620v160ZM180-180h160v-160H180v160Zm440 0h160v-160H620v160Z\"/>\n",
              "  </svg>\n",
              "    </button>\n",
              "\n",
              "  <style>\n",
              "    .colab-df-container {\n",
              "      display:flex;\n",
              "      gap: 12px;\n",
              "    }\n",
              "\n",
              "    .colab-df-convert {\n",
              "      background-color: #E8F0FE;\n",
              "      border: none;\n",
              "      border-radius: 50%;\n",
              "      cursor: pointer;\n",
              "      display: none;\n",
              "      fill: #1967D2;\n",
              "      height: 32px;\n",
              "      padding: 0 0 0 0;\n",
              "      width: 32px;\n",
              "    }\n",
              "\n",
              "    .colab-df-convert:hover {\n",
              "      background-color: #E2EBFA;\n",
              "      box-shadow: 0px 1px 2px rgba(60, 64, 67, 0.3), 0px 1px 3px 1px rgba(60, 64, 67, 0.15);\n",
              "      fill: #174EA6;\n",
              "    }\n",
              "\n",
              "    .colab-df-buttons div {\n",
              "      margin-bottom: 4px;\n",
              "    }\n",
              "\n",
              "    [theme=dark] .colab-df-convert {\n",
              "      background-color: #3B4455;\n",
              "      fill: #D2E3FC;\n",
              "    }\n",
              "\n",
              "    [theme=dark] .colab-df-convert:hover {\n",
              "      background-color: #434B5C;\n",
              "      box-shadow: 0px 1px 3px 1px rgba(0, 0, 0, 0.15);\n",
              "      filter: drop-shadow(0px 1px 2px rgba(0, 0, 0, 0.3));\n",
              "      fill: #FFFFFF;\n",
              "    }\n",
              "  </style>\n",
              "\n",
              "    <script>\n",
              "      const buttonEl =\n",
              "        document.querySelector('#df-ea5e6fad-cf92-406d-8272-fc7d71392335 button.colab-df-convert');\n",
              "      buttonEl.style.display =\n",
              "        google.colab.kernel.accessAllowed ? 'block' : 'none';\n",
              "\n",
              "      async function convertToInteractive(key) {\n",
              "        const element = document.querySelector('#df-ea5e6fad-cf92-406d-8272-fc7d71392335');\n",
              "        const dataTable =\n",
              "          await google.colab.kernel.invokeFunction('convertToInteractive',\n",
              "                                                    [key], {});\n",
              "        if (!dataTable) return;\n",
              "\n",
              "        const docLinkHtml = 'Like what you see? Visit the ' +\n",
              "          '<a target=\"_blank\" href=https://colab.research.google.com/notebooks/data_table.ipynb>data table notebook</a>'\n",
              "          + ' to learn more about interactive tables.';\n",
              "        element.innerHTML = '';\n",
              "        dataTable['output_type'] = 'display_data';\n",
              "        await google.colab.output.renderOutput(dataTable, element);\n",
              "        const docLink = document.createElement('div');\n",
              "        docLink.innerHTML = docLinkHtml;\n",
              "        element.appendChild(docLink);\n",
              "      }\n",
              "    </script>\n",
              "  </div>\n",
              "\n",
              "\n",
              "<div id=\"df-852d999c-48d3-4dbf-8635-a73f26a31d79\">\n",
              "  <button class=\"colab-df-quickchart\" onclick=\"quickchart('df-852d999c-48d3-4dbf-8635-a73f26a31d79')\"\n",
              "            title=\"Suggest charts\"\n",
              "            style=\"display:none;\">\n",
              "\n",
              "<svg xmlns=\"http://www.w3.org/2000/svg\" height=\"24px\"viewBox=\"0 0 24 24\"\n",
              "     width=\"24px\">\n",
              "    <g>\n",
              "        <path d=\"M19 3H5c-1.1 0-2 .9-2 2v14c0 1.1.9 2 2 2h14c1.1 0 2-.9 2-2V5c0-1.1-.9-2-2-2zM9 17H7v-7h2v7zm4 0h-2V7h2v10zm4 0h-2v-4h2v4z\"/>\n",
              "    </g>\n",
              "</svg>\n",
              "  </button>\n",
              "\n",
              "<style>\n",
              "  .colab-df-quickchart {\n",
              "      --bg-color: #E8F0FE;\n",
              "      --fill-color: #1967D2;\n",
              "      --hover-bg-color: #E2EBFA;\n",
              "      --hover-fill-color: #174EA6;\n",
              "      --disabled-fill-color: #AAA;\n",
              "      --disabled-bg-color: #DDD;\n",
              "  }\n",
              "\n",
              "  [theme=dark] .colab-df-quickchart {\n",
              "      --bg-color: #3B4455;\n",
              "      --fill-color: #D2E3FC;\n",
              "      --hover-bg-color: #434B5C;\n",
              "      --hover-fill-color: #FFFFFF;\n",
              "      --disabled-bg-color: #3B4455;\n",
              "      --disabled-fill-color: #666;\n",
              "  }\n",
              "\n",
              "  .colab-df-quickchart {\n",
              "    background-color: var(--bg-color);\n",
              "    border: none;\n",
              "    border-radius: 50%;\n",
              "    cursor: pointer;\n",
              "    display: none;\n",
              "    fill: var(--fill-color);\n",
              "    height: 32px;\n",
              "    padding: 0;\n",
              "    width: 32px;\n",
              "  }\n",
              "\n",
              "  .colab-df-quickchart:hover {\n",
              "    background-color: var(--hover-bg-color);\n",
              "    box-shadow: 0 1px 2px rgba(60, 64, 67, 0.3), 0 1px 3px 1px rgba(60, 64, 67, 0.15);\n",
              "    fill: var(--button-hover-fill-color);\n",
              "  }\n",
              "\n",
              "  .colab-df-quickchart-complete:disabled,\n",
              "  .colab-df-quickchart-complete:disabled:hover {\n",
              "    background-color: var(--disabled-bg-color);\n",
              "    fill: var(--disabled-fill-color);\n",
              "    box-shadow: none;\n",
              "  }\n",
              "\n",
              "  .colab-df-spinner {\n",
              "    border: 2px solid var(--fill-color);\n",
              "    border-color: transparent;\n",
              "    border-bottom-color: var(--fill-color);\n",
              "    animation:\n",
              "      spin 1s steps(1) infinite;\n",
              "  }\n",
              "\n",
              "  @keyframes spin {\n",
              "    0% {\n",
              "      border-color: transparent;\n",
              "      border-bottom-color: var(--fill-color);\n",
              "      border-left-color: var(--fill-color);\n",
              "    }\n",
              "    20% {\n",
              "      border-color: transparent;\n",
              "      border-left-color: var(--fill-color);\n",
              "      border-top-color: var(--fill-color);\n",
              "    }\n",
              "    30% {\n",
              "      border-color: transparent;\n",
              "      border-left-color: var(--fill-color);\n",
              "      border-top-color: var(--fill-color);\n",
              "      border-right-color: var(--fill-color);\n",
              "    }\n",
              "    40% {\n",
              "      border-color: transparent;\n",
              "      border-right-color: var(--fill-color);\n",
              "      border-top-color: var(--fill-color);\n",
              "    }\n",
              "    60% {\n",
              "      border-color: transparent;\n",
              "      border-right-color: var(--fill-color);\n",
              "    }\n",
              "    80% {\n",
              "      border-color: transparent;\n",
              "      border-right-color: var(--fill-color);\n",
              "      border-bottom-color: var(--fill-color);\n",
              "    }\n",
              "    90% {\n",
              "      border-color: transparent;\n",
              "      border-bottom-color: var(--fill-color);\n",
              "    }\n",
              "  }\n",
              "</style>\n",
              "\n",
              "  <script>\n",
              "    async function quickchart(key) {\n",
              "      const quickchartButtonEl =\n",
              "        document.querySelector('#' + key + ' button');\n",
              "      quickchartButtonEl.disabled = true;  // To prevent multiple clicks.\n",
              "      quickchartButtonEl.classList.add('colab-df-spinner');\n",
              "      try {\n",
              "        const charts = await google.colab.kernel.invokeFunction(\n",
              "            'suggestCharts', [key], {});\n",
              "      } catch (error) {\n",
              "        console.error('Error during call to suggestCharts:', error);\n",
              "      }\n",
              "      quickchartButtonEl.classList.remove('colab-df-spinner');\n",
              "      quickchartButtonEl.classList.add('colab-df-quickchart-complete');\n",
              "    }\n",
              "    (() => {\n",
              "      let quickchartButtonEl =\n",
              "        document.querySelector('#df-852d999c-48d3-4dbf-8635-a73f26a31d79 button');\n",
              "      quickchartButtonEl.style.display =\n",
              "        google.colab.kernel.accessAllowed ? 'block' : 'none';\n",
              "    })();\n",
              "  </script>\n",
              "</div>\n",
              "\n",
              "    </div>\n",
              "  </div>\n"
            ],
            "application/vnd.google.colaboratory.intrinsic+json": {
              "type": "dataframe",
              "variable_name": "happy_df",
              "summary": "{\n  \"name\": \"happy_df\",\n  \"rows\": 158,\n  \"fields\": [\n    {\n      \"column\": \"Country\",\n      \"properties\": {\n        \"dtype\": \"string\",\n        \"num_unique_values\": 158,\n        \"samples\": [\n          \"Myanmar\",\n          \"Japan\",\n          \"Egypt\"\n        ],\n        \"semantic_type\": \"\",\n        \"description\": \"\"\n      }\n    },\n    {\n      \"column\": \"Region\",\n      \"properties\": {\n        \"dtype\": \"number\",\n        \"std\": 2,\n        \"min\": 0,\n        \"max\": 9,\n        \"num_unique_values\": 10,\n        \"samples\": [\n          8,\n          1,\n          5\n        ],\n        \"semantic_type\": \"\",\n        \"description\": \"\"\n      }\n    },\n    {\n      \"column\": \"Happiness Score\",\n      \"properties\": {\n        \"dtype\": \"number\",\n        \"std\": 1.140356106761644,\n        \"min\": 2.839,\n        \"max\": 7.587,\n        \"num_unique_values\": 157,\n        \"samples\": [\n          4.332,\n          5.987,\n          4.194\n        ],\n        \"semantic_type\": \"\",\n        \"description\": \"\"\n      }\n    },\n    {\n      \"column\": \"GDP\",\n      \"properties\": {\n        \"dtype\": \"number\",\n        \"std\": 0.40312077853791,\n        \"min\": 0.0,\n        \"max\": 1.69042,\n        \"num_unique_values\": 158,\n        \"samples\": [\n          0.27108,\n          1.27074,\n          0.8818\n        ],\n        \"semantic_type\": \"\",\n        \"description\": \"\"\n      }\n    },\n    {\n      \"column\": \"Social Support\",\n      \"properties\": {\n        \"dtype\": \"number\",\n        \"std\": 0.27236908600791543,\n        \"min\": 0.0,\n        \"max\": 1.40223,\n        \"num_unique_values\": 158,\n        \"samples\": [\n          0.70905,\n          1.25712,\n          0.747\n        ],\n        \"semantic_type\": \"\",\n        \"description\": \"\"\n      }\n    },\n    {\n      \"column\": \"Healthy Life Expectancy\",\n      \"properties\": {\n        \"dtype\": \"number\",\n        \"std\": 0.24718434746107584,\n        \"min\": 0.0,\n        \"max\": 1.02525,\n        \"num_unique_values\": 157,\n        \"samples\": [\n          0.04776,\n          0.99111,\n          0.61712\n        ],\n        \"semantic_type\": \"\",\n        \"description\": \"\"\n      }\n    },\n    {\n      \"column\": \"Freedom\",\n      \"properties\": {\n        \"dtype\": \"number\",\n        \"std\": 0.15069278393767793,\n        \"min\": 0.0,\n        \"max\": 0.66973,\n        \"num_unique_values\": 158,\n        \"samples\": [\n          0.44017,\n          0.49615,\n          0.17288\n        ],\n        \"semantic_type\": \"\",\n        \"description\": \"\"\n      }\n    },\n    {\n      \"column\": \"Corruption Perception\",\n      \"properties\": {\n        \"dtype\": \"number\",\n        \"std\": 0.12003407357455917,\n        \"min\": 0.0,\n        \"max\": 0.55191,\n        \"num_unique_values\": 157,\n        \"samples\": [\n          0.12474,\n          0.07857,\n          0.06324\n        ],\n        \"semantic_type\": \"\",\n        \"description\": \"\"\n      }\n    },\n    {\n      \"column\": \"Generosity\",\n      \"properties\": {\n        \"dtype\": \"number\",\n        \"std\": 0.12668493402020534,\n        \"min\": 0.0,\n        \"max\": 0.79588,\n        \"num_unique_values\": 158,\n        \"samples\": [\n          0.79588,\n          0.10705,\n          0.11291\n        ],\n        \"semantic_type\": \"\",\n        \"description\": \"\"\n      }\n    }\n  ]\n}"
            }
          },
          "metadata": {},
          "execution_count": 49
        }
      ],
      "source": [
        "# Load the data\n",
        "happy_df.head(5)"
      ]
    },
    {
      "cell_type": "code",
      "execution_count": null,
      "metadata": {
        "id": "udto58rS1RJm"
      },
      "outputs": [],
      "source": [
        "# droping Country column to be able to run the correlation function\n",
        "check_features = happy_df.drop(['Country'], axis = 1)"
      ]
    },
    {
      "cell_type": "code",
      "execution_count": null,
      "metadata": {
        "colab": {
          "base_uri": "https://localhost:8080/",
          "height": 441
        },
        "id": "uUfX62h02BLV",
        "outputId": "efec55d7-cb57-448e-8fa0-b9b2317e84cc"
      },
      "outputs": [
        {
          "output_type": "execute_result",
          "data": {
            "text/plain": [
              "                           Region  Happiness Score       GDP  Social Support  \\\n",
              "Region                   1.000000        -0.689062 -0.692340       -0.501211   \n",
              "Happiness Score         -0.689062         1.000000  0.780506        0.740265   \n",
              "GDP                     -0.692340         0.780506  1.000000        0.645299   \n",
              "Social Support          -0.501211         0.740265  0.645299        1.000000   \n",
              "Healthy Life Expectancy -0.710745         0.724907  0.814451        0.531114   \n",
              "Freedom                 -0.381365         0.566642  0.370300        0.441518   \n",
              "Corruption Perception   -0.341903         0.395731  0.307885        0.205605   \n",
              "Generosity              -0.163055         0.178843 -0.010465        0.087513   \n",
              "\n",
              "                         Healthy Life Expectancy   Freedom  \\\n",
              "Region                                 -0.710745 -0.381365   \n",
              "Happiness Score                         0.724907  0.566642   \n",
              "GDP                                     0.814451  0.370300   \n",
              "Social Support                          0.531114  0.441518   \n",
              "Healthy Life Expectancy                 1.000000  0.358533   \n",
              "Freedom                                 0.358533  1.000000   \n",
              "Corruption Perception                   0.245383  0.493524   \n",
              "Generosity                              0.107700  0.373916   \n",
              "\n",
              "                         Corruption Perception  Generosity  \n",
              "Region                               -0.341903   -0.163055  \n",
              "Happiness Score                       0.395731    0.178843  \n",
              "GDP                                   0.307885   -0.010465  \n",
              "Social Support                        0.205605    0.087513  \n",
              "Healthy Life Expectancy               0.245383    0.107700  \n",
              "Freedom                               0.493524    0.373916  \n",
              "Corruption Perception                 1.000000    0.276123  \n",
              "Generosity                            0.276123    1.000000  "
            ],
            "text/html": [
              "\n",
              "  <div id=\"df-0d5910bc-0e61-4d01-b46c-fd6e658a551b\" class=\"colab-df-container\">\n",
              "    <div>\n",
              "<style scoped>\n",
              "    .dataframe tbody tr th:only-of-type {\n",
              "        vertical-align: middle;\n",
              "    }\n",
              "\n",
              "    .dataframe tbody tr th {\n",
              "        vertical-align: top;\n",
              "    }\n",
              "\n",
              "    .dataframe thead th {\n",
              "        text-align: right;\n",
              "    }\n",
              "</style>\n",
              "<table border=\"1\" class=\"dataframe\">\n",
              "  <thead>\n",
              "    <tr style=\"text-align: right;\">\n",
              "      <th></th>\n",
              "      <th>Region</th>\n",
              "      <th>Happiness Score</th>\n",
              "      <th>GDP</th>\n",
              "      <th>Social Support</th>\n",
              "      <th>Healthy Life Expectancy</th>\n",
              "      <th>Freedom</th>\n",
              "      <th>Corruption Perception</th>\n",
              "      <th>Generosity</th>\n",
              "    </tr>\n",
              "  </thead>\n",
              "  <tbody>\n",
              "    <tr>\n",
              "      <th>Region</th>\n",
              "      <td>1.000000</td>\n",
              "      <td>-0.689062</td>\n",
              "      <td>-0.692340</td>\n",
              "      <td>-0.501211</td>\n",
              "      <td>-0.710745</td>\n",
              "      <td>-0.381365</td>\n",
              "      <td>-0.341903</td>\n",
              "      <td>-0.163055</td>\n",
              "    </tr>\n",
              "    <tr>\n",
              "      <th>Happiness Score</th>\n",
              "      <td>-0.689062</td>\n",
              "      <td>1.000000</td>\n",
              "      <td>0.780506</td>\n",
              "      <td>0.740265</td>\n",
              "      <td>0.724907</td>\n",
              "      <td>0.566642</td>\n",
              "      <td>0.395731</td>\n",
              "      <td>0.178843</td>\n",
              "    </tr>\n",
              "    <tr>\n",
              "      <th>GDP</th>\n",
              "      <td>-0.692340</td>\n",
              "      <td>0.780506</td>\n",
              "      <td>1.000000</td>\n",
              "      <td>0.645299</td>\n",
              "      <td>0.814451</td>\n",
              "      <td>0.370300</td>\n",
              "      <td>0.307885</td>\n",
              "      <td>-0.010465</td>\n",
              "    </tr>\n",
              "    <tr>\n",
              "      <th>Social Support</th>\n",
              "      <td>-0.501211</td>\n",
              "      <td>0.740265</td>\n",
              "      <td>0.645299</td>\n",
              "      <td>1.000000</td>\n",
              "      <td>0.531114</td>\n",
              "      <td>0.441518</td>\n",
              "      <td>0.205605</td>\n",
              "      <td>0.087513</td>\n",
              "    </tr>\n",
              "    <tr>\n",
              "      <th>Healthy Life Expectancy</th>\n",
              "      <td>-0.710745</td>\n",
              "      <td>0.724907</td>\n",
              "      <td>0.814451</td>\n",
              "      <td>0.531114</td>\n",
              "      <td>1.000000</td>\n",
              "      <td>0.358533</td>\n",
              "      <td>0.245383</td>\n",
              "      <td>0.107700</td>\n",
              "    </tr>\n",
              "    <tr>\n",
              "      <th>Freedom</th>\n",
              "      <td>-0.381365</td>\n",
              "      <td>0.566642</td>\n",
              "      <td>0.370300</td>\n",
              "      <td>0.441518</td>\n",
              "      <td>0.358533</td>\n",
              "      <td>1.000000</td>\n",
              "      <td>0.493524</td>\n",
              "      <td>0.373916</td>\n",
              "    </tr>\n",
              "    <tr>\n",
              "      <th>Corruption Perception</th>\n",
              "      <td>-0.341903</td>\n",
              "      <td>0.395731</td>\n",
              "      <td>0.307885</td>\n",
              "      <td>0.205605</td>\n",
              "      <td>0.245383</td>\n",
              "      <td>0.493524</td>\n",
              "      <td>1.000000</td>\n",
              "      <td>0.276123</td>\n",
              "    </tr>\n",
              "    <tr>\n",
              "      <th>Generosity</th>\n",
              "      <td>-0.163055</td>\n",
              "      <td>0.178843</td>\n",
              "      <td>-0.010465</td>\n",
              "      <td>0.087513</td>\n",
              "      <td>0.107700</td>\n",
              "      <td>0.373916</td>\n",
              "      <td>0.276123</td>\n",
              "      <td>1.000000</td>\n",
              "    </tr>\n",
              "  </tbody>\n",
              "</table>\n",
              "</div>\n",
              "    <div class=\"colab-df-buttons\">\n",
              "\n",
              "  <div class=\"colab-df-container\">\n",
              "    <button class=\"colab-df-convert\" onclick=\"convertToInteractive('df-0d5910bc-0e61-4d01-b46c-fd6e658a551b')\"\n",
              "            title=\"Convert this dataframe to an interactive table.\"\n",
              "            style=\"display:none;\">\n",
              "\n",
              "  <svg xmlns=\"http://www.w3.org/2000/svg\" height=\"24px\" viewBox=\"0 -960 960 960\">\n",
              "    <path d=\"M120-120v-720h720v720H120Zm60-500h600v-160H180v160Zm220 220h160v-160H400v160Zm0 220h160v-160H400v160ZM180-400h160v-160H180v160Zm440 0h160v-160H620v160ZM180-180h160v-160H180v160Zm440 0h160v-160H620v160Z\"/>\n",
              "  </svg>\n",
              "    </button>\n",
              "\n",
              "  <style>\n",
              "    .colab-df-container {\n",
              "      display:flex;\n",
              "      gap: 12px;\n",
              "    }\n",
              "\n",
              "    .colab-df-convert {\n",
              "      background-color: #E8F0FE;\n",
              "      border: none;\n",
              "      border-radius: 50%;\n",
              "      cursor: pointer;\n",
              "      display: none;\n",
              "      fill: #1967D2;\n",
              "      height: 32px;\n",
              "      padding: 0 0 0 0;\n",
              "      width: 32px;\n",
              "    }\n",
              "\n",
              "    .colab-df-convert:hover {\n",
              "      background-color: #E2EBFA;\n",
              "      box-shadow: 0px 1px 2px rgba(60, 64, 67, 0.3), 0px 1px 3px 1px rgba(60, 64, 67, 0.15);\n",
              "      fill: #174EA6;\n",
              "    }\n",
              "\n",
              "    .colab-df-buttons div {\n",
              "      margin-bottom: 4px;\n",
              "    }\n",
              "\n",
              "    [theme=dark] .colab-df-convert {\n",
              "      background-color: #3B4455;\n",
              "      fill: #D2E3FC;\n",
              "    }\n",
              "\n",
              "    [theme=dark] .colab-df-convert:hover {\n",
              "      background-color: #434B5C;\n",
              "      box-shadow: 0px 1px 3px 1px rgba(0, 0, 0, 0.15);\n",
              "      filter: drop-shadow(0px 1px 2px rgba(0, 0, 0, 0.3));\n",
              "      fill: #FFFFFF;\n",
              "    }\n",
              "  </style>\n",
              "\n",
              "    <script>\n",
              "      const buttonEl =\n",
              "        document.querySelector('#df-0d5910bc-0e61-4d01-b46c-fd6e658a551b button.colab-df-convert');\n",
              "      buttonEl.style.display =\n",
              "        google.colab.kernel.accessAllowed ? 'block' : 'none';\n",
              "\n",
              "      async function convertToInteractive(key) {\n",
              "        const element = document.querySelector('#df-0d5910bc-0e61-4d01-b46c-fd6e658a551b');\n",
              "        const dataTable =\n",
              "          await google.colab.kernel.invokeFunction('convertToInteractive',\n",
              "                                                    [key], {});\n",
              "        if (!dataTable) return;\n",
              "\n",
              "        const docLinkHtml = 'Like what you see? Visit the ' +\n",
              "          '<a target=\"_blank\" href=https://colab.research.google.com/notebooks/data_table.ipynb>data table notebook</a>'\n",
              "          + ' to learn more about interactive tables.';\n",
              "        element.innerHTML = '';\n",
              "        dataTable['output_type'] = 'display_data';\n",
              "        await google.colab.output.renderOutput(dataTable, element);\n",
              "        const docLink = document.createElement('div');\n",
              "        docLink.innerHTML = docLinkHtml;\n",
              "        element.appendChild(docLink);\n",
              "      }\n",
              "    </script>\n",
              "  </div>\n",
              "\n",
              "\n",
              "<div id=\"df-479dd711-bdd0-45ed-a49f-60450d6c237c\">\n",
              "  <button class=\"colab-df-quickchart\" onclick=\"quickchart('df-479dd711-bdd0-45ed-a49f-60450d6c237c')\"\n",
              "            title=\"Suggest charts\"\n",
              "            style=\"display:none;\">\n",
              "\n",
              "<svg xmlns=\"http://www.w3.org/2000/svg\" height=\"24px\"viewBox=\"0 0 24 24\"\n",
              "     width=\"24px\">\n",
              "    <g>\n",
              "        <path d=\"M19 3H5c-1.1 0-2 .9-2 2v14c0 1.1.9 2 2 2h14c1.1 0 2-.9 2-2V5c0-1.1-.9-2-2-2zM9 17H7v-7h2v7zm4 0h-2V7h2v10zm4 0h-2v-4h2v4z\"/>\n",
              "    </g>\n",
              "</svg>\n",
              "  </button>\n",
              "\n",
              "<style>\n",
              "  .colab-df-quickchart {\n",
              "      --bg-color: #E8F0FE;\n",
              "      --fill-color: #1967D2;\n",
              "      --hover-bg-color: #E2EBFA;\n",
              "      --hover-fill-color: #174EA6;\n",
              "      --disabled-fill-color: #AAA;\n",
              "      --disabled-bg-color: #DDD;\n",
              "  }\n",
              "\n",
              "  [theme=dark] .colab-df-quickchart {\n",
              "      --bg-color: #3B4455;\n",
              "      --fill-color: #D2E3FC;\n",
              "      --hover-bg-color: #434B5C;\n",
              "      --hover-fill-color: #FFFFFF;\n",
              "      --disabled-bg-color: #3B4455;\n",
              "      --disabled-fill-color: #666;\n",
              "  }\n",
              "\n",
              "  .colab-df-quickchart {\n",
              "    background-color: var(--bg-color);\n",
              "    border: none;\n",
              "    border-radius: 50%;\n",
              "    cursor: pointer;\n",
              "    display: none;\n",
              "    fill: var(--fill-color);\n",
              "    height: 32px;\n",
              "    padding: 0;\n",
              "    width: 32px;\n",
              "  }\n",
              "\n",
              "  .colab-df-quickchart:hover {\n",
              "    background-color: var(--hover-bg-color);\n",
              "    box-shadow: 0 1px 2px rgba(60, 64, 67, 0.3), 0 1px 3px 1px rgba(60, 64, 67, 0.15);\n",
              "    fill: var(--button-hover-fill-color);\n",
              "  }\n",
              "\n",
              "  .colab-df-quickchart-complete:disabled,\n",
              "  .colab-df-quickchart-complete:disabled:hover {\n",
              "    background-color: var(--disabled-bg-color);\n",
              "    fill: var(--disabled-fill-color);\n",
              "    box-shadow: none;\n",
              "  }\n",
              "\n",
              "  .colab-df-spinner {\n",
              "    border: 2px solid var(--fill-color);\n",
              "    border-color: transparent;\n",
              "    border-bottom-color: var(--fill-color);\n",
              "    animation:\n",
              "      spin 1s steps(1) infinite;\n",
              "  }\n",
              "\n",
              "  @keyframes spin {\n",
              "    0% {\n",
              "      border-color: transparent;\n",
              "      border-bottom-color: var(--fill-color);\n",
              "      border-left-color: var(--fill-color);\n",
              "    }\n",
              "    20% {\n",
              "      border-color: transparent;\n",
              "      border-left-color: var(--fill-color);\n",
              "      border-top-color: var(--fill-color);\n",
              "    }\n",
              "    30% {\n",
              "      border-color: transparent;\n",
              "      border-left-color: var(--fill-color);\n",
              "      border-top-color: var(--fill-color);\n",
              "      border-right-color: var(--fill-color);\n",
              "    }\n",
              "    40% {\n",
              "      border-color: transparent;\n",
              "      border-right-color: var(--fill-color);\n",
              "      border-top-color: var(--fill-color);\n",
              "    }\n",
              "    60% {\n",
              "      border-color: transparent;\n",
              "      border-right-color: var(--fill-color);\n",
              "    }\n",
              "    80% {\n",
              "      border-color: transparent;\n",
              "      border-right-color: var(--fill-color);\n",
              "      border-bottom-color: var(--fill-color);\n",
              "    }\n",
              "    90% {\n",
              "      border-color: transparent;\n",
              "      border-bottom-color: var(--fill-color);\n",
              "    }\n",
              "  }\n",
              "</style>\n",
              "\n",
              "  <script>\n",
              "    async function quickchart(key) {\n",
              "      const quickchartButtonEl =\n",
              "        document.querySelector('#' + key + ' button');\n",
              "      quickchartButtonEl.disabled = true;  // To prevent multiple clicks.\n",
              "      quickchartButtonEl.classList.add('colab-df-spinner');\n",
              "      try {\n",
              "        const charts = await google.colab.kernel.invokeFunction(\n",
              "            'suggestCharts', [key], {});\n",
              "      } catch (error) {\n",
              "        console.error('Error during call to suggestCharts:', error);\n",
              "      }\n",
              "      quickchartButtonEl.classList.remove('colab-df-spinner');\n",
              "      quickchartButtonEl.classList.add('colab-df-quickchart-complete');\n",
              "    }\n",
              "    (() => {\n",
              "      let quickchartButtonEl =\n",
              "        document.querySelector('#df-479dd711-bdd0-45ed-a49f-60450d6c237c button');\n",
              "      quickchartButtonEl.style.display =\n",
              "        google.colab.kernel.accessAllowed ? 'block' : 'none';\n",
              "    })();\n",
              "  </script>\n",
              "</div>\n",
              "\n",
              "    </div>\n",
              "  </div>\n"
            ],
            "application/vnd.google.colaboratory.intrinsic+json": {
              "type": "dataframe",
              "summary": "{\n  \"name\": \"check_features\",\n  \"rows\": 8,\n  \"fields\": [\n    {\n      \"column\": \"Region\",\n      \"properties\": {\n        \"dtype\": \"number\",\n        \"std\": 0.5645268407311576,\n        \"min\": -0.7107450982488961,\n        \"max\": 1.0,\n        \"num_unique_values\": 8,\n        \"samples\": [\n          -0.689062033861147,\n          -0.38136468153511155,\n          1.0\n        ],\n        \"semantic_type\": \"\",\n        \"description\": \"\"\n      }\n    },\n    {\n      \"column\": \"Happiness Score\",\n      \"properties\": {\n        \"dtype\": \"number\",\n        \"std\": 0.5288672995632943,\n        \"min\": -0.689062033861147,\n        \"max\": 1.0,\n        \"num_unique_values\": 8,\n        \"samples\": [\n          1.0,\n          0.5666423451329019,\n          -0.689062033861147\n        ],\n        \"semantic_type\": \"\",\n        \"description\": \"\"\n      }\n    },\n    {\n      \"column\": \"GDP\",\n      \"properties\": {\n        \"dtype\": \"number\",\n        \"std\": 0.5487325816449518,\n        \"min\": -0.6923400572679728,\n        \"max\": 1.0,\n        \"num_unique_values\": 8,\n        \"samples\": [\n          0.780506343634732,\n          0.37029970741095497,\n          -0.6923400572679728\n        ],\n        \"semantic_type\": \"\",\n        \"description\": \"\"\n      }\n    },\n    {\n      \"column\": \"Social Support\",\n      \"properties\": {\n        \"dtype\": \"number\",\n        \"std\": 0.46324543528909956,\n        \"min\": -0.501211181331313,\n        \"max\": 1.0,\n        \"num_unique_values\": 8,\n        \"samples\": [\n          0.7402649770948745,\n          0.4415182106228609,\n          -0.501211181331313\n        ],\n        \"semantic_type\": \"\",\n        \"description\": \"\"\n      }\n    },\n    {\n      \"column\": \"Healthy Life Expectancy\",\n      \"properties\": {\n        \"dtype\": \"number\",\n        \"std\": 0.5341583008989863,\n        \"min\": -0.7107450982488961,\n        \"max\": 1.0,\n        \"num_unique_values\": 8,\n        \"samples\": [\n          0.7249066448271877,\n          0.3585332215762314,\n          -0.7107450982488961\n        ],\n        \"semantic_type\": \"\",\n        \"description\": \"\"\n      }\n    },\n    {\n      \"column\": \"Freedom\",\n      \"properties\": {\n        \"dtype\": \"number\",\n        \"std\": 0.38022292283112286,\n        \"min\": -0.38136468153511155,\n        \"max\": 1.0,\n        \"num_unique_values\": 8,\n        \"samples\": [\n          0.5666423451329019,\n          1.0,\n          -0.38136468153511155\n        ],\n        \"semantic_type\": \"\",\n        \"description\": \"\"\n      }\n    },\n    {\n      \"column\": \"Corruption Perception\",\n      \"properties\": {\n        \"dtype\": \"number\",\n        \"std\": 0.3697536703077556,\n        \"min\": -0.34190292404606626,\n        \"max\": 1.0,\n        \"num_unique_values\": 8,\n        \"samples\": [\n          0.3957307596468385,\n          0.49352351748290546,\n          -0.34190292404606626\n        ],\n        \"semantic_type\": \"\",\n        \"description\": \"\"\n      }\n    },\n    {\n      \"column\": \"Generosity\",\n      \"properties\": {\n        \"dtype\": \"number\",\n        \"std\": 0.3517136917755676,\n        \"min\": -0.1630548360787336,\n        \"max\": 1.0,\n        \"num_unique_values\": 8,\n        \"samples\": [\n          0.1788432716942294,\n          0.37391612557440596,\n          -0.1630548360787336\n        ],\n        \"semantic_type\": \"\",\n        \"description\": \"\"\n      }\n    }\n  ]\n}"
            }
          },
          "metadata": {},
          "execution_count": 51
        }
      ],
      "source": [
        "# Correlation\n",
        "check_features.corr()"
      ]
    },
    {
      "cell_type": "markdown",
      "metadata": {
        "id": "7aJhbHDqbasd"
      },
      "source": [
        "**Explain and summarize your findings here**\n",
        "\n",
        "The three best features to use are GDP, Social Support, and Healthy Life Expectancy due to their high correlation with Happiness Score."
      ]
    },
    {
      "cell_type": "markdown",
      "metadata": {
        "id": "ssmA0GmZO8AS"
      },
      "source": [
        "#### **Steps #1-7: Create the Model**"
      ]
    },
    {
      "cell_type": "code",
      "execution_count": null,
      "metadata": {
        "id": "WGAOwp4azRt5"
      },
      "outputs": [],
      "source": [
        "# Independent and Dependent variables\n",
        "happy_3_features = happy_df[['GDP', 'Social Support', 'Healthy Life Expectancy']]\n",
        "happy_3_label = happy_df['Happiness Score']"
      ]
    },
    {
      "cell_type": "markdown",
      "metadata": {
        "id": "O6xH-yOqMbZn"
      },
      "source": [
        "**Linear Regression**"
      ]
    },
    {
      "cell_type": "code",
      "execution_count": null,
      "metadata": {
        "id": "gBqw1AnzVkFq"
      },
      "outputs": [],
      "source": [
        "# Split the data\n",
        "x_train, x_test, y_train, y_test = model_selection.train_test_split(happy_3_features, happy_3_label, test_size=0.2, random_state=42)"
      ]
    },
    {
      "cell_type": "code",
      "execution_count": null,
      "metadata": {
        "id": "01sQHyq3XEau"
      },
      "outputs": [],
      "source": [
        "# Initialize model\n",
        "happy_3_reg = LinearRegression()"
      ]
    },
    {
      "cell_type": "code",
      "execution_count": null,
      "metadata": {
        "id": "RLHWllAMV0Re"
      },
      "outputs": [],
      "source": [
        "# Fit model and predict\n",
        "happy_3_reg.fit(x_train, y_train)\n",
        "happy_3_reg_pred = happy_3_reg.predict(x_test)"
      ]
    },
    {
      "cell_type": "code",
      "execution_count": null,
      "metadata": {
        "colab": {
          "base_uri": "https://localhost:8080/",
          "height": 646
        },
        "id": "7E2WezcBQKgX",
        "outputId": "94894ff2-7b3d-401c-d3be-c89c70099b64"
      },
      "outputs": [
        {
          "output_type": "display_data",
          "data": {
            "text/plain": [
              "<Figure size 800x800 with 1 Axes>"
            ],
            "image/png": "[encoded data removed]"
          },
          "metadata": {}
        }
      ],
      "source": [
        "# Visualization\n",
        "plt.figure(figsize=(8, 8))\n",
        "plt.scatter(y_test, happy_3_reg_pred)\n",
        "plt.plot([2, 8], [2, 8], '--k', label=\"Correct Prediction\")\n",
        "plt.axis('tight')\n",
        "plt.xlabel('True Happiness Score')\n",
        "plt.ylabel('Predicted Happiness Score')\n",
        "plt.title(\"Real vs Predicted Happiness Score\")\n",
        "plt.legend()\n",
        "plt.tight_layout()"
      ]
    },
    {
      "cell_type": "code",
      "execution_count": null,
      "metadata": {
        "colab": {
          "base_uri": "https://localhost:8080/"
        },
        "id": "6lEBSACUV6NO",
        "outputId": "f7bc4eea-d28b-416e-e3c0-15e1acd0823a"
      },
      "outputs": [
        {
          "output_type": "stream",
          "name": "stdout",
          "text": [
            "Mean squared:  0.2730690886326873\n",
            "R2 score:  0.7998126072702085\n"
          ]
        }
      ],
      "source": [
        "# Evaluate model\n",
        "print('Mean squared: ', metrics.mean_squared_error(y_test, happy_3_reg_pred))\n",
        "print('R2 score: ', metrics.r2_score(y_test, happy_3_reg_pred))"
      ]
    },
    {
      "cell_type": "markdown",
      "metadata": {
        "id": "JVXpvwwTMjLA"
      },
      "source": [
        "**KNN**"
      ]
    },
    {
      "cell_type": "code",
      "execution_count": null,
      "metadata": {
        "id": "BkDsYbzHM2Vz"
      },
      "outputs": [],
      "source": [
        "#Using the already encoded lables from Part 2.1\n",
        "knn_3_label = knn_label"
      ]
    },
    {
      "cell_type": "code",
      "execution_count": null,
      "metadata": {
        "colab": {
          "base_uri": "https://localhost:8080/"
        },
        "id": "vOE5BvCxjt_1",
        "outputId": "d0e93cf1-9123-4ea8-9106-adad436f215e"
      },
      "outputs": [
        {
          "output_type": "execute_result",
          "data": {
            "text/plain": [
              "0    High\n",
              "1    High\n",
              "2    High\n",
              "3    High\n",
              "4    High\n",
              "Name: Happiness Score, dtype: category\n",
              "Categories (3, object): ['Low' < 'Medium' < 'High']"
            ]
          },
          "metadata": {},
          "execution_count": 59
        }
      ],
      "source": [
        "knn_3_label.head()"
      ]
    },
    {
      "cell_type": "code",
      "execution_count": null,
      "metadata": {
        "id": "xpfziBXwzd90"
      },
      "outputs": [],
      "source": [
        "# Split data\n",
        "x_train, x_test, y_train, y_test = model_selection.train_test_split(happy_3_features, knn_3_label, test_size=0.2, random_state=42)"
      ]
    },
    {
      "cell_type": "code",
      "execution_count": null,
      "metadata": {
        "id": "gRGHbfhCzk9I"
      },
      "outputs": [],
      "source": [
        "#Initalize model\n",
        "happy_3_knn = KNeighborsClassifier(n_neighbors = 3)"
      ]
    },
    {
      "cell_type": "code",
      "execution_count": null,
      "metadata": {
        "colab": {
          "base_uri": "https://localhost:8080/",
          "height": 74
        },
        "id": "jPnY1mqSzohW",
        "outputId": "031ea495-1d1f-49ba-f308-a7ca5ac8eb41"
      },
      "outputs": [
        {
          "output_type": "execute_result",
          "data": {
            "text/plain": [
              "KNeighborsClassifier(n_neighbors=3)"
            ],
            "text/html": [
              "<style>#sk-container-id-1 {color: black;background-color: white;}#sk-container-id-1 pre{padding: 0;}#sk-container-id-1 div.sk-toggleable {background-color: white;}#sk-container-id-1 label.sk-toggleable__label {cursor: pointer;display: block;width: 100%;margin-bottom: 0;padding: 0.3em;box-sizing: border-box;text-align: center;}#sk-container-id-1 label.sk-toggleable__label-arrow:before {content: \"▸\";float: left;margin-right: 0.25em;color: #696969;}#sk-container-id-1 label.sk-toggleable__label-arrow:hover:before {color: black;}#sk-container-id-1 div.sk-estimator:hover label.sk-toggleable__label-arrow:before {color: black;}#sk-container-id-1 div.sk-toggleable__content {max-height: 0;max-width: 0;overflow: hidden;text-align: left;background-color: #f0f8ff;}#sk-container-id-1 div.sk-toggleable__content pre {margin: 0.2em;color: black;border-radius: 0.25em;background-color: #f0f8ff;}#sk-container-id-1 input.sk-toggleable__control:checked~div.sk-toggleable__content {max-height: 200px;max-width: 100%;overflow: auto;}#sk-container-id-1 input.sk-toggleable__control:checked~label.sk-toggleable__label-arrow:before {content: \"▾\";}#sk-container-id-1 div.sk-estimator input.sk-toggleable__control:checked~label.sk-toggleable__label {background-color: #d4ebff;}#sk-container-id-1 div.sk-label input.sk-toggleable__control:checked~label.sk-toggleable__label {background-color: #d4ebff;}#sk-container-id-1 input.sk-hidden--visually {border: 0;clip: rect(1px 1px 1px 1px);clip: rect(1px, 1px, 1px, 1px);height: 1px;margin: -1px;overflow: hidden;padding: 0;position: absolute;width: 1px;}#sk-container-id-1 div.sk-estimator {font-family: monospace;background-color: #f0f8ff;border: 1px dotted black;border-radius: 0.25em;box-sizing: border-box;margin-bottom: 0.5em;}#sk-container-id-1 div.sk-estimator:hover {background-color: #d4ebff;}#sk-container-id-1 div.sk-parallel-item::after {content: \"\";width: 100%;border-bottom: 1px solid gray;flex-grow: 1;}#sk-container-id-1 div.sk-label:hover label.sk-toggleable__label {background-color: #d4ebff;}#sk-container-id-1 div.sk-serial::before {content: \"\";position: absolute;border-left: 1px solid gray;box-sizing: border-box;top: 0;bottom: 0;left: 50%;z-index: 0;}#sk-container-id-1 div.sk-serial {display: flex;flex-direction: column;align-items: center;background-color: white;padding-right: 0.2em;padding-left: 0.2em;position: relative;}#sk-container-id-1 div.sk-item {position: relative;z-index: 1;}#sk-container-id-1 div.sk-parallel {display: flex;align-items: stretch;justify-content: center;background-color: white;position: relative;}#sk-container-id-1 div.sk-item::before, #sk-container-id-1 div.sk-parallel-item::before {content: \"\";position: absolute;border-left: 1px solid gray;box-sizing: border-box;top: 0;bottom: 0;left: 50%;z-index: -1;}#sk-container-id-1 div.sk-parallel-item {display: flex;flex-direction: column;z-index: 1;position: relative;background-color: white;}#sk-container-id-1 div.sk-parallel-item:first-child::after {align-self: flex-end;width: 50%;}#sk-container-id-1 div.sk-parallel-item:last-child::after {align-self: flex-start;width: 50%;}#sk-container-id-1 div.sk-parallel-item:only-child::after {width: 0;}#sk-container-id-1 div.sk-dashed-wrapped {border: 1px dashed gray;margin: 0 0.4em 0.5em 0.4em;box-sizing: border-box;padding-bottom: 0.4em;background-color: white;}#sk-container-id-1 div.sk-label label {font-family: monospace;font-weight: bold;display: inline-block;line-height: 1.2em;}#sk-container-id-1 div.sk-label-container {text-align: center;}#sk-container-id-1 div.sk-container {/* jupyter's `normalize.less` sets `[hidden] { display: none; }` but bootstrap.min.css set `[hidden] { display: none !important; }` so we also need the `!important` here to be able to override the default hidden behavior on the sphinx rendered scikit-learn.org. See: https://github.com/scikit-learn/scikit-learn/issues/21755 */display: inline-block !important;position: relative;}#sk-container-id-1 div.sk-text-repr-fallback {display: none;}</style><div id=\"sk-container-id-1\" class=\"sk-top-container\"><div class=\"sk-text-repr-fallback\"><pre>KNeighborsClassifier(n_neighbors=3)</pre><b>In a Jupyter environment, please rerun this cell to show the HTML representation or trust the notebook. <br />On GitHub, the HTML representation is unable to render, please try loading this page with nbviewer.org.</b></div><div class=\"sk-container\" hidden><div class=\"sk-item\"><div class=\"sk-estimator sk-toggleable\"><input class=\"sk-toggleable__control sk-hidden--visually\" id=\"sk-estimator-id-1\" type=\"checkbox\" checked><label for=\"sk-estimator-id-1\" class=\"sk-toggleable__label sk-toggleable__label-arrow\">KNeighborsClassifier</label><div class=\"sk-toggleable__content\"><pre>KNeighborsClassifier(n_neighbors=3)</pre></div></div></div></div></div>"
            ]
          },
          "metadata": {},
          "execution_count": 62
        }
      ],
      "source": [
        "# Fit the model\n",
        "happy_3_knn.fit(x_train, y_train)"
      ]
    },
    {
      "cell_type": "code",
      "execution_count": null,
      "metadata": {
        "id": "jnX0X4l75hxV"
      },
      "outputs": [],
      "source": [
        "# predict\n",
        "happy_3_knn_pred = happy_3_knn.predict(x_test)"
      ]
    },
    {
      "cell_type": "code",
      "execution_count": null,
      "metadata": {
        "colab": {
          "base_uri": "https://localhost:8080/"
        },
        "id": "gicUe6GP7rKJ",
        "outputId": "d4b30b33-3744-4529-b2b9-184c5f45a116"
      },
      "outputs": [
        {
          "output_type": "stream",
          "name": "stdout",
          "text": [
            "Accuracy Score:  0.8125\n"
          ]
        }
      ],
      "source": [
        "# Evaluate model\n",
        "print(\"Accuracy Score: \", metrics.accuracy_score(y_test, happy_3_knn_pred))"
      ]
    },
    {
      "cell_type": "code",
      "execution_count": null,
      "metadata": {
        "colab": {
          "base_uri": "https://localhost:8080/",
          "height": 528
        },
        "id": "G6QowvQj7xtO",
        "outputId": "b6ab2700-896e-4cb5-9693-0e19cb179e9e"
      },
      "outputs": [
        {
          "output_type": "execute_result",
          "data": {
            "text/plain": [
              "<sklearn.metrics._plot.confusion_matrix.ConfusionMatrixDisplay at 0x797763042b00>"
            ]
          },
          "metadata": {},
          "execution_count": 65
        },
        {
          "output_type": "display_data",
          "data": {
            "text/plain": [
              "<Figure size 1000x600 with 2 Axes>"
            ],
            "image/png": "[encoded data removed]"
          },
          "metadata": {}
        }
      ],
      "source": [
        "# Confusion Matrix\n",
        "metrics.ConfusionMatrixDisplay.from_estimator(happy_3_knn, x_test, y_test)"
      ]
    },
    {
      "cell_type": "code",
      "execution_count": null,
      "metadata": {
        "colab": {
          "base_uri": "https://localhost:8080/",
          "height": 493
        },
        "id": "BABiXmnMOL_9",
        "outputId": "9946a2c4-c383-4719-b117-cbcf591ac5f3"
      },
      "outputs": [
        {
          "output_type": "stream",
          "name": "stdout",
          "text": [
            "{1: 78.125, 3: 81.25, 5: 81.25, 7: 78.125, 9: 78.125, 11: 78.125, 13: 78.125, 15: 78.125, 17: 78.125, 19: 81.25, 21: 78.125, 23: 78.125, 25: 78.125, 27: 78.125, 29: 78.125, 31: 81.25, 33: 81.25, 35: 81.25, 37: 81.25, 39: 81.25, 41: 81.25, 43: 81.25, 45: 81.25, 47: 81.25, 49: 81.25, 51: 81.25, 53: 81.25, 55: 78.125, 57: 78.125, 59: 78.125, 61: 78.125, 63: 81.25, 65: 68.75, 67: 68.75, 69: 68.75, 71: 68.75, 73: 68.75, 75: 68.75, 77: 68.75, 79: 68.75, 81: 68.75, 83: 68.75, 85: 68.75, 87: 68.75, 89: 68.75, 91: 68.75, 93: 68.75, 95: 68.75, 97: 68.75, 99: 68.75}\n"
          ]
        },
        {
          "output_type": "display_data",
          "data": {
            "text/plain": [
              "<Figure size 1000x600 with 1 Axes>"
            ],
            "image/png": "[encoded data removed]"
          },
          "metadata": {}
        },
        {
          "output_type": "stream",
          "name": "stdout",
          "text": [
            "Top score of optimal classifier: 81.25\n",
            "Best Value of N to use 3\n"
          ]
        }
      ],
      "source": [
        "#KNN Hyperparameter tuning\n",
        "\n",
        "scores = {}\n",
        "for n in range(1,100,2):\n",
        "  full_model = KNeighborsClassifier(n_neighbors= n)\n",
        "  full_model.fit(x_train, y_train.to_numpy().reshape(-1))\n",
        "  pred = full_model.predict(x_test)\n",
        "  score = sum(pred == y_test.to_numpy().reshape(-1))/len(pred) * 100\n",
        "  scores[n] = score\n",
        "\n",
        "plt.title(\"Accuracy on Test set across Hyperparameter values\")\n",
        "print(scores)\n",
        "plt.plot(list(scores.keys()), list(scores.values()), label = 'Scores for all K')\n",
        "\n",
        "# Adding the performance for K = SQRT size for reference\n",
        "k = int(len(x_train)**(1/2)/2) * 2 -1\n",
        "full_model = KNeighborsClassifier(n_neighbors= k)\n",
        "full_model.fit(x_train, y_train.to_numpy().reshape(-1))\n",
        "pred = full_model.predict(x_test)\n",
        "score = sum(pred == y_test.to_numpy().reshape(-1))/len(pred) * 100\n",
        "plt.scatter([k], [score], color = 'r', marker = '*', s = 200, label = 'Square Root of Training Data Size')\n",
        "\n",
        "top_score = max(scores.values())\n",
        "best_k = list(scores.keys())[list(scores.values()).index(top_score)]\n",
        "plt.scatter([best_k],[top_score], color = 'g', marker = '*', s = 200, label = 'Best Performance')\n",
        "\n",
        "plt.legend()\n",
        "plt.show()\n",
        "\n",
        "# Printing the results\n",
        "print(\"Top score of optimal classifier: \" + str(top_score))\n",
        "print(\"Best Value of N to use \" + str(best_k))"
      ]
    },
    {
      "cell_type": "markdown",
      "metadata": {
        "id": "LkdTG0rOoI4u"
      },
      "source": [
        "#### **Step #8: Use the model created using three features**\n",
        "\n",
        "Specifically,\n",
        "\n",
        "1. Predict the happiness score of three countries that reported provided results for their numerical measures.\n",
        "\n",
        "2. Visualize the modeled relationship between `Happinesss Score` and `Social Support` to see if a qualitative relationship can be inferred.\n",
        "\n",
        "3. Look at the coefficients and intercept to determine the modeled relationships quantitatively."
      ]
    },
    {
      "cell_type": "markdown",
      "metadata": {
        "id": "4uf2h5ihoI4u"
      },
      "source": [
        "##### **1. Predict the happiness score of these countries that reported the following results for their numerical measures:**\n",
        "\n",
        "**Country 1**\n",
        "\n",
        "* `GDP`: 0.9\n",
        "* `Social Support`: 0.4\n",
        "* `Healthy Life Expectancy`: 0.8\n",
        "* `Freedom`: 0.4\n",
        "* `Corruption Perception`: 0.2\n",
        "* `Generosity`: 0.09\n",
        "* `Region Encoded`: 0\n",
        "\n",
        "<br>\n",
        "\n",
        "**Country 2**\n",
        "\n",
        "* `GDP`: 0.9\n",
        "* `Social Support`: 0.4\n",
        "* `Healthy Life Expectancy`: 0.8\n",
        "* `Freedom`: 0.4\n",
        "* `Corruption Perception`: 0.2\n",
        "* `Generosity`: 0.09\n",
        "* `Region Encoded`: 9\n",
        "\n",
        "<br>\n",
        "\n",
        "**Country 3**\n",
        "\n",
        "* `GDP`: 1.1\n",
        "* `Social Support`: 0.9\n",
        "* `Healthy Life Expectancy`: 1.01\n",
        "* `Freedom`: 0.9\n",
        "* `Corruption Perception`: 0.1\n",
        "* `Generosity`: 0.9\n",
        "* `Region Encoded`: 4\n",
        "\n",
        "\n",
        "<br>\n",
        "\n",
        "**NOTE**: Since we selected only the top 3 features, you will need to only provide these 3 values for each prediction. Looking at the columns in the X data could be helpful here."
      ]
    },
    {
      "cell_type": "markdown",
      "metadata": {
        "id": "n_m530pxURYA"
      },
      "source": [
        "**Country 1**"
      ]
    },
    {
      "cell_type": "code",
      "execution_count": null,
      "metadata": {
        "id": "MUrziPNcURYB"
      },
      "outputs": [],
      "source": [
        "#Create a dataframe using the Country 1 information in order to predict its happiness score\n",
        "c1_3 = pd.DataFrame([[0.9, 0.4, 0.8]], columns= ['GDP', 'Social Support', 'Healthy Life Expectancy'])"
      ]
    },
    {
      "cell_type": "code",
      "execution_count": null,
      "metadata": {
        "id": "TR4GS-9zURYB"
      },
      "outputs": [],
      "source": [
        "#Linear Regression\n",
        "c1_3_reg_pred = happy_3_reg.predict(c1_3)"
      ]
    },
    {
      "cell_type": "code",
      "execution_count": null,
      "metadata": {
        "id": "xJh9_VT0URYB"
      },
      "outputs": [],
      "source": [
        "#KNN\n",
        "c1_3_knn_pred = happy_3_knn.predict(c1_3)"
      ]
    },
    {
      "cell_type": "code",
      "execution_count": null,
      "metadata": {
        "colab": {
          "base_uri": "https://localhost:8080/"
        },
        "id": "gIj-13ZjURYB",
        "outputId": "b89245ba-e030-480a-d839-e662cfd4d74e"
      },
      "outputs": [
        {
          "output_type": "stream",
          "name": "stdout",
          "text": [
            "Country 1 Linear Regression Prediction:  [4.7309645]\n",
            "Country 1 KNN Prediction:  ['Medium']\n"
          ]
        }
      ],
      "source": [
        "#Prediction Outputs\n",
        "print('Country 1 Linear Regression Prediction: ', c1_3_reg_pred)\n",
        "print('Country 1 KNN Prediction: ', c1_3_knn_pred)"
      ]
    },
    {
      "cell_type": "markdown",
      "metadata": {
        "id": "SUzVcaluURYC"
      },
      "source": [
        "**Country 2**"
      ]
    },
    {
      "cell_type": "code",
      "execution_count": null,
      "metadata": {
        "id": "ROX1favRUx3V"
      },
      "outputs": [],
      "source": [
        "#Create a dataframe using the Country 2 information in order to predict its happiness score\n",
        "c2_3 = pd.DataFrame([[0.9, 0.4, 0.8]], columns= ['GDP', 'Social Support', 'Healthy Life Expectancy'])"
      ]
    },
    {
      "cell_type": "code",
      "execution_count": null,
      "metadata": {
        "id": "vq9Hw0MmUx3Z"
      },
      "outputs": [],
      "source": [
        "#Linear Regression\n",
        "c2_3_reg_pred = happy_3_reg.predict(c2_3)"
      ]
    },
    {
      "cell_type": "code",
      "execution_count": null,
      "metadata": {
        "id": "n9xLmVcRUx3Z"
      },
      "outputs": [],
      "source": [
        "#KNN\n",
        "c2_3_knn_pred = happy_3_knn.predict(c2_3)"
      ]
    },
    {
      "cell_type": "code",
      "execution_count": null,
      "metadata": {
        "colab": {
          "base_uri": "https://localhost:8080/"
        },
        "id": "7EYMryZJUx3Z",
        "outputId": "0bcaf028-6e37-4c58-9582-ebd9831e7644"
      },
      "outputs": [
        {
          "output_type": "stream",
          "name": "stdout",
          "text": [
            "Country 2 Linear Regression Prediction:  [4.7309645]\n",
            "Country 2 KNN Prediction:  ['Medium']\n"
          ]
        }
      ],
      "source": [
        "#Prediction Outputs\n",
        "print('Country 2 Linear Regression Prediction: ', c2_3_reg_pred)\n",
        "print('Country 2 KNN Prediction: ', c2_3_knn_pred)"
      ]
    },
    {
      "cell_type": "markdown",
      "metadata": {
        "id": "nPKklEeOURYC"
      },
      "source": [
        "**Country 3**"
      ]
    },
    {
      "cell_type": "code",
      "execution_count": null,
      "metadata": {
        "id": "IjJIrnYyU1Q8"
      },
      "outputs": [],
      "source": [
        "#Create a dataframe using the Country 3 information in order to predict its happiness score\n",
        "c3_3 = pd.DataFrame([[1.1, 0.9, 1.01]], columns= ['GDP', 'Social Support', 'Healthy Life Expectancy'])"
      ]
    },
    {
      "cell_type": "code",
      "execution_count": null,
      "metadata": {
        "id": "bS4bTqVVU1RC"
      },
      "outputs": [],
      "source": [
        "#Linear Regression\n",
        "c3_3_reg_pred = happy_3_reg.predict(c3_3)"
      ]
    },
    {
      "cell_type": "code",
      "execution_count": null,
      "metadata": {
        "id": "6f4Odd2FU1RC"
      },
      "outputs": [],
      "source": [
        "#KNN\n",
        "c3_3_knn_pred = happy_3_knn.predict(c3_3)"
      ]
    },
    {
      "cell_type": "code",
      "execution_count": null,
      "metadata": {
        "colab": {
          "base_uri": "https://localhost:8080/"
        },
        "id": "4GU2dJxaU1RC",
        "outputId": "4670a15e-25be-4c2a-aa90-5616ef4b9d72"
      },
      "outputs": [
        {
          "output_type": "stream",
          "name": "stdout",
          "text": [
            "Country 3 Linear Regression Prediction:  [5.93632796]\n",
            "Country 3 KNN Prediction:  ['Medium']\n"
          ]
        }
      ],
      "source": [
        "#Prediction Outputs\n",
        "print('Country 3 Linear Regression Prediction: ', c3_3_reg_pred)\n",
        "print('Country 3 KNN Prediction: ', c3_3_knn_pred)"
      ]
    },
    {
      "cell_type": "markdown",
      "metadata": {
        "id": "XgCGVW51cAXk"
      },
      "source": [
        "##### **2. Visualize the modeled relationship between `Happinesss Score` and `Social Support` to see if a qualitative relationship can be inferred.**"
      ]
    },
    {
      "cell_type": "code",
      "execution_count": null,
      "metadata": {
        "colab": {
          "base_uri": "https://localhost:8080/",
          "height": 424
        },
        "id": "Xv0uf7u-cAXk",
        "outputId": "c55ebe33-99a2-48be-cc07-71f420eaefc9"
      },
      "outputs": [
        {
          "output_type": "display_data",
          "data": {
            "text/plain": [
              "<Figure size 1000x600 with 1 Axes>"
            ],
            "image/png": "[encoded data removed]"
          },
          "metadata": {}
        }
      ],
      "source": [
        "x = happy_3_reg_pred\n",
        "y = x_test['Social Support']\n",
        "\n",
        "plt.scatter(x, y)\n",
        "plt.xlabel('Happiness Score')\n",
        "plt.ylabel('Social Support')\n",
        "plt.title('Happiness Score vs. Social Support')\n",
        "plt.show()"
      ]
    },
    {
      "cell_type": "markdown",
      "metadata": {
        "id": "NzZhcWxI2SCo"
      },
      "source": [
        "##### **3. *If you used linear regression*, complete the cells below to look at the coefficients and intercept to determine the modeled relationships quantitatively.**"
      ]
    },
    {
      "cell_type": "code",
      "execution_count": null,
      "metadata": {
        "colab": {
          "base_uri": "https://localhost:8080/"
        },
        "outputId": "6445b530-fc14-4cb2-9bb3-ae5f389c9b4f",
        "id": "ar7Iu45G2SCp"
      },
      "outputs": [
        {
          "output_type": "stream",
          "name": "stdout",
          "text": [
            "Linear Regression Coefficients: \n",
            "[0.88382662 1.51175223 1.29867629]\n",
            "\n",
            "\n",
            "Linear Regression Intercept: \n",
            "2.291878617692288\n"
          ]
        }
      ],
      "source": [
        "print('Linear Regression Coefficients: ')\n",
        "print(happy_3_reg.coef_)\n",
        "print('\\n')\n",
        "print('Linear Regression Intercept: ')\n",
        "print(happy_3_reg.intercept_)"
      ]
    },
    {
      "cell_type": "markdown",
      "metadata": {
        "id": "j3uA4BEp5qgI"
      },
      "source": [
        "#### **Reflection Questions-Provide your answer after each question**\n",
        "\n",
        "Now that you have trained several models to accomplish this task, answer the following questions:\n",
        "\n",
        "1. Were there any hyperparameters you need to tune and, if so, what were the best values you found?\n",
        "\n",
        "  - The KNN algorithm has the hyperparameter \"n_neighbors\" that can be adjusted. After doing hyperparameter tuning, n = 3 was the best performing value.\n",
        "\n",
        "2. Did selecting a smaller number of features improve or decrease the performance of your model?\n",
        "\n",
        "  - Decreasing the number of features decreased the performance of the models. The MSE for linear regression increased from 0.246 to 0.273, and the accuracy of the knn model decreased from 93.75% to 81.25%.\n",
        "\n",
        "3. What 3 variables seem to play the largest role in determining `Happiness Score` based on your work in this part?\n",
        "\n",
        "  - The features GDP, Social Support, and Healthy Life Expectancy play the largest role in determining Happiness Score; however, including region would most likely increase the accuracy of the models compared to only including these three features."
      ]
    },
    {
      "cell_type": "markdown",
      "metadata": {
        "id": "N3kzhso_E5md"
      },
      "source": [
        "# Sources used:\n",
        "Problem 1.5: https://www.geeksforgeeks.org/selecting-rows-in-pandas-dataframe-based-on-conditions/\n",
        "\n",
        "Problem 1.8: https://stackoverflow.com/questions/28218698/how-to-iterate-over-columns-of-a-pandas-dataframe\n",
        "\n",
        "Problem 1.9: https://www.geeksforgeeks.org/how-to-convert-categorical-variable-to-numeric-in-pandas/\n",
        "\n",
        "Part 1 Reflection Question #2: https://stackoverflow.com/questions/40183800/pandas-difference-between-largest-and-smallest-value-within-group\n",
        "\n",
        "Visualizations: https://www.scaler.com/topics/matplotlib/scatter-plot-matplotlib/"
      ]
    }
  ],
  "metadata": {
    "colab": {
      "collapsed_sections": [
        "B8J2nKMeEA34",
        "ewxAlHaobC66",
        "VciZBGV1bc9X",
        "Lf5OrHhNifXL",
        "j6ELbxOz1dEJ",
        "nuqWq13eibD-",
        "xAwf4Xu5oI4s",
        "5Byu8rM-oI4t",
        "eYgfv8YnoI4t",
        "q52eDLqFSBhY",
        "WyUQzTdsSWND",
        "LkdTG0rOoI4u",
        "4uf2h5ihoI4u",
        "X7u4GtMToI4v",
        "D9CMuXQAE5GY",
        "djC1sj3oE5GZ",
        "KWsq7ReOE5GZ",
        "XGNNOAncSEDM",
        "9nk_tLXnE5GZ",
        "wdbPdS_BSXpY",
        "6dbGqSTJE5Ga",
        "jZ9_kHbOE5Gb",
        "nuCRbGKnE5Gb",
        "FpdqzlZeSGC7",
        "rj_z82LaKgtR",
        "dKfkcxpVSY-G",
        "85CBoOvZKgtS"
      ],
      "provenance": []
    },
    "kernelspec": {
      "display_name": "Python 3 (ipykernel)",
      "language": "python",
      "name": "python3"
    },
    "language_info": {
      "codemirror_mode": {
        "name": "ipython",
        "version": 3
      },
      "file_extension": ".py",
      "mimetype": "text/x-python",
      "name": "python",
      "nbconvert_exporter": "python",
      "pygments_lexer": "ipython3",
      "version": "3.9.7"
    }
  },
  "nbformat": 4,
  "nbformat_minor": 0
}